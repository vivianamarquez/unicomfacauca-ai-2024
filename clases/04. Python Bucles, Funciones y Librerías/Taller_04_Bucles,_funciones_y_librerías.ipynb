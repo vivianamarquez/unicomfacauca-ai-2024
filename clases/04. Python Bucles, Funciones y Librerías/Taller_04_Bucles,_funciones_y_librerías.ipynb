{
  "nbformat": 4,
  "nbformat_minor": 0,
  "metadata": {
    "colab": {
      "provenance": []
    },
    "kernelspec": {
      "name": "python3",
      "display_name": "Python 3"
    },
    "language_info": {
      "name": "python"
    }
  },
  "cells": [
    {
      "cell_type": "markdown",
      "source": [
        "## Ejercicio 1\n",
        "\n",
        "Completa el código a continuación para escribir un bucle for que sume todos los números en una lista.\n",
        "\n",
        "Por ejemplo, si numeros = `[1, 2, 3]`, entonces la suma total será `6`."
      ],
      "metadata": {
        "id": "8tPKzKr-Vk2V"
      }
    },
    {
      "cell_type": "code",
      "source": [
        "numeros = [3, 6, 8, 7, 1, 2]"
      ],
      "metadata": {
        "id": "uqnQYsqdV5mq"
      },
      "execution_count": 50,
      "outputs": []
    },
    {
      "cell_type": "code",
      "source": [],
      "metadata": {
        "id": "GDC85k1fV_gV"
      },
      "execution_count": null,
      "outputs": []
    },
    {
      "cell_type": "code",
      "source": [
        "print('Suma de los números:', total)"
      ],
      "metadata": {
        "id": "JzTKbE7RV8wW"
      },
      "execution_count": null,
      "outputs": []
    },
    {
      "cell_type": "markdown",
      "source": [
        "## Ejercicio 2\n",
        "\n",
        "Crea una función que reciba un numero y regrese como resultado si el número es par o impar"
      ],
      "metadata": {
        "id": "RUF0BDLjZQ8A"
      }
    },
    {
      "cell_type": "code",
      "source": [
        "def"
      ],
      "metadata": {
        "id": "7q_yC3F8ZSXn"
      },
      "execution_count": null,
      "outputs": []
    },
    {
      "cell_type": "markdown",
      "source": [
        "# Ejercicio 3\n",
        "\n",
        "Haz una pequeña búsqueda en Google y encuentra una librería de Python que te llame la atención. Útilizala aquí abajo:"
      ],
      "metadata": {
        "id": "l2Ij4OvGwwVJ"
      }
    },
    {
      "cell_type": "code",
      "source": [],
      "metadata": {
        "id": "nOOzetTtw5cv"
      },
      "execution_count": null,
      "outputs": []
    }
  ]
}