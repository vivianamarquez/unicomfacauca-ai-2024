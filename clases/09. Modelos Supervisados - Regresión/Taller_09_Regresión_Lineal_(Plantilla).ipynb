{
  "nbformat": 4,
  "nbformat_minor": 0,
  "metadata": {
    "colab": {
      "provenance": []
    },
    "kernelspec": {
      "name": "python3",
      "display_name": "Python 3"
    },
    "language_info": {
      "name": "python"
    }
  },
  "cells": [
    {
      "cell_type": "markdown",
      "source": [
        "# Taller 9: Regresión Lineal\n",
        "\n",
        "# Completa el código o el texto donde haya unicornios 🦄"
      ],
      "metadata": {
        "id": "xis3_BnsZXmN"
      }
    },
    {
      "cell_type": "code",
      "source": [
        "import numpy as np\n",
        "import pandas as pd\n",
        "import seaborn as sns\n",
        "\n",
        "from sklearn.model_selection import train_test_split\n",
        "from sklearn.preprocessing import OneHotEncoder, StandardScaler\n",
        "from sklearn.compose import ColumnTransformer\n",
        "from sklearn.linear_model import LinearRegression\n",
        "from sklearn.metrics import mean_squared_error, r2_score"
      ],
      "metadata": {
        "id": "E787b81rTaSn"
      },
      "execution_count": null,
      "outputs": []
    },
    {
      "cell_type": "markdown",
      "source": [
        "# Objetivo\n",
        "\n",
        "Vamos a trabajar con el conjunto de datos **\"Auto MPG\"**. El objetivo de este proyecto es crear un modelo que pueda predecir la eficiencia de combustible (medida en millas por galón, MPG) de un automóvil, dado sus características técnicas (peso, número de cilindros, caballos de fuerza, año de fabricación, etc.).\n",
        "\n",
        "\n",
        "Este problema puede resolverse construyendo un modelo de regresión que tome como entrada variables como el número de cilindros, el peso del automóvil, la potencia del motor (caballos de fuerza), la aceleración y el año del modelo, y prediga la eficiencia de combustible (MPG) como salida."
      ],
      "metadata": {
        "id": "CpGsId40Ucmb"
      }
    },
    {
      "cell_type": "markdown",
      "source": [
        "# Cargar los datos\n"
      ],
      "metadata": {
        "id": "rTWjx-wrTV6L"
      }
    },
    {
      "cell_type": "code",
      "execution_count": null,
      "metadata": {
        "id": "o-oaMrQoTElf"
      },
      "outputs": [],
      "source": [
        "# Cargar el conjunto de datos Auto MPG desde Seaborn\n",
        "df = sns.load_dataset('mpg').dropna()"
      ]
    },
    {
      "cell_type": "code",
      "source": [
        "df.head()"
      ],
      "metadata": {
        "id": "imA_UgFyT7tr"
      },
      "execution_count": null,
      "outputs": []
    },
    {
      "cell_type": "markdown",
      "source": [
        "| Columna         | Nombre en Español         | Explicación                                                         |\n",
        "|-----------------|---------------------------|---------------------------------------------------------------------|\n",
        "| mpg             | millas por galón           | Eficiencia de combustible en millas por galón.                      |\n",
        "| cylinders       | cilindros                  | Número de cilindros del motor.                                      |\n",
        "| displacement    | desplazamiento             | Desplazamiento del motor en pulgadas cúbicas.                       |\n",
        "| horsepower      | caballos de fuerza         | Potencia del motor en caballos de fuerza.                           |\n",
        "| weight          | peso                       | Peso del automóvil en libras.                                       |\n",
        "| acceleration    | aceleración                | Tiempo en segundos para acelerar de 0 a 60 millas por hora.         |\n",
        "| model_year      | año del modelo             | Año de fabricación del automóvil.                                   |\n",
        "| origin          | origen                     | Región de origen del automóvil.        |\n",
        "| name            | nombre                     | Nombre o modelo del automóvil.                                      |\n"
      ],
      "metadata": {
        "id": "QWryDY-vVY5e"
      }
    },
    {
      "cell_type": "markdown",
      "source": [
        "# Análisis Exploratorio de Datos\n",
        "### (Opcional por puntos extras) 🦄"
      ],
      "metadata": {
        "id": "9_zELmJJU-2v"
      }
    },
    {
      "cell_type": "markdown",
      "source": [
        "# ⚠️ Dividir datos en entrenamiento (train) y prueba (test) ⚠️\n",
        "\n",
        "Es **crucial** dividir los datos en conjuntos de entrenamiento y prueba **ANTES** de realizar cualquier ingeniería de características o entrenar el modelo.\n",
        "\n",
        "Si transformas los datos antes de hacer la división, puedes permitir que información del conjunto de prueba se mezcle con los datos de entrenamiento. Esto provoca un sobreajuste, donde el modelo parece funcionar muy bien, pero en realidad no refleja su rendimiento en datos nuevos o desconocidos."
      ],
      "metadata": {
        "id": "L8D6jjOmVG53"
      }
    },
    {
      "cell_type": "code",
      "source": [
        "# Definir las características (X) y la variable objetivo (y)\n",
        "X = df.drop(columns=['mpg', 'name'])  # Aquí estamos eliminando la columna objetivo y la columna \"name\" ya que tiene muchas categorias únicas\n",
        "y = df['mpg']  # Esta es nuestra variable objetivo"
      ],
      "metadata": {
        "id": "sgVZA6MCU66M"
      },
      "execution_count": null,
      "outputs": []
    },
    {
      "cell_type": "code",
      "source": [
        "# Dividir el conjunto de datos en entrenamiento (train) y prueba (test)\n",
        "X_train, X_test, y_train, y_test = train_test_split(X, y, test_size=0.2)"
      ],
      "metadata": {
        "id": "zGrIjDodXi2M"
      },
      "execution_count": null,
      "outputs": []
    },
    {
      "cell_type": "code",
      "source": [
        "# Ver el tamaño de los conjuntos\n",
        "print(f\"Tamaño del conjunto de entrenamiento: {X_train.shape}. Tamaño de las etiquetas de entrenamiento: {y_train.shape}\")\n",
        "print(f\"Tamaño del conjunto de prueba: {X_test.shape}. Tamaño de las etiquetas de prueba: {y_test.shape}\")"
      ],
      "metadata": {
        "id": "q66LXRf2Xk3E"
      },
      "execution_count": null,
      "outputs": []
    },
    {
      "cell_type": "markdown",
      "source": [
        "# Ingeniería de características"
      ],
      "metadata": {
        "id": "JHZPXGjEXH9k"
      }
    },
    {
      "cell_type": "code",
      "source": [
        "# Define cuáles columnas son categoricas y cuáles son numéricas\n",
        "categorical_columns = 🦄🦄🦄\n",
        "numerical_columns = 🦄🦄🦄"
      ],
      "metadata": {
        "id": "0amjdV8NXCh3"
      },
      "execution_count": null,
      "outputs": []
    },
    {
      "cell_type": "code",
      "source": [
        "# Crea un preprocesador que aplique tanto one-hot encoding para las variables categóricas como escalado para las variables numéricas.\n",
        "preprocessor = ColumnTransformer(\n",
        "    transformers=[\n",
        "        ('num', StandardScaler(), numerical_columns),  # Estandarizar características numéricas\n",
        "        ('cat', OneHotEncoder(), categorical_columns)  # Codificación one-hot para las características categóricas\n",
        "    ])"
      ],
      "metadata": {
        "id": "SdziqPzcXYL_"
      },
      "execution_count": null,
      "outputs": []
    },
    {
      "cell_type": "code",
      "source": [
        "X_train_processed = preprocessor.fit_transform(X_train)\n",
        "X_test_processed = preprocessor.transform(X_test)"
      ],
      "metadata": {
        "id": "UkZUywRZXdAc"
      },
      "execution_count": null,
      "outputs": []
    },
    {
      "cell_type": "code",
      "source": [
        "# Los nombres de las columnas numéricas columnas no cambian después de la transformación\n",
        "nombres_columnas_numericas = numerical_columns\n",
        "\n",
        "# El método get_feature_names_out genera los nombres de las nuevas columnas creadas por OneHotEncoder para las columnas categóricas\n",
        "nombres_columnas_categoricas = preprocessor.named_transformers_['cat'].get_feature_names_out(categorical_columns)\n",
        "\n",
        "# Combinar los nombres de las columnas numéricas y categóricas en una lista\n",
        "nombres_todas_las_columnas = list(nombres_columnas_numericas) + list(nombres_columnas_categoricas)\n",
        "\n",
        "nombres_todas_las_columnas"
      ],
      "metadata": {
        "id": "-Yykl1cJXhJF"
      },
      "execution_count": null,
      "outputs": []
    },
    {
      "cell_type": "markdown",
      "source": [
        "# Modelaje: Regresion Lineal"
      ],
      "metadata": {
        "id": "BJYOY7qgXzum"
      }
    },
    {
      "cell_type": "code",
      "source": [
        "# Entrenamos la regresión lineal\n",
        "model = LinearRegression()\n",
        "model.fit(X_train_processed, y_train)"
      ],
      "metadata": {
        "id": "oE_jzzztXxL7"
      },
      "execution_count": null,
      "outputs": []
    },
    {
      "cell_type": "markdown",
      "source": [
        "# Evaluación del modelo"
      ],
      "metadata": {
        "id": "5r1NvMeHYPFT"
      }
    },
    {
      "cell_type": "code",
      "source": [
        "# Predicciones\n",
        "y_pred = model.predict(X_test_processed)"
      ],
      "metadata": {
        "id": "QZZfrc7ZX2Km"
      },
      "execution_count": null,
      "outputs": []
    },
    {
      "cell_type": "code",
      "source": [
        "# Cálculo del RMSE (Root Mean Squared Error)\n",
        "rmse = np.sqrt(mean_squared_error(y_test, y_pred))\n",
        "print(f'RMSE: {rmse}')"
      ],
      "metadata": {
        "id": "aDi9PwTJYWwp"
      },
      "execution_count": null,
      "outputs": []
    },
    {
      "cell_type": "code",
      "source": [
        "# Cálculo del R² (Coeficiente de Determinación)\n",
        "r2 = r2_score(y_test, y_pred)\n",
        "print(f'R²: {r2}')"
      ],
      "metadata": {
        "id": "ozz5vHZCYYsX"
      },
      "execution_count": null,
      "outputs": []
    },
    {
      "cell_type": "markdown",
      "source": [
        "### RMSE (Raíz del Error Cuadrático Medio): 🦄🦄🦄\n",
        "- **Interpretación**: El RMSE es una medida de la magnitud promedio del error entre las predicciones del modelo y los valores reales. En este caso, un RMSE de 🦄🦄🦄 significa que, en promedio, el modelo comete un error de alrededor de 🦄🦄🦄 al predecir 🦄🦄🦄.\n",
        "\n",
        "- **¿Qué tan bueno es?**: 🦄🦄🦄\n",
        "\n",
        "### R² (Coeficiente de Determinación): 🦄🦄🦄\n",
        "- **Interpretación**: El R² indica qué proporción de la varianza en los datos está siendo explicada por el modelo. Un R² de 🦄🦄🦄 significa que el 🦄🦄🦄 de la variación en 🦄🦄🦄 puede ser explicada por las variables del modelo.\n",
        "\n",
        "- **¿Qué tan bueno es?**: 🦄🦄🦄"
      ],
      "metadata": {
        "id": "OgpOvfSEaaoq"
      }
    },
    {
      "cell_type": "markdown",
      "source": [
        "# Interpretando el modelo"
      ],
      "metadata": {
        "id": "t8rHx0e4YcfU"
      }
    },
    {
      "cell_type": "code",
      "source": [
        "# Coeficientes del modelo\n",
        "coeficientes = model.coef_"
      ],
      "metadata": {
        "id": "KvAaFdLkYZ5Y"
      },
      "execution_count": null,
      "outputs": []
    },
    {
      "cell_type": "code",
      "source": [
        "for nombre, coef in zip(nombres_todas_las_columnas, coeficientes):\n",
        "    print(f\"Característica: {nombre:<20} Coeficiente: {coef:.4f}\")"
      ],
      "metadata": {
        "id": "srdndG1AYfBo"
      },
      "execution_count": null,
      "outputs": []
    },
    {
      "cell_type": "code",
      "source": [
        "# Obtener el valor de la intersección\n",
        "intercepto = model.intercept_\n",
        "intercepto"
      ],
      "metadata": {
        "id": "ZXVHZU-oYgNm"
      },
      "execution_count": null,
      "outputs": []
    },
    {
      "cell_type": "code",
      "source": [
        "df.select_dtypes(include=['number']).std().to_frame(name='Desviación Estándar').rename_axis('Característica')"
      ],
      "metadata": {
        "id": "upQ0JNsaYqh7"
      },
      "execution_count": null,
      "outputs": []
    },
    {
      "cell_type": "markdown",
      "source": [
        "### Interpretación de los valores de los coeficientes y la intersección:\n",
        "\n",
        "1. **Intersección (y-intercept): `🦄🦄🦄`**\n",
        "\n",
        "Este es el valor esperado de ... 🦄🦄🦄\n",
        "\n",
        "2. **Coeficientes del modelo:**\n",
        "\n",
        "Cada coeficiente representa el cambio esperado en ... 🦄🦄🦄 . Vamos a interpretar cada uno de ellos:\n",
        "\n",
        "  - **Cilindros: 🦄🦄🦄🦄**\n",
        "  \n",
        "  Por cada 🦄🦄🦄, se espera que 🦄🦄🦄🦄, asumiendo que las demás variables se mantienen constantes.\n",
        "\n",
        "  - **Desplazamiento: 🦄🦄🦄🦄**\n",
        "  \n",
        "  Por cada 🦄🦄🦄, se espera que 🦄🦄🦄🦄, asumiendo que las demás variables se mantienen constantes.\n",
        "\n",
        "  - **Caballos de fuerza: 🦄🦄🦄🦄**\n",
        "  \n",
        "  Por cada 🦄🦄🦄, se espera que 🦄🦄🦄🦄, asumiendo que las demás variables se mantienen constantes.\n",
        "\n",
        "   - **Peso: 🦄🦄🦄🦄**\n",
        "  \n",
        "  Por cada 🦄🦄🦄, se espera que 🦄🦄🦄🦄, asumiendo que las demás variables se mantienen constantes.\n",
        "\n",
        "  - **Aceleración: 🦄🦄🦄🦄**\n",
        "  \n",
        "  Por cada 🦄🦄🦄, se espera que 🦄🦄🦄🦄, asumiendo que las demás variables se mantienen constantes.\n",
        "\n",
        "  - **Año del modelo: 🦄🦄🦄🦄**\n",
        "  \n",
        "  Por cada 🦄🦄🦄, se espera que 🦄🦄🦄🦄, asumiendo que las demás variables se mantienen constantes.\n",
        "\n",
        "  - **Origen: 🦄🦄🦄🦄**\n",
        "  \n",
        "    - 🦄🦄🦄🦄\n",
        "    - 🦄🦄🦄🦄\n",
        "    - 🦄🦄🦄🦄\n",
        "\n",
        "  "
      ],
      "metadata": {
        "id": "tSbPu2HFZlLz"
      }
    },
    {
      "cell_type": "markdown",
      "source": [
        "# Recomendaciones y conclusiones\n",
        "\n",
        "Es fundamental para los científicos de datos interpretar su modelo y dar recomendaciones de negocio porque el objetivo final del análisis no es solo desarrollar modelos precisos, sino generar valor real para la organización o empresa. Los modelos de machine learning y análisis estadístico por sí mismos no son útiles si las partes interesadas no comprenden cómo pueden aplicarse a la toma de decisiones. Los científicos de datos deben ser capaces de traducir los resultados técnicos (como coeficientes, métricas de rendimiento, etc.) en recomendaciones de negocio accionables.\n",
        "\n",
        "🦄🦄🦄 🦄🦄🦄 🦄🦄🦄"
      ],
      "metadata": {
        "id": "xKEVhfu1YjlX"
      }
    },
    {
      "cell_type": "markdown",
      "source": [
        "\n",
        "\n",
        "---\n",
        "\n",
        "# (Opcional por puntos extras) Ensayar otros modelos de regresión, evaluarlos, y determinar cuál tiene el mejor rendimiento. 🦄"
      ],
      "metadata": {
        "id": "mkGd5sdxa4S5"
      }
    },
    {
      "cell_type": "code",
      "source": [],
      "metadata": {
        "id": "HvDR03jpYiKB"
      },
      "execution_count": null,
      "outputs": []
    }
  ]
}