{
  "cells": [
    {
      "cell_type": "code",
      "source": [
        "import tensorflow as tf\n",
        "print(tf.__version__)"
      ],
      "metadata": {
        "colab": {
          "base_uri": "https://localhost:8080/"
        },
        "id": "RtcGCuwh3ewq",
        "outputId": "0e9f14fb-3e80-4ae0-feb2-1e5dc1a9e3e0"
      },
      "execution_count": 1,
      "outputs": [
        {
          "output_type": "stream",
          "name": "stdout",
          "text": [
            "2.8.0\n"
          ]
        }
      ]
    },
    {
      "cell_type": "code",
      "source": [
        "!pip install tensorflow==2.8"
      ],
      "metadata": {
        "colab": {
          "base_uri": "https://localhost:8080/",
          "height": 1000
        },
        "id": "OS67Sx7x3fuv",
        "outputId": "70ebfcbf-21fa-48bf-8c75-71ddfec44d63"
      },
      "execution_count": 60,
      "outputs": [
        {
          "output_type": "stream",
          "name": "stdout",
          "text": [
            "Collecting tensorflow==2.8\n",
            "  Downloading tensorflow-2.8.0-cp310-cp310-manylinux2010_x86_64.whl.metadata (2.9 kB)\n",
            "Requirement already satisfied: absl-py>=0.4.0 in /usr/local/lib/python3.10/dist-packages (from tensorflow==2.8) (1.4.0)\n",
            "Requirement already satisfied: astunparse>=1.6.0 in /usr/local/lib/python3.10/dist-packages (from tensorflow==2.8) (1.6.3)\n",
            "Requirement already satisfied: flatbuffers>=1.12 in /usr/local/lib/python3.10/dist-packages (from tensorflow==2.8) (24.3.25)\n",
            "Requirement already satisfied: gast>=0.2.1 in /usr/local/lib/python3.10/dist-packages (from tensorflow==2.8) (0.6.0)\n",
            "Requirement already satisfied: google-pasta>=0.1.1 in /usr/local/lib/python3.10/dist-packages (from tensorflow==2.8) (0.2.0)\n",
            "Requirement already satisfied: h5py>=2.9.0 in /usr/local/lib/python3.10/dist-packages (from tensorflow==2.8) (3.12.1)\n",
            "Collecting keras-preprocessing>=1.1.1 (from tensorflow==2.8)\n",
            "  Downloading Keras_Preprocessing-1.1.2-py2.py3-none-any.whl.metadata (1.9 kB)\n",
            "Requirement already satisfied: libclang>=9.0.1 in /usr/local/lib/python3.10/dist-packages (from tensorflow==2.8) (18.1.1)\n",
            "Requirement already satisfied: numpy>=1.20 in /usr/local/lib/python3.10/dist-packages (from tensorflow==2.8) (1.26.4)\n",
            "Requirement already satisfied: opt-einsum>=2.3.2 in /usr/local/lib/python3.10/dist-packages (from tensorflow==2.8) (3.4.0)\n",
            "Requirement already satisfied: protobuf>=3.9.2 in /usr/local/lib/python3.10/dist-packages (from tensorflow==2.8) (3.20.3)\n",
            "Requirement already satisfied: setuptools in /usr/local/lib/python3.10/dist-packages (from tensorflow==2.8) (75.1.0)\n",
            "Requirement already satisfied: six>=1.12.0 in /usr/local/lib/python3.10/dist-packages (from tensorflow==2.8) (1.16.0)\n",
            "Requirement already satisfied: termcolor>=1.1.0 in /usr/local/lib/python3.10/dist-packages (from tensorflow==2.8) (2.5.0)\n",
            "Requirement already satisfied: typing-extensions>=3.6.6 in /usr/local/lib/python3.10/dist-packages (from tensorflow==2.8) (4.12.2)\n",
            "Requirement already satisfied: wrapt>=1.11.0 in /usr/local/lib/python3.10/dist-packages (from tensorflow==2.8) (1.16.0)\n",
            "Collecting tensorboard<2.9,>=2.8 (from tensorflow==2.8)\n",
            "  Downloading tensorboard-2.8.0-py3-none-any.whl.metadata (1.9 kB)\n",
            "Collecting tf-estimator-nightly==2.8.0.dev2021122109 (from tensorflow==2.8)\n",
            "  Downloading tf_estimator_nightly-2.8.0.dev2021122109-py2.py3-none-any.whl.metadata (1.2 kB)\n",
            "Collecting keras<2.9,>=2.8.0rc0 (from tensorflow==2.8)\n",
            "  Downloading keras-2.8.0-py2.py3-none-any.whl.metadata (1.3 kB)\n",
            "Requirement already satisfied: tensorflow-io-gcs-filesystem>=0.23.1 in /usr/local/lib/python3.10/dist-packages (from tensorflow==2.8) (0.37.1)\n",
            "Requirement already satisfied: grpcio<2.0,>=1.24.3 in /usr/local/lib/python3.10/dist-packages (from tensorflow==2.8) (1.64.1)\n",
            "Requirement already satisfied: wheel<1.0,>=0.23.0 in /usr/local/lib/python3.10/dist-packages (from astunparse>=1.6.0->tensorflow==2.8) (0.44.0)\n",
            "Requirement already satisfied: google-auth<3,>=1.6.3 in /usr/local/lib/python3.10/dist-packages (from tensorboard<2.9,>=2.8->tensorflow==2.8) (2.27.0)\n",
            "Collecting google-auth-oauthlib<0.5,>=0.4.1 (from tensorboard<2.9,>=2.8->tensorflow==2.8)\n",
            "  Downloading google_auth_oauthlib-0.4.6-py2.py3-none-any.whl.metadata (2.7 kB)\n",
            "Requirement already satisfied: markdown>=2.6.8 in /usr/local/lib/python3.10/dist-packages (from tensorboard<2.9,>=2.8->tensorflow==2.8) (3.7)\n",
            "Requirement already satisfied: requests<3,>=2.21.0 in /usr/local/lib/python3.10/dist-packages (from tensorboard<2.9,>=2.8->tensorflow==2.8) (2.32.3)\n",
            "Collecting tensorboard-data-server<0.7.0,>=0.6.0 (from tensorboard<2.9,>=2.8->tensorflow==2.8)\n",
            "  Downloading tensorboard_data_server-0.6.1-py3-none-manylinux2010_x86_64.whl.metadata (1.1 kB)\n",
            "Collecting tensorboard-plugin-wit>=1.6.0 (from tensorboard<2.9,>=2.8->tensorflow==2.8)\n",
            "  Downloading tensorboard_plugin_wit-1.8.1-py3-none-any.whl.metadata (873 bytes)\n",
            "Requirement already satisfied: werkzeug>=0.11.15 in /usr/local/lib/python3.10/dist-packages (from tensorboard<2.9,>=2.8->tensorflow==2.8) (3.0.6)\n",
            "Requirement already satisfied: cachetools<6.0,>=2.0.0 in /usr/local/lib/python3.10/dist-packages (from google-auth<3,>=1.6.3->tensorboard<2.9,>=2.8->tensorflow==2.8) (5.5.0)\n",
            "Requirement already satisfied: pyasn1-modules>=0.2.1 in /usr/local/lib/python3.10/dist-packages (from google-auth<3,>=1.6.3->tensorboard<2.9,>=2.8->tensorflow==2.8) (0.4.1)\n",
            "Requirement already satisfied: rsa<5,>=3.1.4 in /usr/local/lib/python3.10/dist-packages (from google-auth<3,>=1.6.3->tensorboard<2.9,>=2.8->tensorflow==2.8) (4.9)\n",
            "Requirement already satisfied: requests-oauthlib>=0.7.0 in /usr/local/lib/python3.10/dist-packages (from google-auth-oauthlib<0.5,>=0.4.1->tensorboard<2.9,>=2.8->tensorflow==2.8) (1.3.1)\n",
            "Requirement already satisfied: charset-normalizer<4,>=2 in /usr/local/lib/python3.10/dist-packages (from requests<3,>=2.21.0->tensorboard<2.9,>=2.8->tensorflow==2.8) (3.4.0)\n",
            "Requirement already satisfied: idna<4,>=2.5 in /usr/local/lib/python3.10/dist-packages (from requests<3,>=2.21.0->tensorboard<2.9,>=2.8->tensorflow==2.8) (3.10)\n",
            "Requirement already satisfied: urllib3<3,>=1.21.1 in /usr/local/lib/python3.10/dist-packages (from requests<3,>=2.21.0->tensorboard<2.9,>=2.8->tensorflow==2.8) (2.2.3)\n",
            "Requirement already satisfied: certifi>=2017.4.17 in /usr/local/lib/python3.10/dist-packages (from requests<3,>=2.21.0->tensorboard<2.9,>=2.8->tensorflow==2.8) (2024.8.30)\n",
            "Requirement already satisfied: MarkupSafe>=2.1.1 in /usr/local/lib/python3.10/dist-packages (from werkzeug>=0.11.15->tensorboard<2.9,>=2.8->tensorflow==2.8) (3.0.2)\n",
            "Requirement already satisfied: pyasn1<0.7.0,>=0.4.6 in /usr/local/lib/python3.10/dist-packages (from pyasn1-modules>=0.2.1->google-auth<3,>=1.6.3->tensorboard<2.9,>=2.8->tensorflow==2.8) (0.6.1)\n",
            "Requirement already satisfied: oauthlib>=3.0.0 in /usr/local/lib/python3.10/dist-packages (from requests-oauthlib>=0.7.0->google-auth-oauthlib<0.5,>=0.4.1->tensorboard<2.9,>=2.8->tensorflow==2.8) (3.2.2)\n",
            "Downloading tensorflow-2.8.0-cp310-cp310-manylinux2010_x86_64.whl (497.6 MB)\n",
            "\u001b[2K   \u001b[90m━━━━━━━━━━━━━━━━━━━━━━━━━━━━━━━━━━━━━━━━\u001b[0m \u001b[32m497.6/497.6 MB\u001b[0m \u001b[31m3.4 MB/s\u001b[0m eta \u001b[36m0:00:00\u001b[0m\n",
            "\u001b[?25hDownloading tf_estimator_nightly-2.8.0.dev2021122109-py2.py3-none-any.whl (462 kB)\n",
            "\u001b[2K   \u001b[90m━━━━━━━━━━━━━━━━━━━━━━━━━━━━━━━━━━━━━━━━\u001b[0m \u001b[32m462.5/462.5 kB\u001b[0m \u001b[31m26.9 MB/s\u001b[0m eta \u001b[36m0:00:00\u001b[0m\n",
            "\u001b[?25hDownloading keras-2.8.0-py2.py3-none-any.whl (1.4 MB)\n",
            "\u001b[2K   \u001b[90m━━━━━━━━━━━━━━━━━━━━━━━━━━━━━━━━━━━━━━━━\u001b[0m \u001b[32m1.4/1.4 MB\u001b[0m \u001b[31m50.3 MB/s\u001b[0m eta \u001b[36m0:00:00\u001b[0m\n",
            "\u001b[?25hDownloading Keras_Preprocessing-1.1.2-py2.py3-none-any.whl (42 kB)\n",
            "\u001b[2K   \u001b[90m━━━━━━━━━━━━━━━━━━━━━━━━━━━━━━━━━━━━━━━━\u001b[0m \u001b[32m42.6/42.6 kB\u001b[0m \u001b[31m3.1 MB/s\u001b[0m eta \u001b[36m0:00:00\u001b[0m\n",
            "\u001b[?25hDownloading tensorboard-2.8.0-py3-none-any.whl (5.8 MB)\n",
            "\u001b[2K   \u001b[90m━━━━━━━━━━━━━━━━━━━━━━━━━━━━━━━━━━━━━━━━\u001b[0m \u001b[32m5.8/5.8 MB\u001b[0m \u001b[31m80.1 MB/s\u001b[0m eta \u001b[36m0:00:00\u001b[0m\n",
            "\u001b[?25hDownloading google_auth_oauthlib-0.4.6-py2.py3-none-any.whl (18 kB)\n",
            "Downloading tensorboard_data_server-0.6.1-py3-none-manylinux2010_x86_64.whl (4.9 MB)\n",
            "\u001b[2K   \u001b[90m━━━━━━━━━━━━━━━━━━━━━━━━━━━━━━━━━━━━━━━━\u001b[0m \u001b[32m4.9/4.9 MB\u001b[0m \u001b[31m66.9 MB/s\u001b[0m eta \u001b[36m0:00:00\u001b[0m\n",
            "\u001b[?25hDownloading tensorboard_plugin_wit-1.8.1-py3-none-any.whl (781 kB)\n",
            "\u001b[2K   \u001b[90m━━━━━━━━━━━━━━━━━━━━━━━━━━━━━━━━━━━━━━━━\u001b[0m \u001b[32m781.3/781.3 kB\u001b[0m \u001b[31m40.9 MB/s\u001b[0m eta \u001b[36m0:00:00\u001b[0m\n",
            "\u001b[?25hInstalling collected packages: tf-estimator-nightly, tensorboard-plugin-wit, keras, tensorboard-data-server, keras-preprocessing, google-auth-oauthlib, tensorboard, tensorflow\n",
            "  Attempting uninstall: keras\n",
            "    Found existing installation: keras 3.4.1\n",
            "    Uninstalling keras-3.4.1:\n",
            "      Successfully uninstalled keras-3.4.1\n",
            "  Attempting uninstall: tensorboard-data-server\n",
            "    Found existing installation: tensorboard-data-server 0.7.2\n",
            "    Uninstalling tensorboard-data-server-0.7.2:\n",
            "      Successfully uninstalled tensorboard-data-server-0.7.2\n",
            "  Attempting uninstall: google-auth-oauthlib\n",
            "    Found existing installation: google-auth-oauthlib 1.2.1\n",
            "    Uninstalling google-auth-oauthlib-1.2.1:\n",
            "      Successfully uninstalled google-auth-oauthlib-1.2.1\n",
            "  Attempting uninstall: tensorboard\n",
            "    Found existing installation: tensorboard 2.17.0\n",
            "    Uninstalling tensorboard-2.17.0:\n",
            "      Successfully uninstalled tensorboard-2.17.0\n",
            "  Attempting uninstall: tensorflow\n",
            "    Found existing installation: tensorflow 2.17.0\n",
            "    Uninstalling tensorflow-2.17.0:\n",
            "      Successfully uninstalled tensorflow-2.17.0\n",
            "\u001b[31mERROR: pip's dependency resolver does not currently take into account all the packages that are installed. This behaviour is the source of the following dependency conflicts.\n",
            "pandas-gbq 0.24.0 requires google-auth-oauthlib>=0.7.0, but you have google-auth-oauthlib 0.4.6 which is incompatible.\n",
            "tf-keras 2.17.0 requires tensorflow<2.18,>=2.17, but you have tensorflow 2.8.0 which is incompatible.\u001b[0m\u001b[31m\n",
            "\u001b[0mSuccessfully installed google-auth-oauthlib-0.4.6 keras-2.8.0 keras-preprocessing-1.1.2 tensorboard-2.8.0 tensorboard-data-server-0.6.1 tensorboard-plugin-wit-1.8.1 tensorflow-2.8.0 tf-estimator-nightly-2.8.0.dev2021122109\n"
          ]
        },
        {
          "output_type": "display_data",
          "data": {
            "application/vnd.colab-display-data+json": {
              "pip_warning": {
                "packages": [
                  "keras",
                  "tensorflow"
                ]
              },
              "id": "b9809c6cf8414858b66638fb28e34297"
            }
          },
          "metadata": {}
        }
      ]
    },
    {
      "cell_type": "markdown",
      "metadata": {
        "id": "NKJB2K3S1Sag"
      },
      "source": [
        "# Aplicación de una RNN para generar texto\n",
        "\n",
        "Las RNN (Redes Neuronales Recurrentes) están diseñadas para trabajar con datos de secuencia.\n",
        "\n",
        "Ejemplo de transformación de corpus a datos de entrenamiento para una RNN.\n",
        "\n",
        "```python\n",
        "corpus = \"Quiero un jugo de naranja fresco\"\n",
        "seq_lenght = 3\n",
        "```\n",
        "\n",
        "|        x        |    y    |\n",
        "|:---------------:|:-------:|\n",
        "|  Quiero un jugo |    de   |\n",
        "|    un jugo de   | naranja |\n",
        "| jugo de naranja |  fresco |"
      ]
    },
    {
      "cell_type": "markdown",
      "metadata": {
        "id": "FgvAy1-j1Sai"
      },
      "source": [
        "#### Importar Librerias"
      ]
    },
    {
      "cell_type": "code",
      "execution_count": 2,
      "metadata": {
        "id": "HE_GeQ7r1Sai"
      },
      "outputs": [],
      "source": [
        "from __future__ import absolute_import, division, print_function, unicode_literals\n",
        "\n",
        "import os\n",
        "import re\n",
        "import time\n",
        "import numpy as np\n",
        "import pandas as pd\n",
        "import tensorflow as tf # https://www.tensorflow.org/install"
      ]
    },
    {
      "cell_type": "markdown",
      "metadata": {
        "id": "6Z9FEmao1Saj"
      },
      "source": [
        "Vamos a crear un generador de texto usando los discursos de Uribe"
      ]
    },
    {
      "cell_type": "code",
      "execution_count": 3,
      "metadata": {
        "colab": {
          "base_uri": "https://localhost:8080/",
          "height": 206
        },
        "id": "puEXZ_Mw1Saj",
        "outputId": "beba6b7e-7d28-4f74-d00e-d6d9ca250a02"
      },
      "outputs": [
        {
          "output_type": "execute_result",
          "data": {
            "text/plain": [
              "                                                 url                titulo  \\\n",
              "0  http://web.presidencia.gov.co/discursos/discur...    turistica_24022010   \n",
              "1  http://web.presidencia.gov.co/discursos/discur...      lloreda_20012010   \n",
              "2  http://web.presidencia.gov.co/discursos/discur...    bananeros_29042010   \n",
              "3  http://web.presidencia.gov.co/discursos/discur...       ccg264_31012010   \n",
              "4  http://web.presidencia.gov.co/discursos/discur...  audiovisual_21012010   \n",
              "\n",
              "                                            discurso          fecha  \\\n",
              "0                       “Yo quiero felicitarlos d...       (Bogotá)   \n",
              "1                       “Habríamos querido tener ...       (Bogotá)   \n",
              "2                       Medellín, 29 abr (SP). “N...     (Medellín)   \n",
              "3                       “Muy apreciados compatrio...  (Bucaramanga)   \n",
              "4                                           “Una ...       (Bogotá)   \n",
              "\n",
              "                   lugar  \n",
              "0    Febrero 24  de 2010  \n",
              "1      Enero 20  de 2009  \n",
              "2  29   de abril de 2010  \n",
              "3      Enero 31  de 2010  \n",
              "4      Enero 21  de 2009  "
            ],
            "text/html": [
              "\n",
              "  <div id=\"df-fca2aba7-c4a9-4f20-9fca-b58ffd18b3a9\" class=\"colab-df-container\">\n",
              "    <div>\n",
              "<style scoped>\n",
              "    .dataframe tbody tr th:only-of-type {\n",
              "        vertical-align: middle;\n",
              "    }\n",
              "\n",
              "    .dataframe tbody tr th {\n",
              "        vertical-align: top;\n",
              "    }\n",
              "\n",
              "    .dataframe thead th {\n",
              "        text-align: right;\n",
              "    }\n",
              "</style>\n",
              "<table border=\"1\" class=\"dataframe\">\n",
              "  <thead>\n",
              "    <tr style=\"text-align: right;\">\n",
              "      <th></th>\n",
              "      <th>url</th>\n",
              "      <th>titulo</th>\n",
              "      <th>discurso</th>\n",
              "      <th>fecha</th>\n",
              "      <th>lugar</th>\n",
              "    </tr>\n",
              "  </thead>\n",
              "  <tbody>\n",
              "    <tr>\n",
              "      <th>0</th>\n",
              "      <td>http://web.presidencia.gov.co/discursos/discur...</td>\n",
              "      <td>turistica_24022010</td>\n",
              "      <td>“Yo quiero felicitarlos d...</td>\n",
              "      <td>(Bogotá)</td>\n",
              "      <td>Febrero 24  de 2010</td>\n",
              "    </tr>\n",
              "    <tr>\n",
              "      <th>1</th>\n",
              "      <td>http://web.presidencia.gov.co/discursos/discur...</td>\n",
              "      <td>lloreda_20012010</td>\n",
              "      <td>“Habríamos querido tener ...</td>\n",
              "      <td>(Bogotá)</td>\n",
              "      <td>Enero 20  de 2009</td>\n",
              "    </tr>\n",
              "    <tr>\n",
              "      <th>2</th>\n",
              "      <td>http://web.presidencia.gov.co/discursos/discur...</td>\n",
              "      <td>bananeros_29042010</td>\n",
              "      <td>Medellín, 29 abr (SP). “N...</td>\n",
              "      <td>(Medellín)</td>\n",
              "      <td>29   de abril de 2010</td>\n",
              "    </tr>\n",
              "    <tr>\n",
              "      <th>3</th>\n",
              "      <td>http://web.presidencia.gov.co/discursos/discur...</td>\n",
              "      <td>ccg264_31012010</td>\n",
              "      <td>“Muy apreciados compatrio...</td>\n",
              "      <td>(Bucaramanga)</td>\n",
              "      <td>Enero 31  de 2010</td>\n",
              "    </tr>\n",
              "    <tr>\n",
              "      <th>4</th>\n",
              "      <td>http://web.presidencia.gov.co/discursos/discur...</td>\n",
              "      <td>audiovisual_21012010</td>\n",
              "      <td>“Una ...</td>\n",
              "      <td>(Bogotá)</td>\n",
              "      <td>Enero 21  de 2009</td>\n",
              "    </tr>\n",
              "  </tbody>\n",
              "</table>\n",
              "</div>\n",
              "    <div class=\"colab-df-buttons\">\n",
              "\n",
              "  <div class=\"colab-df-container\">\n",
              "    <button class=\"colab-df-convert\" onclick=\"convertToInteractive('df-fca2aba7-c4a9-4f20-9fca-b58ffd18b3a9')\"\n",
              "            title=\"Convert this dataframe to an interactive table.\"\n",
              "            style=\"display:none;\">\n",
              "\n",
              "  <svg xmlns=\"http://www.w3.org/2000/svg\" height=\"24px\" viewBox=\"0 -960 960 960\">\n",
              "    <path d=\"M120-120v-720h720v720H120Zm60-500h600v-160H180v160Zm220 220h160v-160H400v160Zm0 220h160v-160H400v160ZM180-400h160v-160H180v160Zm440 0h160v-160H620v160ZM180-180h160v-160H180v160Zm440 0h160v-160H620v160Z\"/>\n",
              "  </svg>\n",
              "    </button>\n",
              "\n",
              "  <style>\n",
              "    .colab-df-container {\n",
              "      display:flex;\n",
              "      gap: 12px;\n",
              "    }\n",
              "\n",
              "    .colab-df-convert {\n",
              "      background-color: #E8F0FE;\n",
              "      border: none;\n",
              "      border-radius: 50%;\n",
              "      cursor: pointer;\n",
              "      display: none;\n",
              "      fill: #1967D2;\n",
              "      height: 32px;\n",
              "      padding: 0 0 0 0;\n",
              "      width: 32px;\n",
              "    }\n",
              "\n",
              "    .colab-df-convert:hover {\n",
              "      background-color: #E2EBFA;\n",
              "      box-shadow: 0px 1px 2px rgba(60, 64, 67, 0.3), 0px 1px 3px 1px rgba(60, 64, 67, 0.15);\n",
              "      fill: #174EA6;\n",
              "    }\n",
              "\n",
              "    .colab-df-buttons div {\n",
              "      margin-bottom: 4px;\n",
              "    }\n",
              "\n",
              "    [theme=dark] .colab-df-convert {\n",
              "      background-color: #3B4455;\n",
              "      fill: #D2E3FC;\n",
              "    }\n",
              "\n",
              "    [theme=dark] .colab-df-convert:hover {\n",
              "      background-color: #434B5C;\n",
              "      box-shadow: 0px 1px 3px 1px rgba(0, 0, 0, 0.15);\n",
              "      filter: drop-shadow(0px 1px 2px rgba(0, 0, 0, 0.3));\n",
              "      fill: #FFFFFF;\n",
              "    }\n",
              "  </style>\n",
              "\n",
              "    <script>\n",
              "      const buttonEl =\n",
              "        document.querySelector('#df-fca2aba7-c4a9-4f20-9fca-b58ffd18b3a9 button.colab-df-convert');\n",
              "      buttonEl.style.display =\n",
              "        google.colab.kernel.accessAllowed ? 'block' : 'none';\n",
              "\n",
              "      async function convertToInteractive(key) {\n",
              "        const element = document.querySelector('#df-fca2aba7-c4a9-4f20-9fca-b58ffd18b3a9');\n",
              "        const dataTable =\n",
              "          await google.colab.kernel.invokeFunction('convertToInteractive',\n",
              "                                                    [key], {});\n",
              "        if (!dataTable) return;\n",
              "\n",
              "        const docLinkHtml = 'Like what you see? Visit the ' +\n",
              "          '<a target=\"_blank\" href=https://colab.research.google.com/notebooks/data_table.ipynb>data table notebook</a>'\n",
              "          + ' to learn more about interactive tables.';\n",
              "        element.innerHTML = '';\n",
              "        dataTable['output_type'] = 'display_data';\n",
              "        await google.colab.output.renderOutput(dataTable, element);\n",
              "        const docLink = document.createElement('div');\n",
              "        docLink.innerHTML = docLinkHtml;\n",
              "        element.appendChild(docLink);\n",
              "      }\n",
              "    </script>\n",
              "  </div>\n",
              "\n",
              "\n",
              "<div id=\"df-c9e7c68e-4a72-46ef-b863-fcfc965383d6\">\n",
              "  <button class=\"colab-df-quickchart\" onclick=\"quickchart('df-c9e7c68e-4a72-46ef-b863-fcfc965383d6')\"\n",
              "            title=\"Suggest charts\"\n",
              "            style=\"display:none;\">\n",
              "\n",
              "<svg xmlns=\"http://www.w3.org/2000/svg\" height=\"24px\"viewBox=\"0 0 24 24\"\n",
              "     width=\"24px\">\n",
              "    <g>\n",
              "        <path d=\"M19 3H5c-1.1 0-2 .9-2 2v14c0 1.1.9 2 2 2h14c1.1 0 2-.9 2-2V5c0-1.1-.9-2-2-2zM9 17H7v-7h2v7zm4 0h-2V7h2v10zm4 0h-2v-4h2v4z\"/>\n",
              "    </g>\n",
              "</svg>\n",
              "  </button>\n",
              "\n",
              "<style>\n",
              "  .colab-df-quickchart {\n",
              "      --bg-color: #E8F0FE;\n",
              "      --fill-color: #1967D2;\n",
              "      --hover-bg-color: #E2EBFA;\n",
              "      --hover-fill-color: #174EA6;\n",
              "      --disabled-fill-color: #AAA;\n",
              "      --disabled-bg-color: #DDD;\n",
              "  }\n",
              "\n",
              "  [theme=dark] .colab-df-quickchart {\n",
              "      --bg-color: #3B4455;\n",
              "      --fill-color: #D2E3FC;\n",
              "      --hover-bg-color: #434B5C;\n",
              "      --hover-fill-color: #FFFFFF;\n",
              "      --disabled-bg-color: #3B4455;\n",
              "      --disabled-fill-color: #666;\n",
              "  }\n",
              "\n",
              "  .colab-df-quickchart {\n",
              "    background-color: var(--bg-color);\n",
              "    border: none;\n",
              "    border-radius: 50%;\n",
              "    cursor: pointer;\n",
              "    display: none;\n",
              "    fill: var(--fill-color);\n",
              "    height: 32px;\n",
              "    padding: 0;\n",
              "    width: 32px;\n",
              "  }\n",
              "\n",
              "  .colab-df-quickchart:hover {\n",
              "    background-color: var(--hover-bg-color);\n",
              "    box-shadow: 0 1px 2px rgba(60, 64, 67, 0.3), 0 1px 3px 1px rgba(60, 64, 67, 0.15);\n",
              "    fill: var(--button-hover-fill-color);\n",
              "  }\n",
              "\n",
              "  .colab-df-quickchart-complete:disabled,\n",
              "  .colab-df-quickchart-complete:disabled:hover {\n",
              "    background-color: var(--disabled-bg-color);\n",
              "    fill: var(--disabled-fill-color);\n",
              "    box-shadow: none;\n",
              "  }\n",
              "\n",
              "  .colab-df-spinner {\n",
              "    border: 2px solid var(--fill-color);\n",
              "    border-color: transparent;\n",
              "    border-bottom-color: var(--fill-color);\n",
              "    animation:\n",
              "      spin 1s steps(1) infinite;\n",
              "  }\n",
              "\n",
              "  @keyframes spin {\n",
              "    0% {\n",
              "      border-color: transparent;\n",
              "      border-bottom-color: var(--fill-color);\n",
              "      border-left-color: var(--fill-color);\n",
              "    }\n",
              "    20% {\n",
              "      border-color: transparent;\n",
              "      border-left-color: var(--fill-color);\n",
              "      border-top-color: var(--fill-color);\n",
              "    }\n",
              "    30% {\n",
              "      border-color: transparent;\n",
              "      border-left-color: var(--fill-color);\n",
              "      border-top-color: var(--fill-color);\n",
              "      border-right-color: var(--fill-color);\n",
              "    }\n",
              "    40% {\n",
              "      border-color: transparent;\n",
              "      border-right-color: var(--fill-color);\n",
              "      border-top-color: var(--fill-color);\n",
              "    }\n",
              "    60% {\n",
              "      border-color: transparent;\n",
              "      border-right-color: var(--fill-color);\n",
              "    }\n",
              "    80% {\n",
              "      border-color: transparent;\n",
              "      border-right-color: var(--fill-color);\n",
              "      border-bottom-color: var(--fill-color);\n",
              "    }\n",
              "    90% {\n",
              "      border-color: transparent;\n",
              "      border-bottom-color: var(--fill-color);\n",
              "    }\n",
              "  }\n",
              "</style>\n",
              "\n",
              "  <script>\n",
              "    async function quickchart(key) {\n",
              "      const quickchartButtonEl =\n",
              "        document.querySelector('#' + key + ' button');\n",
              "      quickchartButtonEl.disabled = true;  // To prevent multiple clicks.\n",
              "      quickchartButtonEl.classList.add('colab-df-spinner');\n",
              "      try {\n",
              "        const charts = await google.colab.kernel.invokeFunction(\n",
              "            'suggestCharts', [key], {});\n",
              "      } catch (error) {\n",
              "        console.error('Error during call to suggestCharts:', error);\n",
              "      }\n",
              "      quickchartButtonEl.classList.remove('colab-df-spinner');\n",
              "      quickchartButtonEl.classList.add('colab-df-quickchart-complete');\n",
              "    }\n",
              "    (() => {\n",
              "      let quickchartButtonEl =\n",
              "        document.querySelector('#df-c9e7c68e-4a72-46ef-b863-fcfc965383d6 button');\n",
              "      quickchartButtonEl.style.display =\n",
              "        google.colab.kernel.accessAllowed ? 'block' : 'none';\n",
              "    })();\n",
              "  </script>\n",
              "</div>\n",
              "\n",
              "    </div>\n",
              "  </div>\n"
            ],
            "application/vnd.google.colaboratory.intrinsic+json": {
              "type": "dataframe",
              "variable_name": "df",
              "summary": "{\n  \"name\": \"df\",\n  \"rows\": 250,\n  \"fields\": [\n    {\n      \"column\": \"url\",\n      \"properties\": {\n        \"dtype\": \"string\",\n        \"num_unique_values\": 250,\n        \"samples\": [\n          \"http://web.presidencia.gov.co/discursos/discursos2010/mayo/loma_12052010.html\",\n          \"http://web.presidencia.gov.co/discursos/discursos2010/enero/tic_19012010.html\",\n          \"http://web.presidencia.gov.co/discursos/discursos2010/junio/hotelera_08062010.html\"\n        ],\n        \"semantic_type\": \"\",\n        \"description\": \"\"\n      }\n    },\n    {\n      \"column\": \"titulo\",\n      \"properties\": {\n        \"dtype\": \"string\",\n        \"num_unique_values\": 250,\n        \"samples\": [\n          \"loma_12052010\",\n          \"tic_19012010\",\n          \"hotelera_08062010\"\n        ],\n        \"semantic_type\": \"\",\n        \"description\": \"\"\n      }\n    },\n    {\n      \"column\": \"discurso\",\n      \"properties\": {\n        \"dtype\": \"string\",\n        \"num_unique_values\": 249,\n        \"samples\": [\n          \"                    \\u00a0 \\u201cAcudo, lleno de sentimientos de Patria,  a esta ceremonia de conmemoraci\\u00f3n de un aniversario tan importante de la Escuela Superior  de Guerra.                        Es un inmenso honor para el general Freddy Padilla de Le\\u00f3n,  Comandante General (de las Fuerzas Militares) y Ministro de Defensa encargado,  y para m\\u00ed, condecorar en el d\\u00eda de hoy con la Medalla Militar  \\u2018Escuela Superior de Guerra\\u2019 a un h\\u00e9roe de la Patria, el se\\u00f1or general Alberto Ruiz Novoa, que  con todos sus a\\u00f1os de servicio, su hero\\u00edsmo, es un faro para guiar la acci\\u00f3n  del Ej\\u00e9rcito de Colombia.                       Es un inmenso honor entregar el reconocimiento de la Revista Fuerzas  Armadas al se\\u00f1or general \\u00c1lvaro Valencia Tovar, una de las mentes m\\u00e1s l\\u00facidas  de las Fuerzas Armadas de Colombia en su historia, y uno de los compatriotas  que en la vida de la reserva m\\u00e1s ha iluminado el pensamiento nacional.                        Al mayor general de la reserva activa, Jos\\u00e9 Roberto Ib\\u00e1\\u00f1ez  S\\u00e1nchez, Presidente de la Academia Colombiana de Historia Militar, quien ha  ejercido la noble tarea de examinar, de compilar, de mantener viva la historia  de nuestra instituci\\u00f3n armada.                        Al brigadier general de la reserva activa, Gabriel Puyana  Garc\\u00eda, por esa tarea tan importante de iluminar la acci\\u00f3n de las Fuerzas  Armadas como articulista permanente de la revista Fuerzas Armadas en el periodo  1960 al a\\u00f1o 2010. Una tarea de la inteligencia, de la perseverancia y del amor  a Colombia.                       Es un exceso de generosidad de los soldados de mi Patria  entregarme este doctorado (como Mag\\u00edster en Defensa y Seguridad Nacional). Lo  recibo por una raz\\u00f3n de afecto a Colombia, por la generosidad de ustedes.  Simplemente he tratado de apoyar su heroica lucha, necesaria para Colombia.                        Esta ceremonia me trae una mezcla de reacciones: dolor por  todos los ca\\u00eddos, al mismo tiempo gran admiraci\\u00f3n por nuestra Fuerza (P\\u00fablica)  y tambi\\u00e9n esperanza en lo que habr\\u00e1 de ser el futuro de las nuevas  generaciones.                       Pertenezco, como muchos de ustedes, a una generaci\\u00f3n que  hace parte de varias que no han tenido un d\\u00eda de paz. Mi generaci\\u00f3n naci\\u00f3 en la  violencia entre los partidos. Nuestra ni\\u00f1ez se cruz\\u00f3 asistiendo un d\\u00eda a que  unos ciudadanos asesinaban a otros por pertenecer al partido contrario.                        Y cuando lleg\\u00e1bamos a la adolescencia se hab\\u00eda pactado el  final de la violencia entre los partidos por los pactos del Frente Nacional,  liderados por los ex presidentes Alberto Lleras y Laureano G\\u00f3mez,  inmediatamente empezaban a sonar los fusiles de las guerrillas marxistas que  hab\\u00edan escogido a Colombia y a Bolivia como los objetivos para replicar la revoluci\\u00f3n  cubana, como los nuevos teatros para sustituir el Estado democr\\u00e1tico por la  dictadura, el ejercicio argumental e intelectual de la pol\\u00edtica por la lucha  violenta de clases.                       Hubo en el pa\\u00eds m\\u00e1s violencia, m\\u00e1s pobreza, m\\u00e1s desempleo,  m\\u00e1s desconfianza. Generaron la reacci\\u00f3n igualmente cruel del paramilitarismo.  Con unos y otros avanz\\u00f3 el narcotr\\u00e1fico; quedaron ambos copados por este, y es  la historia que ha vivido el pa\\u00eds desde los a\\u00f1os 40 hasta la fecha, la que  tenemos que superar.                       Hoy recordamos con dolor a todos los compatriotas asesinados  en esta terrible y larga noche que tenemos que superar.                       Y al recibir este inmenso honor de nuestra Escuela Superior  de Guerra, desde aqu\\u00ed pienso en los soldados y polic\\u00edas de la Patria que a esta hora  est\\u00e1n en los pabellones de sanidad, est\\u00e1n con los ortopedistas, con los  cirujanos pl\\u00e1sticos, tratando de hacer un enorme esfuerzo para superar sus  mutilaciones, las mutilaciones que han encontrado en su entrega para devolverle  a Colombia la generosidad.                        Pero tambi\\u00e9n tengo un sentimiento de alegr\\u00eda, de acariciar  la posibilidad de que las nuevas generaciones de colombianos puedan vivir en  una Patria segura, que les de mejores oportunidades de prosperidad.                        Quiero agradecer a ustedes tanta generosidad y su esfuerzo  patri\\u00f3tico de todos estos a\\u00f1os. Podr\\u00edamos hacer muchas evaluaciones de lo que  ha sido la   Seguridad Democr\\u00e1tica, perm\\u00edtanme algunas.                       El pa\\u00eds ha recuperado unos monopolios que nunca debi\\u00f3  perder.                        La palabra paramilitar se escogi\\u00f3 en Colombia para denominar  bandas privadas criminales cuyo prop\\u00f3sito era combatir a las guerrillas. El  paramilitarismo ha sido desmantelado; el monopolio de las Fuerzas Armadas para  combatir a todos los criminales ha sido recuperado. Esto honra a Colombia, no  podemos permitir que lo distorsionen.                        \\u2018No permitamos las distorsiones de la Seguridad Democr\\u00e1tica\\u2019                       Muchos adversarios de la Seguridad Democr\\u00e1tica\\u00a0 no la combaten de frente, sino que tratan de  deslegitimarla y por eso desconocen el desmantelamiento del paramilitarismo, y  tratan de crear confusiones en la opini\\u00f3n nacional e internacional, afirmando  con total oposici\\u00f3n a la evidencia que todav\\u00eda en Colombia hay paramilitarismo.                        No permitamos esas distorsiones.                       Yo he entendido y compartido el car\\u00e1cter no deliberante de  las Fuerzas Armadas, pero creo que s\\u00ed hay una deliberaci\\u00f3n necesaria: la  deliberaci\\u00f3n para defender su tarea, para defender sus resultados.                        En nombre de la tesis de que las Fuerzas Armadas no son  deliberantes, no se puede llegar al extremo de impedir a las Fuerzas Armadas la  defensa de su acci\\u00f3n y la defensa de sus resultados.                        Est\\u00e1 bien que en las Fuerzas Armadas no haya deliberaci\\u00f3n  partidista. Es bastante \\u00fatil para la   Patria que en las Fuerzas Armadas no haya sesgos partidistas,  que en las Fuerzas Armadas no haya inclinaciones de participar en el debate  pol\\u00edtico, pero eso es diferente a la necesidad de que en las Fuerzas Armadas  haya deliberaci\\u00f3n en el campo internacional y en el dom\\u00e9stico para defender a  la instituci\\u00f3n, para defender sus acciones, es necesario.                       Recuperaci\\u00f3n del monopolio de la justicia                       Hemos recuperado el monopolio de la justicia.                        La justicia en Colombia es aut\\u00f3noma y es independiente, pero  en muchas regiones de Colombia hab\\u00eda sido desplazada e intentaba ser  reemplazada por cabecillas de los grupos terroristas. En muchas regiones de  Colombia, los campesinos afirmaban c\\u00f3mo eran los cabecillas terroristas los que  quer\\u00edan imponer justicia, resolver los pleitos de familia, los pleitos de  vecinos. Hoy, gracias a la Seguridad Democr\\u00e1tica, jueces y fiscales pueden  ejercer sus funciones en todo el pa\\u00eds.                        Las v\\u00edctimas no reclamaban, no reclamaban por temor o porque  lo encontraban in\\u00fatil. La Seguridad Democr\\u00e1tica ha dado confianza. Hoy hay m\\u00e1s  de 280 mil v\\u00edctimas registradas, hemos avanzado en un proceso de reparaci\\u00f3n  administrativa, hemos invertido ya 700 millones de d\\u00f3lares, y el pa\\u00eds tendr\\u00e1  que seguir haciendo un enorme esfuerzo en esa materia.                        Reparaci\\u00f3n total no hay, pero quiero hacer sobre esto dos  comentarios.                        El primero: todo esfuerzo de reparaci\\u00f3n elimina sentimientos  de venganza, anula semillas de odio.                        Y un segundo comentario: la reparaci\\u00f3n m\\u00e1s importante es el  derecho a la no repetici\\u00f3n.                        Nada ganamos con crear confianza entre las v\\u00edctimas para  denunciar y reclamar, nada ganamos con reparar a las v\\u00edctimas que hasta hoy se  han registrado, si no frenamos esta violencia.                        Por eso la mejor reparaci\\u00f3n es la continuidad, el  mejoramiento permanente de la Seguridad Democr\\u00e1tica, para garantizar a los  colombianos el derecho a la no repetici\\u00f3n.                        Seguridad Democr\\u00e1tica, garant\\u00eda para la descentralizaci\\u00f3n                        Otro intangible de gran importancia: la Seguridad Democr\\u00e1tica  ha salvado la descentralizaci\\u00f3n.                        El pa\\u00eds ha tenido una lucha hist\\u00f3rica por la  descentralizaci\\u00f3n. Dir\\u00eda yo que hay hitos de avance de la descentralizaci\\u00f3n en  el siglo XX.                        La administraci\\u00f3n del Presidente Carlos Lleras, en la  reforma constitucional de 1968, introdujo el situado fiscal\\u00a0 para darle una garant\\u00eda de participaci\\u00f3n en  las rentas nacionales a las regiones.                       El pa\\u00eds hab\\u00eda discutido durante largos a\\u00f1os la elecci\\u00f3n  popular de alcaldes, no se logr\\u00f3 en los estados que hicieron parte de la Constituci\\u00f3n de  1863,\\u00a0 tampoco se logr\\u00f3 en la Constituci\\u00f3n del 86.                       El liberalismo, bajo la presidencia del general Benjamin  Herrera, reunido en Ibagu\\u00e9 en 1923, encabez\\u00f3 un memorando de reivindicaciones  pol\\u00edticas con la propuesta de la elecci\\u00f3n popular de alcaldes. No se lograba.  Fue el entonces senador \\u00c1lvaro G\\u00f3mez Hurtado, quien en la administraci\\u00f3n del  Presidente Belisario Betancur propuso el Acto Legislativo que se aprob\\u00f3, un  gran paso.                       La administraci\\u00f3n del Presidente Betancur introdujo las  leyes descentralistas 11, 12; y la Constituci\\u00f3n del 91 el Sistema General de  Participaciones y la elecci\\u00f3n popular de gobernadores.                       \\u00bfPero qu\\u00e9 hab\\u00eda pasado con la descentralizaci\\u00f3n?                        El 8 de agosto de 2002, antes de que aparecieran los  primeros rayos del sol, al este, asom\\u00e1ndose entre los picos de la Sierra Nevada,  aterrizamos en Valledupar para empezar ese d\\u00eda la Pol\\u00edtica de Seguridad  Democr\\u00e1tica; y en la tarde en Florencia, para empezar la Pol\\u00edtica de Revoluci\\u00f3n  Educativa.                       Los alcaldes del Caquet\\u00e1 estaban todos asilados, no pod\\u00edan  desempe\\u00f1arse por las presiones del terrorismo.                        \\u00bfPara qu\\u00e9 elecci\\u00f3n popular de alcaldes y gobernadores, si el  terrorismo no les permit\\u00eda desempe\\u00f1ar sus funciones?                       El terrorismo hab\\u00eda maltratado esa instituci\\u00f3n de la  descentralizaci\\u00f3n.                        \\u00bfY c\\u00f3mo nos hab\\u00eda traicionado el terrorismo?                       Era yo estudiante de la universidad p\\u00fablica, y las  guerrillas hac\\u00edan llegar comunicaciones en las cuales anunciaban que de  aprobarse en Colombia la elecci\\u00f3n popular de alcaldes y la elecci\\u00f3n popular de  gobernadores, ellos de inmediato har\\u00edan la paz.                        Nos enga\\u00f1aron.                       Y es bueno recordar los enga\\u00f1os de la historia para evitar  nuevos enga\\u00f1os en el presente y en el futuro.                       Los mismos que pidieron la elecci\\u00f3n popular de alcaldes y  gobernadores como condici\\u00f3n para hacer la paz, al d\\u00eda siguiente de la aprobaci\\u00f3n  de la elecci\\u00f3n popular de alcaldes y gobernadores se convirtieron en sicarios  de la descentralizaci\\u00f3n, presionando con sus acciones terroristas a los  mandatarios locales.                       Pero ese no fue el \\u00fanico atentado contra la  descentralizaci\\u00f3n.                        Las guerrillas abrieron el camino de la corrupci\\u00f3n a sangre  y fuego, para robarse las regal\\u00edas de los departamentos petroleros, carboneros,  y para robarse las transferencias que las Naci\\u00f3n hac\\u00eda llegar a esas regiones.                       Primero el Eln y las Farc, y despu\\u00e9s compitiendo con ellos  los mal llamados grupos paramilitares.                       La   Seguridad Democr\\u00e1tica ha rodeado de garant\\u00edas a todos los  alcaldes y gobernadores de Colombia, sin detenernos en el origen pol\\u00edtico de su  elecci\\u00f3n.                        Se ha recuperado la vigencia de la descentralizaci\\u00f3n, con  reveses y dificultades.                       Mantenemos el coraz\\u00f3n enlutecido por el secuestro y el  asesinato en diciembre del Gobernador del Caquet\\u00e1 (Luis Francisco Cuellar).                       Pero qu\\u00e9 bueno poder decir hoy que los soldados y polic\\u00edas  de la Patria,  en nombre de la   Seguridad Democr\\u00e1tica, rodean de garant\\u00edas la  descentralizaci\\u00f3n.                       Y el avance para derrotar a los grupos terroristas, es el  avance para proteger las finanzas de las entidades territoriales contra el  avance de corrupci\\u00f3n del terrorismo.                       Creo que la   Patria est\\u00e1 en mejores condiciones hoy para que cese ese  asalto sobre las regal\\u00edas de petr\\u00f3leo, regal\\u00edas de carb\\u00f3n, regal\\u00edas mineras en  general, y sobre los recursos del sistema general de participaciones.                        Ah\\u00ed se ve c\\u00f3mo la Seguridad Democr\\u00e1tica  es un gran camino para luchar contra la corrupci\\u00f3n, para luchar por la  legalidad.                       \\u00bfPor qu\\u00e9? Porque la arrogancia de los criminales hab\\u00eda  construido en la Patria  desprecio por la ley; la arrogancia de los criminales hab\\u00eda construido en la Patria todas las  posibilidades para asaltar el erario p\\u00fablico; es la arrogancia de los  criminales la que adem\\u00e1s dio el ejemplo de conducir la contrataci\\u00f3n, para  privilegiar ileg\\u00edtimamente algunos proponentes.                       La lucha de la Seguridad Democr\\u00e1tica  contra estas pr\\u00e1cticas es el gran principio para restablecer la vigencia de la  legalidad, el respeto de todos los ciudadanos a la legalidad, y para  restablecer el camino de la transparencia.                        Creo que all\\u00ed hay un gran logro.                       Seguridad para todos, sin distingos pol\\u00edticos                       Otro: se ha restablecido la libertad pol\\u00edtica. No porque los  gobierno anteriores la hubieran coartado \\u2013que nunca lo hicieron- sino porque el  avance del terrorismo afectaba esa libertad.                        La   Corte Suprema ha adelantado juicios sobre conductas  individuales, pero el pa\\u00eds, instituci\\u00f3n ninguna, han adelantado el juicio sobre  las realidades que se impusieron en la Naci\\u00f3n entera.                       Los terroristas afectaron las libertades pol\\u00edticas.                        En muchas regiones de Colombia no se pod\\u00eda hacer pol\\u00edtica  sin el permiso del narcotr\\u00e1fico, sin el permiso de la narcoguerrilla, sin el  permiso del narcoparamilitarismo.                        Ese juicio no se ha hecho, esa realidad no ha sido examinada  en los estrados judiciales.                       Es muy importante que la memoria nacional no permita que esa  situaci\\u00f3n que se le cre\\u00f3 a Colombia quede en la impunidad. Es mayor el deber de  los dirigentes de la pol\\u00edtica, que el deber de los ciudadanos del com\\u00fan, pero  no se puede ignorar ese estado de cosas que impuso el terrorismo y que coart\\u00f3  las libertades del ejercicio de la pol\\u00edtica.                        Hoy, gracias a la Seguridad Democr\\u00e1tica,  candidatos de todas las tendencias, amigos del Gobierno hasta aquellos de la  m\\u00e1s radical oposici\\u00f3n, agitan sus tesis y se desplazan con libertad por los  caminos y carreteras de Colombia, acuden libremente a todos los auditorios y  escenarios de la Patria.                       Dir\\u00eda yo que los procesos electorales de 2003, 2006 y 2007,  y este de 2010, muestran en Colombia un gran avance en materia de recuperaci\\u00f3n  de libertades efectivas, gracias a la Seguridad Democr\\u00e1tica.                        Bien importante.                       Apreciados comandantes, alumnos y compatriotas: este proceso  de seguridad lo ha adelantado el hero\\u00edsmo de los soldados y polic\\u00edas de la Patria en el marco de la  legislaci\\u00f3n ordinaria, no de la legislaci\\u00f3n marcial; en el marco del respeto a  las garant\\u00edas individuales, a los derechos pol\\u00edticos. Eso honra a Colombia.                       Hace poco unos interlocutores europeos no afectos a este  Gobierno me reconoc\\u00edan en una charla relativamente privada, que ellos, dada la  situaci\\u00f3n que viv\\u00eda Colombia, nunca aceptaron que Colombia pudiera superar ese  poder del terrorismo, manteniendo al mismo tiempo inc\\u00f3lume el respeto a las  garant\\u00edas civiles, a los derechos pol\\u00edticos, y que reconocen que eso que ellos  pensaron que nunca se pod\\u00eda lograr, se ha logrado en Colombia.                       Muy apreciados generales y comandantes: en alg\\u00fan momento se  pens\\u00f3 que era fundamental un marco jur\\u00eddico restrictivo para poder avanzar en  materia de seguridad; los hechos han demostrado que aquello que m\\u00e1s legitima la  seguridad es avanzar en un marco jur\\u00eddico de legislaci\\u00f3n ordinaria, sin el m\\u00e1s  leve asomo de restricci\\u00f3n de libertades.                        Eso honra infinitamente a las Fuerzas Armadas de la Patria.                       Perm\\u00edtame entrar en lo que pod\\u00edan ser peque\\u00f1os logros de la Seguridad Democr\\u00e1tica,  pero es importante que el pa\\u00eds reflexione sobre ellos.                       Seguridad, fundamental en el crecimiento econ\\u00f3mico                       Esta Patria ha logrado una trayectoria de inflaci\\u00f3n baja.  Eso es muy bueno para la econom\\u00eda, esa es una gran defensa de la capacidad  adquisitiva de los sectores m\\u00e1s pobres; eso da se\\u00f1ales claras a los  empresarios, da se\\u00f1ales claras a lo que puede ser una pol\\u00edtica de salarios en  el largo plazo, da se\\u00f1ales claras para mantener tasas de inter\\u00e9s relativamente  bajas, que permitan, con el endeudamiento, construir valor, no destruir la  econom\\u00eda.                       Todos los colombianos reconocemos el esfuerzo del Banco de  Rep\\u00fablica, muchos colombianos reconocen el esfuerzo de la pol\\u00edtica fiscal del  Gobierno, pero hay un actor fundamental en el \\u00e9xito de Colombia en la lucha  contra la inflaci\\u00f3n: las Fuerzas Armadas.                       La seguridad, derivada del hero\\u00edsmo de los soldados y  polic\\u00edas de la Patria,  ha permitido un gran aumento de la oferta productiva, y ese aumento de la  oferta productiva es fundamental para tener una inflaci\\u00f3n baja.                       En estos a\\u00f1os de Gobierno, el pa\\u00eds ha pasado de cuatro  millones de hect\\u00e1reas en agricultura a casi cinco millones.                       No es el d\\u00eda para hablar de lo que se ha hecho desde el \\u00e1rea  econ\\u00f3mica y social\\u00a0 para hacer factible  ese crecimiento de las \\u00e1reas sembradas, es el d\\u00eda para reconocer que esa  expansi\\u00f3n del \\u00e1rea agropecuaria ha tenido una causa eficiente, determinante: el  hero\\u00edsmo de los soldados y polic\\u00edas de la Patria, la Seguridad Democr\\u00e1tica.                       Perm\\u00edtanme reconocer otro tema sobre el cual hace falta  reflexi\\u00f3n nacional, sobre el cual hace falta reconocimiento internacional.                        Quien quiera de ustedes que recorra los caminos de la Patria, puede preguntarles  a interlocutores de confianza si el narcotr\\u00e1fico ha seguido apropiando la  tierra rural colombiana.                       En el Valle del Cauca, en el Quind\\u00edo, en mi comarca  antioque\\u00f1a, en la Costa   Caribe, por donde quiera que yo converso con mis  compatriotas, con interlocutores de confianza, me dicen: \\u2018Presidente, gracias a  la Seguridad   Democr\\u00e1tica se acab\\u00f3 ese asalto del narcotr\\u00e1fico sobre la  propiedad rural\\u2019.                       Ya en la   Patria no se observa ese fen\\u00f3meno tan da\\u00f1ino del narcotr\\u00e1fico  apropi\\u00e1ndose de la tierra rural. Eso se le debe a la acci\\u00f3n de los soldados y  polic\\u00edas de la Patria. Y  eso hay que profundizarlo.                       Reflexionar sobre estos logros no es para ba\\u00f1arse en aguas  de laureles, es para ver que es posible, y para mantener un norte, un rumbo  todos los d\\u00edas, sin estancamiento y sin abandonar ese rumbo, en mejoramiento  continuo.                       Los retos son muchos.                       Fuerzas Armadas, las primeras en denunciar errores                       Hay enemigos ideol\\u00f3gicos de la Seguridad Democr\\u00e1tica  que procuran deslegitimarla.                        Hay factores de criminalidad y hay m\\u00e1s exigencia de la  comunidad colombiana.                       Muy apreciados soldados y polic\\u00edas de mi Patria: la mejor  defensa contra aquellos que pretenden deslegitimar la acci\\u00f3n de la Fuerza P\\u00fablica, es  la capacidad de la   Fuerza P\\u00fablica de denunciar, primero que cualquiera otra  persona, cualquier error de la propia Fuerza P\\u00fablica.                       Quiero insistir en una recomendaci\\u00f3n: no esperemos, no  esperen las Fuerzas Armadas que tenga que venir la denuncia formulada por el  enemigo de las Fuerzas Armadas.                       Que cuando haya un error, que cuando un integrante de las  Fuerzas Armadas cometa un delito, sea la propia Fuerza Armada la que denuncie  ese delito ante la opini\\u00f3n p\\u00fablica y ante la justicia.                       Que la opini\\u00f3n p\\u00fablica, que la ciudadan\\u00eda, sienta que las Fuerzas  Armadas no necesitan que lleguen unidades de investigaci\\u00f3n del extranjero a  escudri\\u00f1arlas, que las Fuerzas Armadas tienen la capacidad, el coraje, el  compromiso de Patria de detectar por su propia acci\\u00f3n cualquier anomal\\u00eda,  cualquier delito imputable a uno de sus integrantes, de comunicarlo con  incurable buena fe a la opini\\u00f3n p\\u00fablica, y de sancionarlo con todo el rigor.                       Creo que esto es fundamental para la legitimidad.                       Creo que es fundamental para la legitimidad mostrar una  acci\\u00f3n permanente de corregir dificultades.                        Esto es: as\\u00ed como hay que defender lo bueno hay que  reconocer d\\u00f3nde tenemos dificultades, y con humildad, recorrer el camino para  superar esas dificultades.                       Es muy importante que la deliberaci\\u00f3n de las Fuerzas Armadas  \\u2013nunca, nunca en materia partidista, siempre, siempre en materia institucional-  que la deliberaci\\u00f3n de las Fuerzas Armadas defienda su proceder.                       Hoy en Colombia los ciudadanos denuncian, sin el temor de  antes, cualquier dificultad. Y entonces se llama falso positivo cualquier  denuncia sobre violaci\\u00f3n de derechos humanos.                       Un aspecto bueno: los ciudadanos hoy no tienen temor en  denunciar.                       Un aspecto bueno: las Fuerzas Armadas han tomado las  decisiones para sancionar desde el punto de venta administrativo, aquellas  personas que con omisiones pudieran a ver dado lugar a conductas violatorias de  los derechos humanos.                       Un aspecto bueno: las Fuerzas Armadas no han obstaculizado a  la justicia ordinaria para examinar lo que pudieran ser violaciones de derechos  humanos.                       El imperativo de defender a las Fuerzas Armadas                       Pero un aspecto que tenemos que corregir: hoy, y lo hemos  visto a lo largo de este Gobierno, para desacreditar a la Pol\\u00edtica de Seguridad  Democr\\u00e1tica, se se\\u00f1ala como violaci\\u00f3n de derechos humanos u homicidio  extrajudicial, toda acci\\u00f3n leg\\u00edtima de las Fuerzas Armadas.                       Dan de baja a un terrorista, e inmediatamente hay  organizaciones profesionales para el descr\\u00e9dito de las Fuerzas Armadas, que  acuden a decir que era un humilde campesino, que no ten\\u00eda que ver nada con los  grupos terroristas, que lo asesinaron, que no hubo combate, que estaba en  condiciones de indefensi\\u00f3n.                       As\\u00ed como hay que tener el valor para reconocer violaciones  de derechos humanos y corregirlas, y sancionarlas, hay que tener el vigor para  defender a las Fuerzas Armadas contra las acusaciones injustas.                       A m\\u00ed me parece preocupante que mientras las Fuerzas Armadas  con humildad aceptan y corrigen errores, no haya una gran fortaleza  deliberativa para defenderse frente a las falsas acusaciones.                       El mundo tiene que saber todos los casos de falsas  acusaciones, porque hay hipocres\\u00eda.                       Muchas personas que quisieron el triunfo de los  narcoguerrilleros en Colombia, y que hoy se sienten derrotados por el avance de  las Fuerzas Armadas, no se atreven a oponerse a la Pol\\u00edtica de Seguridad  Democr\\u00e1tica de manera abierta, sino que lo hacen de manera hip\\u00f3crita, a toda  hora arropados en la bandera de los derechos humanos, tratando de desacreditar  a las Fuerzas Armadas.                       Por eso se necesita deliberaci\\u00f3n, nunca en materia  partidista, siempre en materia de defensa de la institucionalidad.                       Hace dos d\\u00edas sent\\u00ed tristeza en la Universidad del Norte  de Barranquilla, porque un ni\\u00f1o de 17 a\\u00f1os trajo una serie de insucesos que se  han presentado en miembros aislados de las Fuerzas Armadas, y dijo que eran  iguales a la guerrilla.                       Le dije: \\u2018\\u00bfCu\\u00e1ntos a\\u00f1os tienes?\\u2019.                        Me dijo: \\u2018Diecisiete\\u2019.                       Le dije: \\u2018Cuando empez\\u00f3 este Gobierno ten\\u00edas nueve a\\u00f1itos,  por qu\\u00e9 no le pides a tus padres, a tus t\\u00edos que te cuenten c\\u00f3mo viv\\u00eda el  pa\\u00eds\\u2019.                       Le dije: \\u2018Mira, cuando hemos tenido un pa\\u00eds tan afectado,  tan afectado por los grupos terroristas, la salvaci\\u00f3n de la generaci\\u00f3n de ustedes  es la eficacia y la transparencia de las Fuerzas Armadas.                       \\u2018T\\u00fa no puedes \\u2013por errores que se reconocen, que en las  dictaduras se ocultan y la democracia colombiana se publicitan, y adem\\u00e1s se  sancionan- t\\u00fa no puedes maltratar el decoro de las Fuerzas Armadas, no puedes  confundir errores individuales de algunas personas de las Fuerzas Armadas, con  la instituci\\u00f3n. Y adem\\u00e1s, son errores sancionados.                       \\u2018Pero adem\\u00e1s t\\u00fa estas m\\u00e1s tranquilo hoy, porque las Fuerzas  Armadas han hecho un gran esfuerzo. T\\u00fa pasaste de tus nueve a\\u00f1itos, a tus 17  a\\u00f1os, con unas Fuerzas Armadas haciendo un gran sacrificio para que t\\u00fa puedas  estar seguro y vivir feliz en Colombia.                       \\u2018Y la garant\\u00eda para ti, para t\\u00fa generaci\\u00f3n, son estas  Fuerzas Armadas, la   Constituci\\u00f3n y el pueblo, y si t\\u00fa como integrante del pueblo  colombiano no las apoyas y las maltratas, entonces qui\\u00e9n va a garantizarnos la  tranquilidad\\u2019.                       Creo que se necesita deliberaci\\u00f3n para defender la  instituci\\u00f3n.                       As\\u00ed como se ha tenido el valor de reconocer errores y de  sancionarlos, no podemos seguir con complejos que nos silencian y acallan frente  al imperativo de defender la instituci\\u00f3n.                       Yo siento mucho vigor en la cr\\u00edtica, pero siento mucha mudez  en la defensa.                       Si hay vigor en la cr\\u00edtica, no tiene por qu\\u00e9 haber esos  complejos que nos impiden adelantar la defensa de las Fuerzas Armadas.                       Y tenemos retos.                       Unas guerrillas debilitadas pero a\\u00fan con mucha capacidad de  hace da\\u00f1o; las bandas criminales; todav\\u00eda lo que queda de narcotr\\u00e1fico, que a\\u00fan  es grande; y el reto m\\u00e1s importante: una ciudadan\\u00eda m\\u00e1s exigente.                       Hay que enfrentar todos esos retos.                       Me voy a referir de esos retos al \\u00faltimo: una ciudadan\\u00eda m\\u00e1s  exigente.                       La seguridad ha hecho que la ciudadan\\u00eda sea m\\u00e1s exigente                       En un h\\u00e1bito durante mucha parte de este Gobierno, de  conversar con la ciudadan\\u00eda todos los d\\u00edas, directamente o a trav\\u00e9s de emisoras  de los diferentes sitios de Colombia, advierto que el pueblo colombiano reclama  hoy por unos delitos que en el pasado no lo conmov\\u00edan.                       Si no conmov\\u00eda ya el asesinato o el secuestro o la  destrucci\\u00f3n del municipio o el carro bomba, \\u00bfqu\\u00e9 iba a conmover el hurto  callejero?                       Una Naci\\u00f3n que estaba anonadada por el carro bomba, no ten\\u00eda  energ\\u00edas ni disposici\\u00f3n mental para reclamar por el robo de la moto.                       Pero en materia de seguridad se aplica lo mismo que lo dice  (Abraham) Maslow en materia de satisfacci\\u00f3n de necesidades b\\u00e1sicas: se resuelve  una necesidad y aparece la exigencia de que se resuelva la otra.                       El pa\\u00eds, por el hero\\u00edsmo los soldados y polic\\u00edas, ha  recuperado derechos de movilidad. Uno siente que los ni\\u00f1os de ayer, j\\u00f3venes de  hoy, est\\u00e1n contentos en la   Patria, ven los problemas presentes y las necesidades hacia  el futuro, deliberan en medio de una gran libertad y ya no le temen a esos  factores terroristas que se daban en el pa\\u00eds cuando ellos nacieron.                        Muchos parece que no lo registraron en su memoria, y es  bueno recordar de\\u00a0 d\\u00f3nde venimos, qu\\u00e9  viv\\u00edamos, porque cuando los pueblos pierden la memoria del pasado, de su  historia, se puede perder el presente, y hay todo el riesgo de no triunfar en  el futuro.                       El pa\\u00eds de los carro bombas, el pa\\u00eds de los secuestros de  docenas de personas, era el pa\\u00eds donde no se reclamaba por esos delitos que  afectan la vida cotidiana. Hoy s\\u00ed, y est\\u00e1 bien para Colombia.                        Hoy a la ciudadan\\u00eda la atormenta el robo de un carro, el  robo de una moto, un hurto callejero.                       Nosotros tenemos que hacer un esfuerzo enorme para acelerar  la disminuci\\u00f3n de esos delitos, con un reto: estamos ante el imperativo  constitucional del R\\u00e9gimen Acusatorio.                       La evoluci\\u00f3n ha sido dif\\u00edcil.                        Al amparo de las normas de estado de sitio las Fuerzas  Militares tuvieron en alg\\u00fan momento la competencia para capturar, despu\\u00e9s eso  se elimin\\u00f3, se radic\\u00f3 exclusivamente en los fiscales. Hoy necesita que el fiscal  presente la solicitud y que el juez de garant\\u00edas la apruebe.                       No creo que el camino sea regresar esos procedimientos.                        Si se presentase al Congreso de la Rep\\u00fablica una propuesta  para revertir esos procedimientos, seguramente esa propuesta ser\\u00eda all\\u00ed archivada  con el argumento de que estamos ante el imperativo de un sistema garantista.                       S\\u00e9 las dificultades de operar con el Sistema Penal  Acusatorio, pero tenemos que hacer un esfuerzo de integraci\\u00f3n operativa m\\u00e1s  funcional con fiscales y jueces, y tambi\\u00e9n denunciar al fiscal o al juez que no  ayuda, al fiscal o al juez que se pone del lado del terrorista, y en la medida  que en las Fuerzas (Armadas) todos los d\\u00edas haya ese vigor para reconocer su  error y esa falta de complejo para denunciar la agresi\\u00f3n, se gana autoridad  moral para exigirle m\\u00e1s al juez y al fiscal.                       Nosotros tenemos buenos ejemplos de integraciones con jueces  y fiscales, pero eso hay que generalizarlo en todo el pa\\u00eds.                        Ojala en estos 90 d\\u00edas que nos faltan en este Gobierno,  avancemos en esa materia. Es fundamental para enfrentar eficazmente los nuevos  retos que nos propone la comunidad.                       Hemos avanzado en la lucha contra el narcotr\\u00e1fico, las  cifras lo indican.                        La extradici\\u00f3n tambi\\u00e9n es un tema de orden p\\u00fablico                       Yo tengo preocupaciones, tengo preocupaciones sobre el tema  de la extradici\\u00f3n.                        Me parece que la Corte Suprema de Justicia debe examinar con el  Gobierno y con las Fuerzas Armadas el tema, porque ese no es un tema solamente  de justicia, ese es un tema de orden p\\u00fablico que corresponde tambi\\u00e9n a las  competencias del Gobierno y de las Fuerzas Armadas, y ese es un tema de  relaciones internacionales.                        No creo que le convenga al pa\\u00eds que la Corte Suprema de  Justicia, sola, sin escuchar al Gobierno y sin escuchar a las Fuerzas Armadas,  vaya introduci\\u00e9ndole crecientes limitaciones a la extradici\\u00f3n.                        Es muy da\\u00f1ino.                        Y tampoco creo que se pueda presentar el delito del  narcotr\\u00e1fico como un delito menor, que no de lesa humanidad.                        Es bueno discutir tranquilamente el tema.                        La mayor cantidad, el mayor porcentaje de delitos de lesa  humanidad en Colombia, ese porcentaje ha tenido que ver con el narcotr\\u00e1fico.                        El narcotr\\u00e1fico es el inductor de los delitos de lesa  humanidad en la historia de Colombia y deber\\u00eda ser considerado un delito de  lesa humanidad.                        \\u00bfC\\u00f3mo no vamos a considerar en Colombia el narcotr\\u00e1fico  delito de lesa humanidad si es el que destruy\\u00f3 la Corte Suprema de  Justicia, el que produjo el holocausto de la justicia?                        Yo tengo esa enorme preocupaci\\u00f3n                       Ilegalizaci\\u00f3n del consumo de droga                       Hemos empezado a superar otra preocupaci\\u00f3n.                       Yo no entend\\u00ed nunca que los soldados y polic\\u00edas de Colombia  fueran sacrificados en la lucha contra el narcotr\\u00e1fico, mientras aqu\\u00ed se  legalizaba la dosis personal.                        Me horrorizaba ver el Polic\\u00eda asesinado, el juez herido, el  soldado mutilado y al mismo tiempo constatar la permisividad frente a la dosis  personal. Eso no tiene relaci\\u00f3n, no tiene equilibrio.                        Despu\\u00e9s de muchos intentos, el Congreso de la Rep\\u00fablica aprob\\u00f3 el Acto  Legislativo para eliminar la permisividad con la dosis personal.                        Ahora hay un proyecto de ley para desarrollar ese Acto  Legislativo, un proyecto de ley con penas severas al j\\u00edbaro, con penas que se  duplican cuando el distribuidor de la dosis involucra ni\\u00f1os, y con  procedimientos que se abrevian para la extinci\\u00f3n del dominio sobre bienes  dedicados a la distribuci\\u00f3n de narc\\u00f3ticos.                       Yo creo que all\\u00ed hemos dado unos pasos importantes.                        Mientras se aprueba el proyecto de ley, es muy importante  que en todo el pa\\u00eds se decomise la dosis personal.                       Y yo creo que en las Fuerzas Armadas tiene que haber una  reflexi\\u00f3n, que darse, y una deliberaci\\u00f3n sobre el tema. Que no hay deliberaci\\u00f3n  partidista, pero que s\\u00ed haya deliberaci\\u00f3n sobre estos temas.                       Se ha hablado de la necesidad de legalizar la droga. Pero si  estaba legalizada                       \\u00bfCuando se legaliza el consumo qu\\u00e9 m\\u00e1s hay que legalizar?                        Yo creo que el camino es ilegalizar la droga, por eso hay  que ilegalizar el consumo. No para llevar los enfermos a la c\\u00e1rcel, pero s\\u00ed  para evitar que nuestros ni\\u00f1os a trav\\u00e9s del encanto del dinero, de la impunidad  que se deriva de la dosis personal, los sigan llevando a la criminalidad.                       Esa reflexi\\u00f3n es bien importante.                       Lucha internacional contra el terrorismo es un imperativo \\u00e9tico                       Y otra en pol\\u00edtica internacional.                        Mientras los terroristas puedan ubicarse en otro territorio  nunca tendr\\u00e1n inter\\u00e9s de someterse a la justicia colombiana. Siempre el  escondite for\\u00e1neo les alimenta la ilusi\\u00f3n de poder regresar a Colombia para  imponer su acci\\u00f3n sangrienta.                       Esto amerita unas reflexiones sobre pol\\u00edtica internacional.                        Como lo ha dicho el se\\u00f1or general \\u00d3scar Naranjo: \\u2018La lucha  internacional contra el terrorismo es un imperativo \\u00e9tico, moral\\u2019.                        En estos a\\u00f1os de Gobierno hemos tenido dificultades  internacionales con el prop\\u00f3sito de hacer respetar el derecho de los  colombianos de vivir sin terroristas.                        Yo reconozco que yo no soy un Presidente ajustado a los  formatos protocolarios de los c\\u00f3cteles de la diplomacia internacional, pero por  lo menos en estos a\\u00f1os hemos reorientado el rumbo, para que se respete a  Colombia.                        A m\\u00ed me parece que era un irrespeto a Colombia decir: \\u2018No,  un pa\\u00eds de muy buenos juristas y de muy buenos poetas, y pobrecitos, c\\u00f3mo  sufren el narcotr\\u00e1fico\\u2019; y llamaditas y palmaditas en los hombros para darnos  el p\\u00e9same, pero al mismo tiempo con esos bandidos escondidos en otros  territorios.                        Aqu\\u00ed lo que hemos hecho es cambiar la pol\\u00edtica de la  hipocres\\u00eda formal por la pol\\u00edtica del respeto real.                       Yo celebro, por ejemplo, que ahora haya un buen camino de  restablecimiento de relaciones con Ecuador, y que los dos pa\\u00edses est\\u00e9n  cooperando para superar el terrorismo. Y conf\\u00edo que ese proceso de di\\u00e1logo nos  lleve a que se supere lo que se ha pretendido hacer all\\u00ed con la judicializaci\\u00f3n  de nuestro ex Ministro (de Defensa) y con el prop\\u00f3sito de judicializaci\\u00f3n de  nuestros altos mandos.                        El pa\\u00eds no puede abandonar a quienes han hecho esta lucha  por la Patria  y que pretenden ser juzgados, injustamente, en otro pa\\u00eds. Conf\\u00edo que eso lo  podamos superar con Ecuador, en un trabajo franco, paciente, de di\\u00e1logo  constructivo.                       La dignidad por encima de los negocios                       Y algunos me reclaman: \\u2018Presidente se est\\u00e1 acabando el  comercio\\u2019, cuando hablan de otros pa\\u00edses. Y yo les digo: Pongamos el comercio y  la seguridad. Si nosotros en aras de permitir el comercio no defendemos la  seguridad, nos vamos a quedar sin comercio y sin seguridad.                        Sin seguridad se acaba la econom\\u00eda, no hay nada que vender  en el extranjero.                        Y cuando uno mira ese punto desde el \\u00e1ngulo de la dignidad,  puede plantear otra cosa: si en aras del comercio sacrificamos la dignidad, nos  quedamos sin dignidad y sin comercio.                        Yo creo que Colombia all\\u00ed ha dado un gran ejemplo.                        A m\\u00ed me ha golpeado mucho ver que pa\\u00edses ricos, para que no  les expropien empresas entregan su dignidad. Pero tambi\\u00e9n me ha dado admiraci\\u00f3n  por mis compatriotas, con tanta pobreza y dificultades, de ver que han  preferido la dignidad y el futuro, en lugar de claudicar por la salvaci\\u00f3n  transitoria del comercio.                        Ojala haya deliberaci\\u00f3n para explicarles esto al mundo.                       Qu\\u00e9 verg\\u00fcenza. Pa\\u00edses todopoderosos arrodillados, para que  les salven empresas. Y qu\\u00e9 buen ejemplo, un pa\\u00eds pobre y con dificultades como  Colombia, que ha preferido la dignidad y la seguridad \\u2013que es una fuente de  recursos- en lugar de sacrificar sus principios so pretexto de la salvaci\\u00f3n  transitoria del comercio.                        Hay que hacer deliberaci\\u00f3n sobre eso, porque es fundamental  que toda la comunidad internacional se comprometa en la lucha contra el  terrorismo.                       Nosotros ayudamos, ese es un gran logro de la Seguridad Democr\\u00e1tica.  A nuestras Fuerzas Armadas las llaman para que ayuden en M\\u00e9xico, formen  polic\\u00edas, en Guatemala, en Costa Rica, en Hait\\u00ed, en Panam\\u00e1, en Rep\\u00fablica  Dominicana; hay un secuestro en Paraguay, inmediatamente llaman a nuestra  Fuerzas Armadas.                        Nosotros cooperamos, pero asimismo necesitamos la cooperaci\\u00f3n  de toda la comunidad internacional.                        Este es un tema muy delicado, que si no se maneja con  firmeza vuelve a incubar un enorme riesgo para la Patria.                       Defensa judicial de integrantes de la Fuerza P\\u00fablica                       Tenemos unos temas pendientes.                       A m\\u00ed me preocupa mucho la defensa judicial de los  integrantes de las Fuerzas Armadas. No hay sueldo ni pensi\\u00f3n que alcance para  pagar abogados.                        Quisiera que no llegara el 7 de agosto con la frustraci\\u00f3n de  no haber dejado un mecanismo, para que con recursos p\\u00fablicos se apoye a los  integrantes de las Fuerzas Armadas en su servicio activo y en sus a\\u00f1os en la  reserva, en el tema de los costos judiciales.                       El sector privado est\\u00e1 haciendo esfuerzos, pero no los hay  en el sector p\\u00fablico.                       Dado que no hemos tenido la ley que nos autorice, he  propuesto desde hace meses que haya un convenio con la Defensor\\u00eda del Pueblo,  y que le entreguemos a la   Defensor\\u00eda unos recursos a trav\\u00e9s de ese convenio, para que  con esos recursos se contrate servicios de defensa judicial para los integrantes  de nuestras Fuerzas Armadas.                       El informe que tengo es que ese convenio puede sacarse  adelante una vez concluya la vigencia de la Ley de Garant\\u00edas.                        Y queda pendiente otro tema: hay que tramitar un proyecto de  ley que tiene muchos enemigos.                        Cuando uno propone que el Estado tiene que defender a sus  soldados y polic\\u00edas, inmediatamente llegan los enemigos de la Seguridad Democr\\u00e1tica,  de Europa, a decir que c\\u00f3mo vamos a gastar plata de los contribuyentes para  defender a los violadores de derechos humanos.                       Esa objeci\\u00f3n hay que superarla, y creo que es absolutamente  necesario disponer de todas las autorizaciones legales para que podamos asumir  con recursos p\\u00fablicos la defensa objetiva, la defensa veraz, la defensa  transparente de los integrantes de nuestras Fuerzas Armadas.                       Integraci\\u00f3n de las Fuerzas Armadas con la comunidad                       Perm\\u00edtanme sugerir algo a futuro: es absolutamente necesario  mantener la integraci\\u00f3n de las Fuerzas Armadas con las comunidades.                       Y voy a hablar solamente de dos aspectos: la integraci\\u00f3n de  las Fuerzas Armadas con la comunidad para evaluar las pol\\u00edticas de seguridad, y  la segunda integraci\\u00f3n, para que la comunidad le ayude a las Fuerzas Armadas  con informaci\\u00f3n oportuna.                       Para evaluar las pol\\u00edticas p\\u00fablicas generalmente hay unos  esquemas al interior de los gobiernos, de las oficinas de Planeaci\\u00f3n, son los  esquemas internos de los gobiernos.                        Yo creo que eso hay que complementarlo con la evaluaci\\u00f3n de  opini\\u00f3n.                       Durante todos estos a\\u00f1os, los comandantes nacionales, los  ministros de Defensa, los comandantes regionales en presencia de gobernadores y  alcaldes, hemos hecho los consejos de seguridad en las regiones.                       Generalmente han tenido dos instancias: una para o\\u00edr a la  comunidad y otra para ajustar las pol\\u00edticas.                        Y ha sido \\u00fatil o\\u00edr a la comunidad. Digamos la verdad: la  comunidad al principio del Gobierno era muy temerosa, muy t\\u00edmida, hoy habla con  gran tranquilidad y con mucha objetividad, reconocen y aplauden a las Fuerzas  Armadas, pero muchas veces nos cuentan padecimientos y dificultades que  nosotros en las Fuerzas Armadas no alcanzamos a detectar.                       Permitir que la comunidad en todas las regiones de la Patria, en toda la  geograf\\u00eda, nos est\\u00e9 evaluando, es muy importante, porque nos muestra a nosotros  dificultades que seguramente no apreciamos en nuestras evaluaciones internas.                       Y esto obliga a hacer un gran esfuerzo, un gran esfuerzo de  presencia en toda la geograf\\u00eda, de conocimiento de toda la geograf\\u00eda.                        Yo quisiera que cada soldado y polic\\u00eda de la Patria pudiera actuar como  profesor de excelencia en materia de geograf\\u00eda.                        La geograf\\u00eda de la   Patria es muy compleja, y todav\\u00eda hay la queja en muchas  regiones de que muchos de nosotros, y a\\u00fan en el nivel de comandancia, no  conocemos bien las regiones.                       No podemos ir a las regiones de paso, hay que ir a las  regiones conoci\\u00e9ndolas profundamente, integr\\u00e1ndose profundamente con sus  ciudadanos, y en eso tiene que dar ejemplo el Presidente de la Rep\\u00fablica, y eso tiene  que llegar hasta el m\\u00e1s joven de los soldados y polic\\u00edas.                       Y las regiones empiezan en nuestra capital.                       La capital hist\\u00f3ricamente ha tenido unos sitios bien  protegidos y otros sitios aislados. El conocimiento en detalle con todas las  regiones empieza en Bogot\\u00e1, donde hemos tenido sectores de la ciudad bastante  abandonados.                       La integraci\\u00f3n con los ciudadanos empieza con la ciudadan\\u00eda  de Bogot\\u00e1 y tiene que llegar a la ciudadan\\u00eda de los sitios geogr\\u00e1ficos m\\u00e1s  lejanos de la capital.                       Seguridad y prosperidad nacional                       En estos d\\u00edas uno oye muchas cosas: que para la prosperidad  nacional y crear empleo hay que eliminar los parafiscales.                        Eso a mi juicio ser\\u00eda un error. Nosotros hemos podido llegar  con polic\\u00edas y soldados de la   Patria a muchas regiones, acompa\\u00f1ados del Sena, Bienestar  Familiar, Familias en Acci\\u00f3n, todos esos programas sociales, porque hay unos  impuestos que obligan a que sean pagados para defender esas instituciones.                       \\u00bfQu\\u00e9 tal que no hubi\\u00e9ramos derramado el impuesto al  patrimonio?                        El impuesto al patrimonio nos ha permitido adelantar la Pol\\u00edtica de Seguridad  Democr\\u00e1tica sin sacrificar la pol\\u00edtica social.                        Si eliminamos los parafiscales se crean 200 mil empleos y  nos quedamos con el mismo nivel de desempleo, y sin esa herramienta de pol\\u00edtica  y social.                       Otros dicen que hay que quitar los incentivos a la inversi\\u00f3n  \\u00bfPor qu\\u00e9 los vamos a quitar si apenas est\\u00e1n empezando a producir resultados?                        Yo creo que esos temas que hoy se agitan no son soluciones.                       Entonces uno se pregunta: \\u2018\\u00bfBueno,\\u00a0 cu\\u00e1l es el camino de la prosperidad, del  empleo, el camino de la superaci\\u00f3n de la pobreza, de la construcci\\u00f3n de  equidad?                       Yo dir\\u00eda que es un camino de seis elementos: el primero la  seguridad, el segundo la promoci\\u00f3n de inversiones, el tercero el acceso a  mercados, el cuarto la innovaci\\u00f3n productiva, el quinto una revoluci\\u00f3n  educativa permanente y el sexto infraestructura. Y en todos est\\u00e1 presente la  seguridad.                       Qu\\u00e9 importante conectar la seguridad con ese conjunto  integral que es la prosperidad nacional.                        Gracias a la seguridad ha habido m\\u00e1s inversi\\u00f3n.                        El a\\u00f1o pasado, en medio de estas dos crisis que nosotros  sufrimos, la de Venezuela y la internacional, gracias a la seguridad Colombia  tuvo la tasa de inversi\\u00f3n m\\u00e1s alta de Am\\u00e9rica Latina.                        Y miren c\\u00f3mo se va conectando esto.                        En las crisis anteriores aument\\u00f3 mucho la pobreza en  Colombia, en esta crisis aument\\u00f3 en Am\\u00e9rica Latina y disminuy\\u00f3 en Colombia.                        Yo creo que es una proeza, en esta crisis, que no haya  aumentado la pobreza en Colombia, que haya disminuido as\\u00ed sea levemente, y  mejor\\u00f3 algo el coeficiente Gini de distribuci\\u00f3n del ingreso, y disminuy\\u00f3 m\\u00e1s,  disminuy\\u00f3 m\\u00e1s la pobreza absoluta.                       En crisis anteriores los colombianos se desafiliaban  masivamente del R\\u00e9gimen Contributivo de salud, de las cajas de compensaci\\u00f3n,  hab\\u00eda m\\u00e1s deserci\\u00f3n escolar y universitaria.                       Gracias a la seguridad el pa\\u00eds ha cambiado de condiciones, y  en esta crisis continu\\u00f3 la afiliaci\\u00f3n creciente de los colombianos a la  seguridad social, a pesar de todo lo que falta, y continu\\u00f3 el crecimiento de la  escolaridad y el crecimiento de la poblaci\\u00f3n universitaria.                       Gracias a la seguridad, en muy buena parte, en medio de la  ca\\u00edda de los recursos del Gobierno Central no le tuvimos que disminuir las  transferencias a las regiones. La seguridad es muy importante.                       Por bueno que sea el manejo de la econom\\u00eda, por acertado el  discurso de la econom\\u00eda si no hay seguridad no hay prosperidad.                       Y ese segundo elemento: la tasa de inversi\\u00f3n.                       Seguridad, inversi\\u00f3n y comercio                       Los ciudadanos se preguntan inmediatamente por la seguridad.  Donde no hay seguridad no llega la inversi\\u00f3n.                        Y ese tercer elemento, el acceso a mercados. La inseguridad  la utilizan para negarnos el acceso a mercados. Cuando el pa\\u00eds es seguro, con  eficacia y con transparencia, no tienen por qu\\u00e9 negarnos el acceso a mercados.                       Vea todav\\u00eda esa dificultad con los Estados Unidos, y lo que  han alegado es que aqu\\u00ed asesinan a los trabajadores y en eso hay impunidad, en  algo que venimos superando con tanto esfuerzo. Algo que se incub\\u00f3 aqu\\u00ed  hist\\u00f3ricamente, porque ah\\u00ed tambi\\u00e9n se necesita una deliberaci\\u00f3n.                       \\u00bfPor qu\\u00e9 el asesinato de trabajadores?                        Las guerrillas marxistas en Colombia implantaron la tesis de  la combinaci\\u00f3n de todas las formas de lucha. Asesinaban y penetraban sectores  del movimiento obrero, del movimiento estudiantil, del movimiento campesino.                       Llegaron los paramilitares y empezaron a matar l\\u00edderes de  los trabajadores, acus\\u00e1ndolos de ser colaboradores de la guerrilla.                       Y la guerrilla en venganza, a asesinar l\\u00edderes de los  trabajadores acus\\u00e1ndolos de ser traidores, de haberse pasado al bando de los  paramilitares.                       Y nosotros encontramos eso, pero hemos hecho un gran  esfuerzo.                       No estamos contentos, todav\\u00eda el a\\u00f1o pasado nos asesinaron  28 trabajadores, pero hubo a\\u00f1os de 256. Hab\\u00eda una sentencia, hoy hay casi 200  sentencias gracias a los esfuerzos de Colombia, nuestro aumento del presupuesto  de la Fiscal\\u00eda,  nuestra voluntad pol\\u00edtica.                        Es que el presupuesto de la Fiscal\\u00eda en estos a\\u00f1os ha  pasado de 600 mil millones a un bill\\u00f3n 400 (mil millones de pesos).                       No hab\\u00eda personas en la c\\u00e1rcel, hoy hay m\\u00e1s de 200 en la  c\\u00e1rcel.                       Este pa\\u00eds entre el a\\u00f1o 89 y el a\\u00f1o 2003 hizo una apertura  unilateral.                        Abrimos nuestro mercado para que llegaran bienes  extranjeros, pero no buscamos acceso a mercados, nos quedamos simplemente con  el mercado Andino y un acuerdo que finalmente result\\u00f3 ser insuficiente con  M\\u00e9xico.                       Todos estos a\\u00f1os hemos hecho un esfuerzo para acceder a  mercados, y el tema de la seguridad es crucial.                        Ahora por ejemplo para que en el Parlamento Europeo  ratifiquen el Tratado de Comercio con Colombia, tenemos que acreditar todo lo  que ha hecho el pa\\u00eds en materia de seguridad integralmente; esa seguridad que  da la credibilidad, que es la seguridad que reposa en la eficacia y la  transparencia, son inseparables la eficacia y la transparencia                        A m\\u00ed me preocupa mucho cuando escuchaba en el pasado a mis  compatriotas quej\\u00e1ndose de que no hab\\u00eda eficacia o de que hab\\u00eda corrupci\\u00f3n con  un grupo u omisi\\u00f3n frente a otro.                        La eficacia no puede ser raz\\u00f3n para violar derechos humanos,  y el respeto a los derechos humanos no es obst\\u00e1culo para ser eficaz. Creo que  podemos tener esa gran combinaci\\u00f3n de eficacia y transparencia.                       M\\u00e1s a\\u00fan, mientras m\\u00e1s fuerte sea la instituci\\u00f3n armada de la Patria, menor es la  posibilidad de violar derechos humanos.                        Los periodos hist\\u00f3ricos muestran que la debilidad se  compensa con violaci\\u00f3n de derechos humanos.                        Hay que tener fortaleza, m\\u00e1s designio de eficacia, y esos  son caminos para proteger derechos humanos.                        Y mostrar esa ecuaci\\u00f3n equilibrada entre eficacia y derechos  humanos es fundamental para los acuerdos de comercio hoy. Sin eso no lo  logramos.                        La gente dice: \\u2018bueno, voy a invertir en Colombia porque hay  seguridad\\u2019. Pero enseguida tambi\\u00e9n dice: \\u2018si yo desde Colombia no tengo acceso  a mercados, \\u00bfpara qu\\u00e9 invierto all\\u00e1, a qui\\u00e9n le vendo?\\u2019.                       Y entonces enseguida hay otro tema: \\u2018bueno, tenemos acceso a  mercados, \\u00bfy qu\\u00e9 vamos a vender?\\u2019.                        Hay que agregarle valor a lo que producimos, y tener nuevos  productos.                       Anoche aqu\\u00ed la Corporaci\\u00f3n Colombia  Internacional nos mostraba todo lo que puede hacer la agricultura de precisi\\u00f3n  en Colombia.                       \\u00bfC\\u00f3mo la relaciono con la seguridad?                       Ya hay proyectos de 40 mil hect\\u00e1reas en los Llanos  Orientales, donde est\\u00e1n haciendo una revoluci\\u00f3n agropecuaria. Tierras que no  eran filtrantes, y con ciencias las est\\u00e1n convirtiendo en tierras filtrantes.  Tierras \\u00e1cidas, y con ciencias las est\\u00e1n convirtiendo en tierras neutras.  Suelos que no produc\\u00edan sabanas, y ya van a ser campeones en producci\\u00f3n de soya  y de ma\\u00edz.                        Y yo pregunto: \\u2018\\u00bfY por qu\\u00e9 pudieron llegar aqu\\u00ed?\\u2019, cuando  voy a esos proyectos de la llanura, a esta innovaci\\u00f3n productiva, y me dicen:  \\u2018Presidente, por las Fuerzas Armadas\\u2019.                        Si no hay seguridad no hay innovaci\\u00f3n productiva.                       La seguridad ha ayudado a que haya m\\u00e1s recursos y a que  avancemos en educaci\\u00f3n.                        Seguridad e infraestructura                       Y ese tema de infraestructura.                        \\u00bfQu\\u00e9 firma de ingenier\\u00eda nacional se le somete a las grandes  carreteras del pa\\u00eds o de ingenier\\u00eda extranjera, si la inseguridad no deja  avanzar en los contratos?                        Yo recuerdo cuando empez\\u00f3 el Gobierno, todas las concesiones  viales estaban en pleito, y yo pregunt\\u00e9 por qu\\u00e9 est\\u00e1n en pleito, empezando por  las de Antioquia, que las hab\\u00eda conocido muy bien hasta el 2 de enero de 98,  cuando termin\\u00f3 el periodo de esa gobernaci\\u00f3n.                       Y me dijeron: \\u2018Porque tenemos el 35 por ciento de tr\\u00e1fico  por los peajes, del que deber\\u00edamos tener\\u2019.                        \\u00bfC\\u00f3mo as\\u00ed?                        \\u2018No, es que el crecimiento de la violencia no dej\\u00f3 que se  cumplieran los tr\\u00e1ficos por los peajes. Entonces no se han dado los ingresos  que estas concesiones aspiraban tener, no se han dado los ingresos garantizados  en los contratos, y por eso estamos en pleito\\u2019.                       Todas las concesiones en pleito por inseguridad.                        Hoy est\\u00e1n todas las concesiones marchando, en muy buena  parte por la seguridad,                       El pa\\u00eds necesita la seguridad para su desarrollo de  infraestructura.                       Muchas firmas se hab\\u00edan ido de Colombia, extranjeras.                        \\u00bfPor qu\\u00e9 no van a Colombia? \\u2018No, porque nos secuestran nos  matan\\u2019.                        Qu\\u00e9 dificultad lograr que los japoneses volvieran a  Colombia, y apenas hoy medio se asoman no han regresado definitivamente, una  fuente de inversi\\u00f3n tan importante como el Jap\\u00f3n, por temor.                        Colombia necesita estos cuatro millones de nuevos kilovatios  de energ\\u00eda que deja contratados este Gobierno, Colombia necesita tenerlos  operando para el a\\u00f1o 2019, y si no hay seguridad eso no se da.                        Por ejemplo yo tengo hoy un gran temor por esa invasi\\u00f3n en  lo que ha de ser Porce 4. All\\u00ed tiene que trabajar la Fuerza P\\u00fablica,  porque si la inseguridad frustra esos proyectos, el pa\\u00eds se queda sin energ\\u00eda.                        Los colombianos sabemos por el espejo propio y por el ajeno,  que son esos periodos de suspensi\\u00f3n del fluido el\\u00e9ctrico.                       En petr\\u00f3leo, cuando empez\\u00f3 el Gobierno a m\\u00ed me dijeron en el  empalme, cifras oficiales, \\u2018prep\\u00e1rense, porque en el 2008 se va a perder la  autosuficiencia\\u2019.                       Entonces yo me pregunt\\u00e9, y me pregunto: \\u2018\\u00bfCu\\u00e1nto requiere el  pa\\u00eds para el consumo interno, para ser autosuficiente?\\u2019 Doscientos veinte, 234  mil barriles al d\\u00eda, incierto.                        Si \\u00edbamos a perder la autosuficiencia en el 2008, eso  significa que en el 2008 deber\\u00edamos producir por d\\u00eda menos de 220 (mil), menos  de 234 mil barriles de petr\\u00f3leo, sin embargo estamos produciendo 785 mil.                        Y Colombia se acerca a producir un mill\\u00f3n, y viene el camino  de producir mill\\u00f3n y medio de barriles de petr\\u00f3leo.                        Yo voy all\\u00e1 a Campo Rubiales, ah\\u00ed ya muy al este del Meta,  cerquitica de la frontera con el Vichada, donde se est\\u00e1 haciendo una maravilla  a favor de este pa\\u00eds, y digo \\u00bfpor qu\\u00e9? Me dicen: \\u2018No, por la seguridad\\u2019.                        Esto es: yo creo que nosotros tenemos que aclimatar una  revoluci\\u00f3n cultural en Colombia.                       Revoluci\\u00f3n cultural de la seguridad                       Cuando mi generaci\\u00f3n estaba en las bancas de la universidad,  se nos incitaba a tener un desprecio por la seguridad, nos dec\\u00edan: \\u2018eso es  fachista\\u2019.                        Yo creo que hoy es muy importante reconocer que la seguridad  es un valor democr\\u00e1tico y una fuente de recursos; un elemento transversal en  todos los aspectos de la vida colombiana para la prosperidad.                        Esta revoluci\\u00f3n cultural hay que aclimatarla en la mente de  los compatriotas.                        Cuando yo estaba en las bancas de la universidad se  extremaba la interpretaci\\u00f3n de la teor\\u00eda positiva del derecho penal, todo  delito se interpretaba como una derivaci\\u00f3n de problemas sociales. Y se cre\\u00eda  que los problemas sociales hab\\u00eda que resolverlos sin seguridad, lo cual era  imposible, y sin confianza de inversi\\u00f3n, lo cual era imposible.                        Yo creo que hoy se acepta que la inseguridad permite un  avance del crimen que agrava la pobreza, que agrava el desempleo, que expatria  inversi\\u00f3n y no permite que llegue inversi\\u00f3n for\\u00e1nea.                        Hoy se acepta que la seguridad es una fuente de recursos  para poder resolver los problemas sociales, los problemas de infraestructura,  para poder construir prosperidad.                        Una revoluci\\u00f3n cultural bien importante.                        Cuando empez\\u00f3 este Gobierno dec\\u00edan: \\u2018No, es que Uribe no es  sino guerra\\u2019, y mucha gente ped\\u00eda en las regiones solamente soluciones  sociales, y les daba miedo pedir polic\\u00eda o ej\\u00e9rcito.                        Hoy abiertamente, en todas las regiones le piden a uno  educaci\\u00f3n y m\\u00e1s polic\\u00eda y m\\u00e1s ej\\u00e9rcito. Eso es muy bueno.                        Yo s\\u00ed prefiero la Colombia de hoy, donde mis compatriotas reclaman  por igual pol\\u00edtica social que pol\\u00edtica de seguridad, que la Colombia que viv\\u00ed hasta  hace unos a\\u00f1os, en la cual mis compatriotas, unos por convicci\\u00f3n, otros porque  no los hab\\u00edan orientado bien y otros por temor, no reclamaban seguridad.                        Qu\\u00e9 bueno, ustedes lo han escuchado, apreciados comandantes,  el alcalde del municipio m\\u00e1s humilde de Colombia, el concejal del municipio m\\u00e1s  humilde de Colombia, reclamando por igual el mejoramiento de la v\\u00eda, la  pol\\u00edtica educativa y la seguridad.                        Es el momento de poner en la mente colombiana que la  seguridad es un camino para la prosperidad.                        Este pa\\u00eds tendr\\u00eda mucha m\\u00e1s prosperidad de no haber sufrido  tanta violencia.                        En estos 200 a\\u00f1os \\u2013apreciado General Ib\\u00e1\\u00f1ez- de vida  independiente, escasamente hemos tenido 47 a\\u00f1os de paz, cuando podr\\u00edamos tener  m\\u00e1s prosperidad.                        Por eso para la prosperidad de las nuevas generaciones es  muy importante la seguridad.                        \\u00bfQu\\u00e9 nos ha dejado la violencia? El pa\\u00eds destruido.                       El general Rafael Uribe Uribe, cuando firm\\u00f3 el acta de paz  de la Guerra  de los Mil D\\u00edas en la finca Neerlandia, en el departamento del Magdalena, con  el general Florentino Manjarr\\u00e9s, dijo Uribe Uribe: \\u2018Hemos hecho la paz, porque  dejamos el pa\\u00eds destruido. Nuestros padres y nosotros mismos cre\\u00edamos que  hac\\u00edamos Patria con los fusiles destructores de la violencia. La \\u00fanica manera  de hacer Patria es con las herramientas fecundas del trabajo\\u2019.                        Para poder utilizar las herramientas fecundas del trabajo se  necesita la seguridad.                       \\u00bfPor qu\\u00e9 perdimos a Panam\\u00e1? Otra buena reflexi\\u00f3n de estos  200 a\\u00f1os. Solamente hay una tesis, pero no la otra. Solamente hay la tesis de  que la perdimos por el gran garrote del Presidente Teddy Roseevelt, de que la  perdimos por el inter\\u00e9s econ\\u00f3mico norteamericano en el canal.                       Pero hay otra tesis, y est\\u00e1n todos los elementos para esa  hip\\u00f3tesis: tambi\\u00e9n la perdimos por la pol\\u00edtica del gran descuido nuestro,  porque por la violencia interna destruimos el pa\\u00eds, porque despreciamos la  seguridad, porque nunca le dimos seguridad a Panam\\u00e1. Los paname\\u00f1os viv\\u00edan  cansados de nuestro desprecio por la seguridad.                        A\\u00f1os antes de esa independencia, en varias ocasiones  trataron de independizarse, en una de ellas porque incendiaron a Col\\u00f3n,  destruyeron la ciudad de Col\\u00f3n, quebraron las compa\\u00f1\\u00edas de seguros.                        \\u00bfSaben qui\\u00e9n nos salv\\u00f3 de esa independencia? Un hombre de  autoridad que posteriormente ser\\u00eda Presidente de la Rep\\u00fablica, el general  Rafael Reyes.                        El Gobierno de entonces lo mand\\u00f3 como enviado a enfrentar  eso de Col\\u00f3n, y \\u00e9l ejerci\\u00f3 autoridad y restableci\\u00f3 la tranquilidad de los  paname\\u00f1os.                        Nosotros por la violencia hemos perdido muchas  oportunidades.                       Seguridad en medio de libertades, sin represi\\u00f3n                       Deliberen, apreciados estudiantes, comandantes, d\\u00edganle al  pa\\u00eds que esta es una Seguridad Democr\\u00e1tica, no represi\\u00f3n.                       Cuando uno examina el Movimiento Comunero, sobre \\u00e9l se dio  una gran represi\\u00f3n por una reivindicaci\\u00f3n social                       \\u00bfQu\\u00e9 ped\\u00eda el Movimiento Comunero? Lo mismo que ped\\u00eda el  movimiento de Juan Sin Tierra en Inglaterra, a principios de los a\\u00f1os mil.                        El movimiento de Juan Sin Tierra en Inglaterra, que produjo la Carta Magna, y que se  considera como el punto fundacional del Estado de Derecho, lo que exigi\\u00f3 era  que se tuviera en cuenta la opini\\u00f3n p\\u00fablica, la opini\\u00f3n popular para el derrame  de tributos.                        La rebeli\\u00f3n comunera era contra la imposici\\u00f3n mon\\u00e1rquica de  los tributos, y all\\u00ed hubo una violencia represiva del Estado que acab\\u00f3 con esa  ilusi\\u00f3n de patria con el Movimiento Comunero.                        \\u00bfQu\\u00e9 ha pasado en estos a\\u00f1os de Gobierno?, se ha ejercido  autoridad.                       \\u00bfQu\\u00e9 ha pasado en estos a\\u00f1os de Gobierno? Se ha ejercido  autoridad sin represi\\u00f3n.                       Es bien importante tambi\\u00e9n aclimatar esa noci\\u00f3n en la mente  de los colombianos.                        Una cosa es la autoridad, otra cosa es la represi\\u00f3n.                       Hace pocos d\\u00edas conmemoramos los 50 a\\u00f1os de la muerte del  expresidente Alfonso L\\u00f3pez Pumarejo. Se reconoce en \\u00e9l y al General Santos  Acosta c\\u00f3mo padre de la Universidad Nacional.                        En la \\u00e9poca de L\\u00f3pez el pa\\u00eds entreg\\u00f3 unas reformas bien  importantes.                       Alberto Lleras, expresidente bien importante la Naci\\u00f3n, refiri\\u00e9ndose a  L\\u00f3pez Pumarejo dice bellamente: \\u2018Era una era de reformas, no de violencia; una  \\u00e9poca de agitaci\\u00f3n, no de demagogia\\u2019. Agrega: \\u2018Esas reformas las presidi\\u00f3  Alfonso L\\u00f3pez, el m\\u00e1s implacable adversario del caos\\u2019.                        Eso nos da un buen ejemplo de ese balance.                        Conversando con muchos j\\u00f3venes, que no recuerdan el pa\\u00eds de  hace ocho a\\u00f1os, les he dicho: \\u2018Yo he entrado a la Universidad Nacional,  con las Fuerzas Armadas, a rescatar un Rector secuestrado, no a suprimir la  libertad de c\\u00e1tedra\\u2019.                       Yo creo que hay que acabar esos prejuicios.                        \\u00bfAh, entonces pueden destruir las universidades si no entra la Fuerza P\\u00fablica?                        Desde el d\\u00eda cero de este Gobierno digo: A la Universidad se le  respeta en su tarea cient\\u00edfica, en su tarea de libertades, en su tarea cr\\u00edtica,  pero no se les permite violencia.                        Ese prejuicio de que: \\u2018No, ellos pobrecitos. Esos muchachos  tienen el derecho de quemar la   Universidad y secuestrar al Rector y nada les pasa\\u2019.                        Eso no se puede permitir. Adem\\u00e1s eso es contrario a la  ciencia. El pir\\u00f3mano no hace ciencia, el secuestrador no le agrega a la  ciencia, la ciencia se hace con orden y libertades.                        Ustedes muy generosamente han ayudado a la Patria en estos a\\u00f1os. Yo no  tengo sino motivos de gratitud y de afecto por las Fuerzas Armadas de la Patria.                       A las nuevas generaciones de colombianos les digo esto:                        Cuando yo era ni\\u00f1o, sent\\u00eda la necesidad de los soldados y  los polic\\u00edas, para que frenara la violencia entre los partidos, que me llev\\u00f3 a  ver tendidos en el suelo a amigos y a familiares y a vecinos.                       Cuando yo era adolescente y joven, a\\u00f1oraba a los soldados y  los polic\\u00edas que evitaran el crecimiento de las narcoguerrillas.                        Cuando yo era adulto, a\\u00f1oraba a los soldados y polic\\u00edas para  que evitaran el crecimiento del narcoparamilitarismo.                       Hoy, en las puertas de dejar la Presidencia de  Colombia, quiero que las nuevas generaciones a\\u00f1oren a los soldados y polic\\u00edas,  los quieran, los apoyen todos los d\\u00edas, todos sean cooperantes de la Fuerza P\\u00fablica,  para garantizar una Patria segura, una Patria de libertades, una Patria de  progreso.                       Al agradecerles inmensamente este honoris causa, que lo  merecen los soldados y los polic\\u00edas de la Patria \\u2013yo simplemente he sido una especie  de\\u00a0 est\\u00edmulo a la pol\\u00edtica de seguridad-  les pido que me permitan a partir del 7 de agosto ingresar a los organismos de  reserva de la Fuerzas   Armadas de Colombia.                       Muchas gracias\\u201d.\\u00a0\",\n          \"                                        \\u00a0\\u201cNos ha convocado la se\\u00f1ora Ministra, para conmemorar los 85 a\\u00f1os del Ministerio   de Comunicaciones, a unos eventos que nos conectan con una formidable   trayectoria de la Patria.                       Empiezo por rendir un homenaje a los colombianos que han recibido hoy la   Orden \\u2018Manuel Murillo Toro\\u2019: a D'Artagnan, el gran ausente, el gran polemista,   el patriota de todas las horas, una vida intensa pero corta                        \\u00a1Cu\\u00e1nta falta nos hace!                       A nuestro gran cient\\u00edfico, el doctor (Jorge) Reynolds. En reconocimiento a su   trayectoria como investigador, innovador en el campo de la ingenier\\u00eda   electr\\u00f3nica, sus aportes al bienestar de los colombianos.                       El doctor \\u00c1lvaro Casta\\u00f1o Castillo, como reconocimiento a su contribuci\\u00f3n al   desarrollo de la radiodifusi\\u00f3n sonora en Colombia. Acabamos de escucharlo con   gran atenci\\u00f3n y agrado, una batalla ininterrumpida desde 1950, y tomamos nota   del creciente espacio que las comunicaciones deben a la cultura. Ese buen   reclamo que nos ha hecho en esta tarde.                       Al doctor Fernando Londo\\u00f1o Henao (ex presidente de Caracol) por ese aporte   empresarial tan importante con gran vocaci\\u00f3n, con gran entrega a la radio y a la   televisi\\u00f3n de Colombia.                        Al doctor Hugo Sin, por su contribuci\\u00f3n a la introducci\\u00f3n, promoci\\u00f3n y   desarrollo de la Internet en Colombia, que empieza a dar un gran salto.                        A Jaime Abello, por su trayectoria al servicio del periodismo democr\\u00e1tico.   Como ha quedado reiterado esta noche en sus palabras sobre episodios que se   suceden en el continente, y en su llamado a que los gobiernos mantengan   totalmente las libertades y que sean los comunicadores los que definan c\\u00f3mo   conectarse mejor con los ciudadanos, c\\u00f3mo tener el m\\u00e1s alto grado de   legitimidad.                       Al doctor Manuel Mart\\u00ednez, en reconocimiento a su contribuci\\u00f3n al servicio de   la investigaci\\u00f3n de las telecomunicaciones en Colombia.                        Al doctor Juan Gossa\\u00edn, por su trayectoria period\\u00edstica al servicio de las   comunicaciones en Colombia. C\\u00f3mo nos dec\\u00edan esta noche, a su trayectoria de   escritor en los peri\\u00f3dicos del Caribe colombiano, en El Heraldo, en El   Espectador; a su inmensa tarea radial.                       A Orlando Ayala (Vicepresidente del Grupo de Desarrollo de Mercados   Emergentes de Microsoft) en reconocimiento a su trayectoria profesional dedicada   al desarrollo de las tecnolog\\u00edas de informaci\\u00f3n y de comunicaciones en Colombia   y en el Mundo.                        Adem\\u00e1s, desde una posici\\u00f3n internacional destacad\\u00edsima, ha cumplido la   meritoria tarea de orientar esfuerzos y valios\\u00edsimos recursos a apoyar a este   sector en Colombia.                       El doctor Jaime Posada nos ha hecho un bell\\u00edsimo resumen de Manuel Murillo   Toro, el ex Presidente a quien debemos una era brillante de las comunicaciones   en Colombia.                        Al recordar hoy la trayectoria del Ministerio, all\\u00ed hay un punto de   referencia.                        A esa semblanza de luchador pol\\u00edtico, de encarnaci\\u00f3n de valores democr\\u00e1ticos,   de gladiador en favor de las libertades, que de Murillo Toro nos ha hecho el   doctor Jaime Posada, poco habr\\u00eda que agregarle.                        Mantuvo dentro de su partido unas posiciones que nunca claudic\\u00f3. A aquella   discrepancia con el General (Tom\\u00e1s Cipriano de) Mosquera sobre el Arzobispo del   Sur, habr\\u00eda que agregarle otro episodio: discrepaba precisamente de quien hab\\u00eda   sido su compa\\u00f1ero en la cordillera central, para lanzar en 1862 el Estado   soberano del Tolima como uno de los anticipos a la Constituci\\u00f3n de los estados   soberanos de 1863.                       El gran amigo de (Abraham) Lincoln. Era invitado frecuentemente por el   Presidente Lincoln a los consejos de ministros, como lo recordara esta noche en   su intervenci\\u00f3n la se\\u00f1ora Ministra de Comunicaciones.                        Y el gran promotor de lo que podr\\u00edamos llamar la revoluci\\u00f3n de las   comunicaciones en Colombia, en una \\u00e9poca muy dif\\u00edcil, porque en aquel siglo 19   apenas tuvimos 7 a\\u00f1os de paz.                        Los valores democr\\u00e1ticos de Murillo Toro tiene un merito adicional: Cumpli\\u00f3   sus deberes democr\\u00e1ticos, jam\\u00e1s se dejo tentar para cercenar libertades a pesar   de la presi\\u00f3n de la violencia y de la inestabilidad.                        Y esas dificultades no fueron \\u00f3bice para que Murillo Toro consagrara energ\\u00edas   tan importantes como las que permitieron la instalaci\\u00f3n del tel\\u00e9grafo en   Colombia.                       Rendimos un homenaje a todos aquellos colombianos que han contribuido a esta   trayectoria de las comunicaciones en la Patria.                       Muchas gracias doctor (Luis Horacio) L\\u00f3pez, por este libro. Usted lo ha dicho   de manera muy agradable; nos ha invitado a que no lo convirtamos en un libro de   decoraci\\u00f3n de escritorios, sino que a trav\\u00e9s de \\u00e9l procuremos que las nuevas   generaciones nutran el conocimiento de unos esfuerzos sostenidos que ha hecho la   Naci\\u00f3n durante muchos a\\u00f1os.                       Incre\\u00edble, m\\u00e1s de 100 ministros en 85 a\\u00f1os le dir\\u00edan a uno: \\u2018Bueno, el pa\\u00eds   c\\u00f3mo ha avanzado en medio de tanta inestabilidad\\u2019.                        Justamente eso tratamos de corregirlo en este Gobierno. Hemos contado con dos   excelentes ministras: la doctora Marta de Hart, la doctora Mar\\u00eda del Rosario   Guerra de Mesa. Y las rodeamos de apoyo y de condiciones de estabilidad.                        He cre\\u00eddo que es mucho m\\u00e1s importante para el gabinete tener condiciones de   estabilidad para poder cumplir sus programas, llevarlos a cabo, que depender de   las vicisitudes de la lucha pol\\u00edtica cotidiana.                       En aras de los resultados, este Gobierno ha sido amigo irreductible de la   estabilidad.                        No puedo dejar en esta, una de las \\u00faltimas intervenciones p\\u00fablicas de la   se\\u00f1ora Ministra como Ministra de Comunicaciones, en esta ocasi\\u00f3n, hacerle un   reconocimiento a su magn\\u00edfica labor.                        Una luchadora con toda la solidez democr\\u00e1tica y acad\\u00e9mica, y un ejemplo de   combatividad y de transparencia. Los resultados que deja son unos resultados   excelentes para la Patria.                       Y su antecesora, la doctora Martha de Hart, que con gran valor llev\\u00f3 a cabo   el desaf\\u00edo de salvar los patrimonios del Estado colombiano vinculados a las   telecomunicaciones, patrimonios que eran decadentes y que por politiquer\\u00eda y   excesos sindicales, esa reforma parec\\u00eda imposible de llevar a cabo.                       La se\\u00f1ora Ministra Mar\\u00eda del Rosario Guerra de la Espriella, con el apoyo del   Congreso de la Rep\\u00fablica, deja una gran legislaci\\u00f3n de transformaci\\u00f3n del   sector.                        Avances del sector                       Una Patria que ha avanzando en el lapso de estas dos distinguidas ministras,   ministras de la excelencia. La Patria ha pasado de 4 millones de aparatitos   celulares a 42 millones.                        Los registros internacionales dicen que Colombia es el cuarto pa\\u00eds del mundo   que entre 2003 y 2009 m\\u00e1s ha agregado a\\u00f1o tras a\\u00f1o en conexiones de   Internet.                       Estamos llegando ya, y vamos a sobrepasar, el 80 por ciento de la matricula   de la educaci\\u00f3n oficial con acceso a conectividad, con banda ancha de buena   capacidad, lo que es fundamental para poder construir un camino de revoluci\\u00f3n   educativa que ayude, definitivamente, a superar la pobreza y a construir   equidad.                       Esta tarea de las ministras es fundamental para la transparencia.                        Colombia acaba de ser declarado como el primer pa\\u00eds en Gobierno en L\\u00ednea en   la regi\\u00f3n latinoamericana.                       El Gobierno en L\\u00ednea no es una moda, es un presupuesto necesario para la   participaci\\u00f3n ciudadana y para la transparencia. El Gobierno en L\\u00ednea es   fundamental para los procesos de licitaci\\u00f3n, para los prepliegos, para las   discusiones sobre los prepliegos, para la adopci\\u00f3n de los pliegos, para la   presentaci\\u00f3n de las propuestas, para la evaluaci\\u00f3n de las propuestas, para la   discusi\\u00f3n sobre las calificaciones de las propuestas.                       El Gobierno en L\\u00ednea es fundamental para el control de la evasi\\u00f3n, lo indica   el programa Muisca de la Administraci\\u00f3n de Impuestos, los programas que se   llevan a cabo en la Superintendencia de la Salud, los programas que se llevan a   cabo para controlar los pagos que deben los empleadores colombianos al Sena, a   Bienestar Familiar, a las cajas de compensaci\\u00f3n, al r\\u00e9gimen contributivo de   salud, a riesgos profesionales, al sistema pensional.                       El Gobierno en L\\u00ednea es fundamental para que los colombianos conozcan quienes   son los beneficiarios de todos los programas sociales, haya mayor control de   opini\\u00f3n, que es el gran camino de la transparencia.                       Yo creo que hay que resaltar el logro de la Ministra Mar\\u00eda del Rosario   Guerra, al colocar a Colombia como el primer pa\\u00eds latinoamericano en materia de   Gobierno en L\\u00ednea. Ese es un paso fundamental y formidable para una democracia   con transparencia.                       Muchas gracias, apreciada Ministra, a usted y a todo el equipo que la ha   acompa\\u00f1ado en el Ministerio de Comunicaciones en esta valerosa gesti\\u00f3n.                       Y este es un proceso din\\u00e1mico. Nosotros no nos podemos conformar con un 80   por ciento de la matricula p\\u00fablica con acceso a Internet, requerimos todos los   d\\u00edas mejorar la capacidad de la banda y llegarle al ciento por ciento de la   matr\\u00edcula.                       Cuando asistimos al Pac\\u00edfico, a muchos municipios a\\u00fan cercanos de las grandes   capitales andinas y del Caribe, a los Llanos Orientales, vemos que la manera de   llegar all\\u00ed con educaci\\u00f3n, con universidad, con postgrados, con cursos de   extensi\\u00f3n, es a trav\\u00e9s de la educaci\\u00f3n a distancia, virtual. Esta revoluci\\u00f3n es   necesario que avance hacia all\\u00e1.                       La Ministra deja un proceso muy importante para hacer de San Andr\\u00e9s y de   Providencia un gran centro de desarrollo de la revoluci\\u00f3n de las   telecomunicaciones en Colombia, deja en plena ejecuci\\u00f3n el contrato para   instalar el cable submarino.                       En San Andr\\u00e9s operan la mayor\\u00eda de los profesores que a trav\\u00e9s del Sena le   est\\u00e1n garantizando ense\\u00f1anza de ingl\\u00e9s como segunda lengua a un mill\\u00f3n de   colombianos, hoy con conexi\\u00f3n satelital, ma\\u00f1ana gracias al contrato de la se\\u00f1ora   Ministra, a trav\\u00e9s de un cable que permite superar muchas deficiencias de la   se\\u00f1al satelital.                       El pa\\u00eds tiene retos enormes.                        El reto de la posici\\u00f3n satelital: dejamos un   camino recorrido, lo deja la Ministra, bien importante.                       Un reto bien importante, lo que llamar\\u00edamos la tercera reforma de Telecom. La   Ministra Martha de Hart llev\\u00f3 a cabo las dos primeras reformas, ahora hay que   vincular a Colombia Telecomunicaciones en la tercera reforma a la telefon\\u00eda   m\\u00f3vil, de lo contrario corremos un grave riesgo de estancamiento.                       Muchas gracias, distinguido grupo de colombianos que han recibido hoy la   Orden \\u2018Murillo Toro\\u2019 por sus servicios a la Patria. Muchas gracias, doctor (Luis   Horacio) L\\u00f3pez por esta compilaci\\u00f3n.                       Honramos hoy la memoria de todos los ministros, de los presidentes que han   hecho esta gran contribuci\\u00f3n a las comunicaciones, y los honramos a todos en el   nombre de Manuel Murillo Toro. Y especialmente muchas gracias a usted, se\\u00f1ora   Ministra.                        Aquel d\\u00eda del gobierno de Murillo Toro, era su segundo gobierno, cuando se   inauguraba el tel\\u00e9grafo, William Lee Stiles escribi\\u00f3 el primer telegrama al   ciudadano presidente de los Estados Unidos de Colombia:                        \\u201cEl tel\\u00e9grafo el\\u00e9ctrico ha subido a los Andes colombianos y env\\u00eda su primer   saludo al digno presidente de esta Rep\\u00fablica, Manuel Murillo Toro, que tanto   empe\\u00f1o ha mostrado para dotar a su pa\\u00eds con este progreso.                       Pueda la paz \\u2013la Naci\\u00f3n se debat\\u00eda en mucha violencia, en 200 a\\u00f1os de vida   independiente hemos vivido escasamente 47 a\\u00f1os de paz y las generaciones vivas   desde los a\\u00f1os 40 ni un solo d\\u00eda completo de paz- pueda la paz cubrir con sus   alas bienhechoras toda la extensi\\u00f3n de este hermoso pa\\u00eds y darnos el aliento   necesario para prolongar este alambre telegr\\u00e1fico antes de dos a\\u00f1os, desde la   altiplanicie de Funza hasta las riberas del Atl\\u00e1ntico\\u201d: William Lee Stiles,   administrador.                       Bogot\\u00e1, 1\\u00b0 de noviembre de 1865, el Presidente de Colombia al se\\u00f1or Stiles,   constructor del tel\\u00e9grafo colombiano, en Cuatro Esquinas:                        \\u201cGracias muy sinceras se\\u00f1or Stiles, compa\\u00f1ero del inmortal Morse. El nombre   de usted ser\\u00e1 grabado con buril eterno en los anales de nuestra Patria, como   importador de uno de los m\\u00e1s notables inventos del presente siglo. Reciba usted   mis congratulaciones por el feliz \\u00e9xito con que van coron\\u00e1ndose sus esfuerzos y   los del gobierno. Paz a los hombres de buena voluntad y gloria para los obreros   de la civilizaci\\u00f3n cristiana\\u201d. Manuel Murillo Toro.                       Gracias Ministra, gracias a todos ustedes\\u201d.\\u00a0\",\n          \"                    \\u00a0 \\u201cDa mucho gusto compartir hoy  nuevamente con ustedes.                        Quiero hacer una introducci\\u00f3n con referencia a tres temas:  al tema de secuestro, al tema del acuerdo con Europa y una introducci\\u00f3n a lo  que vamos a revisar hoy, fundamentalmente el tema de los proyectos viales de  Nari\\u00f1o.                        Tuvimos una reuni\\u00f3n en la Polic\\u00eda del aeropuerto. All\\u00ed la Fuerza Publica nos  estuvo dando detalles de c\\u00f3mo se dio esta liberaci\\u00f3n. Fue una noticia muy  triste la semana pasada cuando se dio ese secuestro en la carretera de Tumaco.                        Inmediatamente hubo una gran reacci\\u00f3n. Esta ma\\u00f1ana tanto el  Comandante del Ejercito (general \\u00d3scar Enrique Gonz\\u00e1lez), a quien le ped\\u00ed que  hiciera directa presencia en Nari\\u00f1o, que hab\\u00eda que ponerse al frente de esta  liberaci\\u00f3n, como los secuestrados ya liberados, coincidieron en la versi\\u00f3n. A  los 23 minutos de haberse presentado el secuestro ya se estaban dando los  primeros combates por la reacci\\u00f3n oportuna de la Fuerza Publica.                        As\\u00ed tiene que ser. Necesitamos prevenci\\u00f3n, cuidado de las  carreteras y una reacci\\u00f3n contundente al darse un secuestro.                        Yo les confieso que desde el d\\u00eda de ese secuestro no hab\\u00eda  podido conciliar el sue\\u00f1o y anoche ya pude dormir unas horitas con reposo.  Agradezco a la Fuerza   Publica de la   Patria, a los soldados y los polic\\u00edas por esa valerosa  reacci\\u00f3n, como tiene que ser.                        Es una oportunidad para una reflexi\\u00f3n: los colombianos  podemos derrotar el secuestro, los colombianos podemos derrotar el crimen.                        De este frente se han reinsertado ya 47 personas; dos ayer  otros esta ma\\u00f1ana. Estamos esperando que todos se desmovilicen, se les ha  decomisado los celulares, mucho armamento. Y tenemos que dejar a Nari\\u00f1o libre  de criminalidad. Es un prop\\u00f3sito. Luchando, luchando lo conseguimos.                        El acuerdo de comercio con Europa                        En segundo lugar quiero referirme al tema del acuerdo con  Europa.                        Apreciados compatriotas nari\\u00f1enses, yo no creo que el empleo  en Colombia dependa de una reforma laboral m\\u00e1s o menos. Yo no creo que dependa  de quitar los parafiscales o de retroceder la Reforma Laboral de  2002. El empleo y la prosperidad en Colombia dependen de unos elementos m\\u00e1s de  fondo: de la seguridad. Sin seguridad nadie invierte.                        Antes se pensaba que la seguridad era un camino a la  dictadura. Hoy por fortuna mis compatriotas en una inmensa mayor\\u00eda reclaman la  seguridad como un valor democr\\u00e1tico y como una fuente de recursos.                        El empleo, a mi juicio, y la prosperidad dependen en la Colombia de hoy de la  seguridad, de la confianza de inversi\\u00f3n, de la pol\\u00edtica social.                        Y hemos venido trabajando seis elementos que caben dentro de  este tri\\u00e1ngulo, el tri\\u00e1ngulo de la confianza, integrado por la seguridad, la  promoci\\u00f3n de la inversi\\u00f3n y la pol\\u00edtica social. Y dentro de ese tri\\u00e1ngulo seis  elementos: la seguridad, la promoci\\u00f3n de la inversi\\u00f3n, el acceso a mercados, la  innovaci\\u00f3n productiva, una revoluci\\u00f3n educativa e infraestructura.                        Sobre la seguridad hice una referencia, pero no nos podemos  descuidar. Cualquier descuido es abrir el camino para reversar. No nos podemos  descuidar. Una lucha de todas las horas y de todos los integradamente para  conquistar la seguridad.                        La promoci\\u00f3n de la inversi\\u00f3n. Cuando yo era joven, en la  universidad p\\u00fablica siempre se hablaba de lo social, pero no se hablaba de cu\\u00e1l  es la fuente de los recursos para lo social.                        Yo creo que se ha dado orto fen\\u00f3meno cultural importante de la Naci\\u00f3n. La Naci\\u00f3n hoy  en su inmensa mayor\\u00eda reclama inversi\\u00f3n. Sin inversi\\u00f3n no hay recursos para el  Sena (Servicio Nacional de Aprendizaje), sin inversi\\u00f3n no hay recursos para  Bienestar Familiar, sin inversi\\u00f3n no hay recursos para las universidades, sin  inversi\\u00f3n no hay recursos para la gratuidad educativa, sin inversi\\u00f3n no hay  recursos para Familias en Acci\\u00f3n. La inversi\\u00f3n es un medio y la reivindicaci\\u00f3n  social es su fin: inversi\\u00f3n con responsabilidad social.                        La tasa m\\u00e1s alta de inversi\\u00f3n en Am\\u00e9rica Latina                        Nosotros hemos dedicado muchas energ\\u00edas a promover la  inversi\\u00f3n y va bien. Antes en Colombia de cada 100 pesos que se produc\\u00edan se  invert\\u00edan 12, 14. El a\\u00f1o pasado tuvimos la tasa de inversi\\u00f3n en America Latina  en medio de la crisis, 25.8 (por ciento). M\\u00e1s alta que la del Brasil, que fue  del 16,17.                        Antes la inversi\\u00f3n extranjera oscilaba entre 400, 2 mil 100  millones de d\\u00f3lares. En los \\u00faltimos a\\u00f1os por encima de ocho mil 500. He o\\u00eddo a  muchos expertos decir que este a\\u00f1o la inversi\\u00f3n extranjera va a superar los 10  mil millones de d\\u00f3lares.                        Y me preguntan mucho: \\u2018bueno Presidente, pero si estamos  mejorando en inversi\\u00f3n \\u00bfpor qu\\u00e9 todav\\u00eda hay tanta pobreza y tanto desempleo?  Porque eso no produce efectos de la noche a la ma\\u00f1ana. China lleva muchos a\\u00f1os,  desde que llego Deng Xiaoping, con la mayor tasa de inversi\\u00f3n del mundo, y  solamente han reivindicado la pobreza a 400 millones de chinos de mil 300  millones de chinos.                        De todas maneras, en medio de tantas dificultades, en este  Gobierno han salido 3 millones de colombianos de la pobreza.                        Nosotros quer\\u00edamos haber avanzado m\\u00e1s. Pero es que adem\\u00e1s de  nuestra crisis hist\\u00f3rica de violencia, se nos atraves\\u00f3 la crisis de la econom\\u00eda  internacional y la crisis particular con la hermana Rep\\u00fablica de Venezuela.                        Sin embargo, miren. En Am\\u00e9rica Latina el a\\u00f1o pasado aument\\u00f3  la pobreza; en Colombia disminuy\\u00f3 levemente. Y en Colombia disminuy\\u00f3 la pobreza  absoluta. Y en Colombia mejor\\u00f3 algo el coeficiente Gini de distribuci\\u00f3n del  ingreso.                        En las crisis anteriores siempre aumentaba enormemente la  pobreza en Colombia. Es que la pobreza hab\\u00eda llegado al 60 por ciento y la  pobreza rural al 80. En esta crisis hemos logrado yo dir\\u00eda que algo que no era  anticipable: a pesar de la crisis mantener un camino de disminuci\\u00f3n de la  pobreza.                        Planeaci\\u00f3n Nacional va a entregar para el 20 de julio un  informe bien importante, avalado por los bancos multilaterales, sobre el \\u00edndice  de oportunidades. \\u00bfC\\u00f3mo Colombia ha avanzado en \\u00edndice de oportunidades? Porque  un ni\\u00f1o que empieza a recibir hoy educaci\\u00f3n escolar, alimentaci\\u00f3n de Bienestar  Familiar, gratuidad educativa del gobierno departamental, municipal y nacional,  su familia en Familias en Acci\\u00f3n, que tiene toda las posibilidades para  completar su estudio desde el preescolar hasta la universidad, ese ni\\u00f1o se  demora 15, 17, 20 a\\u00f1os para poder entrar a tener \\u00e9xitos en el emprendimiento o  en actividades laborales.                        Entonces uno no puede medir la pobreza simplemente con la  foto del d\\u00eda; tambi\\u00e9n hay que medir qu\\u00e9 se est\\u00e1 haciendo para que los  colombianos puedan superar la pobreza. Eso es lo que los economistas y  soci\\u00f3logos llaman el \\u00edndice de oportunidades, que ha aumentado much\\u00edsimo en  Colombia.                        Lo otro que nos van a medir es la l\\u00ednea de pobreza, porque  aqu\\u00ed la l\\u00ednea de pobreza es m\\u00e1s alta que en toda Am\\u00e9rica Latina. Entonces est\\u00e1n  tambi\\u00e9n en la revisi\\u00f3n de la l\\u00ednea de pobreza.                        Y lo otro es qu\\u00e9 pasa por la pobreza medida desde el \\u00e1ngulo  del egreso. Un nari\\u00f1ense que entra a Bienestar Familiar ya tiene una  alimentaci\\u00f3n gratuita del Estado que le merma gasto a su familia. Un nari\\u00f1ense  que entra al subsidio de salud, el d\\u00eda antes de entrar al subsidio de salud  tiene que pagar de su bolsillo todos los medicamentos; cuando entra al subsidio  de salud ya tiene ahorros, porque ya parte de los medicamentos los paga el  Estado, el R\\u00e9gimen Subsidiado.                        O sea que es muy importante esa medici\\u00f3n que estamos  esperando de la pobreza desde la l\\u00ednea del egreso. Qu\\u00e9 ha pasado en el egreso  de los colombianos en sus gastos con lo que se ha hecho.                        Inversi\\u00f3n y zonas francas                        Nosotros creemos que la inversi\\u00f3n con responsabilidad social  es muy importante. Yo miro con mucho entusiasmo algo que est\\u00e1 despegando.  Ustedes saben que el a\\u00f1o pasado produjimos un decreto para darle un tratamiento  preferencial a Cauca, Nari\\u00f1o, Caquet\\u00e1, Putumayo y Huila en cuanto a zonas  francas.                        El se\\u00f1or Gobernador (de Nari\\u00f1o, Antonio Navarro Wolff) se  esper\\u00f3 much\\u00edsimo por una zona franca de br\\u00f3coli. Est\\u00e1 aprobada, eso tiene que  ayudar a generar empleo.                        Yo le agradezco al Congreso de la Rep\\u00fablica que nos aprob\\u00f3  la Ley de Zonas Francas.  Este Gobierno va a dejar 80. \\u00bfY ad\\u00f3nde est\\u00e1 el empleo? Apenas se est\\u00e1n  construyendo, por eso hay que cuidarlas. Ojala no echen eso para atr\\u00e1s.                        Y ahora entra otra solicitud, para una zona franca en Nari\\u00f1o  para producir abono org\\u00e1nico. \\u00a1Qu\\u00e9 bueno! Ojal\\u00e1 se pueda aprobar antes de que  termine este Gobierno. Se lo encomiendo a Juan Carlos Caiza (Asesor  Presidencial para los Municipios y Gobernaciones).                        Yo, Dios mediante, voy a regresar a Pasto y a Ipiales el  jueves. Y espero tener noticia de otra zona franca, que es una zona franca de  salud en Pasto, para que vengan enfermos de otros pa\\u00edses a curarse aqu\\u00ed donde  tenemos una medicina de muy buena calidad y unos costos comparativamente  menores. Ah\\u00ed Colombia tiene una gran posibilidad.                        Yo creo que la inversi\\u00f3n es bien importante. Este pa\\u00eds pas\\u00f3  en estos a\\u00f1os de tener 4 millones de hect\\u00e1reas de agricultura a tener 5  millones. Eso tiene que ayudar. Yo dir\\u00eda que hoy hay menos inflaci\\u00f3n, entre  otras cosas, porque hay m\\u00e1s oferta alimenticia.                        Pero en la inversi\\u00f3n hay que continuar, exigiendo s\\u00ed  responsabilidad social. Por ejemplo, en una zona franca los trabajadores tienen  que ser vinculados con contratos a t\\u00e9rmino indefinido; en una zona franca los  tienen que tener afiliados a la seguridad social. Todo el empleo tiene que ser  formal. O sea que eso pone la inversi\\u00f3n al servicio de la buena calidad de vida  de los trabajadores.                        Uno mira con mucho entusiasmo el proceso de inversi\\u00f3n en  Colombia, pero apenas, apenas a Colombia la empieza a tener como un gran  destino de inversi\\u00f3n. Apenas empezamos a sonar, apenas empezamos a aparecer.  Por eso hay que persistir, porque esto apenas es una peque\\u00f1a tendencia que hay  que cuidarla.                        Acceso a mercados                        Y tambi\\u00e9n hay que pensar en el tercer elemento: acceder a  mercados. Los colombianos necesitamos poder llegar a todos los mercados del  mundo para vender nuestros productos.                        A m\\u00ed me preocupa esto: Colombia entre el a\\u00f1o 89 y el 2003  hizo una apertura, pero no accedi\\u00f3 a mercados \\u00bfEn qu\\u00e9 consisti\\u00f3 la apertura?  Nosotros abrimos nuestro mercado para que llegaran bienes del extranjero, pero  en mercados para nuestros productos \\u00bfqu\\u00e9 tuvimos? El mismo mercado andino, un  acuerdo insuficiente con M\\u00e9xico y unas preferencias unilaterales que se daban,  se venc\\u00edan, se quitaban, con Estados Unidos y con Europa.                        \\u00bfQu\\u00e9 ha hecho nuestro Gobierno? Buscar mercado para los  productos colombianos. Por eso el acuerdo con Chile, con Mercosur, el acuerdo  para inversi\\u00f3n m\\u00e1s all\\u00e1 de las reglas andinas con Per\\u00fa, el acuerdo con tres  pa\\u00edses centroamericanos, ahora la negociaci\\u00f3n con Panam\\u00e1, el acuerdo con  Canad\\u00e1; ya se aprob\\u00f3 el debate m\\u00e1s dif\\u00edcil del Parlamento canadiense. El  acuerdo con los Estados Unidos, inexplicablemente congelado.                        Antes de ayer tuvimos nosotros una noticia muy buena:  Colombia estuvo en la lista de pa\\u00edses sancionados en la Organizaci\\u00f3n   Internacional del Trabajo por m\\u00e1s de 20 a\\u00f1os. Y antes de ayer  dijeron: \\u2018con lo que ha hecho Colombia la sacamos de esa lista\\u2019. Esa es una  gran noticia que invita a pensar que podemos tener un pa\\u00eds equitativo, un pa\\u00eds  con unas relaciones fraternas entre empleadores y trabajadores, un pa\\u00eds con  unos trabajadores m\\u00e1s participativos.                        Ese camino que hemos venido tratando con el contrato  sindical, con el sindicalismo de participaci\\u00f3n y que tanto refrendamos el  pasado primero de mayo en la ciudad de Popay\\u00e1n.                        Entonces con estas decisiones de la OIT yo me pregunto \\u00bfqu\\u00e9 m\\u00e1s  disculpa le queda a Estados Unidos para negarnos la aprobaci\\u00f3n del TLC?                        Este mi\\u00e9rcoles, que tenemos una visita muy importante de los  Estados Unidos, de una se\\u00f1ora que nos ayuda mucho, la Secretaria de Estado, la Se\\u00f1ora (Hillary) Clinton,  yo le voy a decir, mire, que no le cuente yo lo que ha pasado en Colombia,  preg\\u00fantele a la OIT\\u2019.  Despu\\u00e9s de \\u2018veintipico\\u2019 de a\\u00f1os de tenernos sancionados nos levantan la  sanci\\u00f3n. Algo ha pasado.                        Hemos hecho acuerdos con Cuba, con China, con India, de  promoci\\u00f3n de inversiones; acuerdos de desmonte de la doble tributaci\\u00f3n. Porque  si a una inversi\\u00f3n \\u2013lo hicimos en la Comunidad Andina\\u2013,  si a una inversi\\u00f3n en Colombia y en Ecuador le cobran en los dos pa\\u00edses  impuestos esa inversi\\u00f3n se desmotiva, que le cobren en el uno o en el otro.                        Estamos negociando el acuerdo con Corea, los coreanos nos  quieren, es el gran camino de inserci\\u00f3n nuestra en el Asia. Acuerdos con Jap\\u00f3n.  Los japoneses se hab\\u00edan ido de Colombia por el miedo al secuestro; han  regresado y estamos negociando los acuerdos con ellos.                        Acuerdo con Europa y la leche                        Y este acuerdo con la Uni\\u00f3n Europea. La Uni\\u00f3n Europea hoy es  un mercado de m\\u00e1s de 500 millones de personas. Todo, todo el mundo qued\\u00f3  contento. Hay una preocupaci\\u00f3n con los lecheros y a eso me voy a referir.                        El tema de la leche. Yo me posesion\\u00e9 el mi\\u00e9rcoles 7 de  agosto de 2002. El jueves en la madrugada, antes de que saliera el sol, empez\\u00f3 la Seguridad Democr\\u00e1tica  con nuestra presencia en el Cesar.                        Por la tarde vinimos a Florencia. Estaban todos los alcaldes  de Caquet\\u00e1 espantados de sus municipios, ninguno pod\\u00eda estar en su municipio  por el terrorismo. Afortunadamente la Seguridad Democr\\u00e1tica  ha buscado rodear de garant\\u00edas a todos los gobernadores, a todos los alcaldes,  independientemente del origen pol\\u00edtico de su elecci\\u00f3n, eso es bonito para la Patria, para estimular el  pluralismo.                        El viernes en la noche me fui a Cali hasta las 11 de la  noche a empezar el proceso de reestructuraci\\u00f3n de la Empresa de Servicios  P\\u00fablicos de Cali que se hab\\u00eda quebrado y que la hemos sacado adelante. Y el  s\\u00e1bado vine al primer Consejo Comunitario en Nari\\u00f1o, estaba el doctor Parmenio  (Cuellar) de Gobernador, estaba el doctor Eduardo (Enr\\u00edquez), estaba \\u2013yo  recuerdo a los congresistas aqu\\u00ed presentes, al \\u00fanico que no recuerdo en aquel  consejo era al doctor \\u00d3scar, que tambi\\u00e9n tanta gratitud le debemos\\u2013, estaba  nuestro Gobernador, el doctor Antonio Navarro, de senador, intervino en aquel  Consejo Comunitario.                        Los nari\\u00f1enses me dijeron ese d\\u00eda, me lo dijeron y o\\u00ed voces  con rabia, con rabia, me dijeron: \\u2018mire, a nosotros la apertura econ\\u00f3mica nos  quebr\\u00f3, nos acab\\u00f3 los cultivos, nos pusieron a orde\\u00f1ar. Y ahora la leche vale a  250 pesos y no hay quien la compre\\u2019.                        Yo recuerdo ese Consejo Comunitario, el problema de la leche  y el problema de la panela. Dijeron: \\u2018mire: c\\u00f3mo es que aprobaron un ingenio  panelero en el Cauca que va a arruinar a los paneleros de ladera del Cauca y  Nari\\u00f1o\\u2019. Hubo dos reacciones. Con la panera \\u00bfqu\\u00e9 hicimos? Este Gobierno  suspendi\\u00f3 ese ingenio que hab\\u00edan aprobado en el norte del Cauca y los  suspendimos a ra\\u00edz de la queja aqu\\u00ed en Nari\\u00f1o en el primer Consejo Comunitario.                        \\u00bfCon la leche qu\\u00e9 hicimos? Prohibimos importaciones, las  sometimos a licencia previa. Ese a\\u00f1o hab\\u00edan importado a Colombia 27 mil  toneladas, estaba el pa\\u00eds inundado de importaci\\u00f3n y ni se daban cuenta de eso.  Eso s\\u00ed, los lecheros arruinados.                        Aqu\\u00ed me dec\\u00edan: \\u2018vale a 250 pesos el litro y no hay quien lo  compre\\u2019. Fue lo que me dijeron los nari\\u00f1enses ese d\\u00eda de ese Consejo  Comunitario.                        Nosotros hemos protegido bastante al sector lechero,  resultado: Colombia produc\\u00eda 12 millones de litros de leche, hoy produce 18  millones. Problemas, la industrializaci\\u00f3n esta muy reducida, apenas se  industrializan 7, 8 millones. Soluci\\u00f3n, industrializar leche.                        Ojal\\u00e1 la pr\\u00f3xima zona franca de Nari\\u00f1o, aprovechando estas  ventajas que se han dado al sur de Colombia sea una zona franca para  industrializar leche. Y ojal\\u00e1 traigan de socios empresas internacionales que  ayuden en la industrializaci\\u00f3n y en la comercializaci\\u00f3n de los l\\u00e1cteos. Yo lo  sugiero con todo afecto.                        \\u00bfQu\\u00e9 se define con Europa? Primero plazos. Yo creo que eso  va a ser un plazo de desgravaci\\u00f3n de la leche de no menos de 19, 20 a\\u00f1os \\u00bfPor  qu\\u00e9? Porque el acuerdo habla de 17 a\\u00f1os, pero el acuerdo toma dos o tres a\\u00f1os  para iniciar vigencia. Entonces lo primero que hay que tener a consideraci\\u00f3n es  el plazo.                        Segundo. Nosotros firmamos una declaraci\\u00f3n obligatoria,  anexa al acuerdo con la   Uni\\u00f3n Europea. Esa declaraci\\u00f3n dice dos cosas, dice muchas,  pero hay dos que destaco: primero, la Uni\\u00f3n Europea aporta 30 millones de euros para  poder apoyar al sector l\\u00e1cteo colombiano. Segundo, dice la declaraci\\u00f3n que  despu\\u00e9s del tercer a\\u00f1o de vigencia del tratado las partes podr\\u00e1n revisar el  acuerdo o el tratado en lo referente a la leche. Nosotros dejamos esa  posibilidad incorporada a una declaraci\\u00f3n conjunta obligatoria entre la Uni\\u00f3n Europea y  Colombia. Y otro punto bien importante: Espa\\u00f1a tambi\\u00e9n se compromete a dar un  apoyo al sector l\\u00e1cteo colombiano.                        Pero \\u00bfqu\\u00e9 m\\u00e1s hemos hecho? antes pod\\u00edan entrar aqu\\u00ed leches y  lactosueros que estuvieran a punto de vencerse y eso da mucho miedo, porque en  un pa\\u00eds gran productor, con subdsidios, dicen: \\u2018mire, este lote de leche se nos  va a vencer, ll\\u00e9venselo para Colombia y v\\u00e9ndanlo barato\\u2019.                        Nosotros por razones de salud p\\u00fablica y para tener  condiciones de equidad frente a los lecheros tomamos esta determinaci\\u00f3n, est\\u00e1  ya la norma jur\\u00eddica aprobada: las leches y los lactosueros que vayan a entrar  a Colombia tienen que tener por lo menos un a\\u00f1o m\\u00e1s de vencimiento; si tienen  menos de un a\\u00f1o de vencimiento no pueden entrar a Colombia. Yo pienso que eso  es bueno.                        Y ahora estamos en el Conpes lechero, que es una especie de  documento para tener para la leche un instrumento tan importante como ha sido  Agro Ingreso Seguro. Nari\\u00f1o es uno de los departamentos que m\\u00e1s se ha  beneficiado de Agro Ingreso Seguro. Se lo agradezco a los parlamentarios, a los  gremios.                        Sonia (Luc\\u00eda Navia de Mosquera, Presidenta de Fedepapa), hay  que aplaudir a los gremios que han trabajado tanto por Agro Ingreso Seguro. Se  lo agradezco al Gobernador y lo he puesto de ejemplo en otras partes. Se dice  \\u2018miren, el Gobernador de Nari\\u00f1o se ha preocupado, para que los agricultores m\\u00e1s  pobres accedan a Agro Ingreso Seguro\\u2019.                        Es que el agricultor mediano no necesita ese apoyo, porque  el agricultor mediano sabe elaborar el proyecto. En cambio, lo que llama el  profesor (de India, C.K.) Prahalad la base de la pir\\u00e1mide, los agricultores m\\u00e1s  pobres, no saben. Por eso necesita que las gobernaciones les den la mano, les  ayuden a concebir los proyectos y a elaborarlos. Y en esto hay que hacer todos  los reconocimientos, Nari\\u00f1o ha sido un ejemplo en esa materia.                        Nosotros tenemos fe que ahora lo que se esta haciendo con la  leche va a ser muy \\u00fatil para toda Colombia. Pero mi gran preocupaci\\u00f3n es  industrialicemos la leche, aprovechemos esta confianza de inversi\\u00f3n en Colombia.                        Un pa\\u00eds que es un prodigio en producci\\u00f3n de leche, en  general en el agro y en el sector pecuario es Nueva Zelanda. Yo no lo conozco,  yo he sido poco turista. Y lo que me han dicho de Nueva Zelandia y he visto en  videos y he le\\u00eddo, s\\u00e9 que tiene un suelo muy f\\u00e9rtil, una topograf\\u00eda que permite  el uso del tractor en todas partes, pero que no permite inundaciones, una  peque\\u00f1a ondulaci\\u00f3n tractorable, pero donde no hay inundaciones.                        Adem\\u00e1s, es un pa\\u00eds sin grandes aguaceros y sin grandes  sequ\\u00edas; llueve todos los d\\u00edas pero un poquitico, parece un invernadero.  Entonces esa pradera se mantiene verde a toda hora, esa pradera crece mucho,  hay pasto en abundancia. Chile hizo un acuerdo con Nueva Zelanda y el sector  chileno de la leche dijo: \\u2018nos van a quebrar\\u2019. \\u00bfSabe qu\\u00e9 hicieron, que yo se lo  recomiendo a mis compatriotas y los nari\\u00f1enses? Los chilenos se juntaron con  los neozelandeses y est\\u00e1n haciendo en Chile una revoluci\\u00f3n de leche parecida a  la de Nueva Zelanda asociados. Montando plantas, trabajando gen\\u00e9tica y  trabajando comercializaci\\u00f3n internacional.                        Ya Nari\\u00f1o va a quedar r\\u00e1pidamente con tres zonas francas: la  de br\\u00f3coli, la zona franca de abono org\\u00e1nico y la zona franca de salud en  Pasto. Si hubiera m\\u00e1s y si r\\u00e1pidamente se puede buscar una de industrializaci\\u00f3n  de leche, eso ayudar\\u00eda mucho. Asocien los productores locales, traigan capital  internacional, llega, llega. Ustedes saben lo atractivo que es Nari\\u00f1o, y lo  bello, y c\\u00f3mo le gusta a la comunidad internacional.                        Colombia est\\u00e1 de moda                        Y Colombia est\\u00e1 de moda. Ese \\u2018bailado\\u2019 si no nos lo quita  nadie. Lo \\u2018bailado\\u2019 est\\u00e1 bailado, eso no nos lo quitan. Colombia est\\u00e1 de moda,  se los digo sin vanidad, pero sin falsa modestia. Colombia est\\u00e1 de moda  apreciados compatriotas. Hay que aprovechar eso, hay que aprovechar eso, bueno.                        Yo s\\u00e9 que hay unas preocupaciones con el tema de la v\\u00edas. Y  a dar la cara venimos, con todo cari\\u00f1o.                        Como \\u00e9sta es una de mis \\u00faltimas visitas a Nari\\u00f1o, yo s\\u00ed  quiero decir que yo tengo mucha gratitud de haber trabajado todos estos a\\u00f1os  con mis compatriotas nari\\u00f1enses.                        Muchas gracias, apreciados congresistas, que tanto me han  apoyado. Muchas gracias, se los agradezco de coraz\\u00f3n. Y ustedes no han tenido  en este Gobierno contratos y no han tenido auxilios parlamentarios. Ustedes lo  saben, d\\u00edganselo al pa\\u00eds; d\\u00edganselo al pa\\u00eds, porque ustedes se quedaron sin el  g\\u00e9nero. Que les quiten el pecado.                        Que este Gobierno quit\\u00f3 los auxilios parlamentarios y este  Gobierno introdujo la meritocracia. Gracias, apreciados congresistas.                        Gratitud                        Yo tengo mucha gratitud con los gremios. Voy a mencionar  solo uno: con Fedepapa, con todos, con los cafeteros, con los paneleros. Muchas  gracias Sonia. A todos los gremios mi gratitud.                        Mucha gratitud con las universidades, con el sector  educativo.                        Mucha gratitud con los alcaldes de Nari\\u00f1o, de todas las  corrientes pol\\u00edticas, porque hemos trabajado con patriotismo, con este gran  pueblo nari\\u00f1ense; mucha gratitud con los alcaldes de Pasto.                        Yo tengo un problema, yo le tengo enorme afecto a Eduardo  Alvarado, porque lo conoc\\u00ed de estudiante en Antioquia; un gran afecto a \\u00e9l y a  su familia. Me ayud\\u00f3 mucho en mi carrera p\\u00fablica y ha sido un gran Alcalde de  Pasto y fue un gran Viceministro de Salud.                        Y estoy muy agradecido de haber tenido la oportunidad de  trabajar con los gobernadores.                        Doctor Antonio Navarro, muchas gracias. He tenido la  oportunidad de trabajar con usted y le quiero rendir p\\u00fablicamente mi testimonio  de compatriota. Ha sido grato para mis compa\\u00f1eros de Gobierno, para m\\u00ed ha sido  muy grato trabajar armoniosamente con usted. Yo se lo agradezco de todo  coraz\\u00f3n.                        Y ha sido muy grato trabajar con la Fuerza P\\u00fablica  destacada en Nari\\u00f1o. La   Fuerza P\\u00fablica heroica, heroica que acaba de liberar a los  secuestrados.                        S\\u00e9 que tenemos muchos atrasos. Miren, yo les voy a hacer una  confesi\\u00f3n: este Gobierno ha tenido que trabajar con m\\u00e1s coraz\\u00f3n que chequera. A  m\\u00ed me dec\\u00eda por all\\u00e1 una compa\\u00f1era de Gobierno: \\u2018\\u00bfy vas a ir a Pasto el lunes,  si es d\\u00eda de fiesta, sabiendo que vuelves el jueves?\\u2019.                        Dije: \\u2018no, no. Hasta el \\u00faltimo d\\u00eda. Este Gobierno suprimi\\u00f3  los festivos\\u2019. Y le dije: \\u2018ya tal vez si el Gobierno nuestro hubiera tenido  mucha chequera uno manda plata para all\\u00e1 y no tiene que ir\\u2019.                        Pero mi Dios sabe hacer las cosas bien. Como nos dio tan  poquita chequera, nos dijo: \\u2018yo no le doy chequera para que haga muchas obras  en Nari\\u00f1o ni en ninguna parte; tiene que entregar el coraz\\u00f3n\\u2019. Y es lo que  hemos buscado hacer, apreciados compatriotas: trabajar con afecto y con todo el  coraz\\u00f3n.                        Entonces, s\\u00e9 que hay unos reclamos por las v\\u00edas. Ese es el  reclamo principal. Una vez escuchemos al se\\u00f1or Gobernador y a nuestros  alcaldes.                        A todos, muchas gracias. \\u00a0\"\n        ],\n        \"semantic_type\": \"\",\n        \"description\": \"\"\n      }\n    },\n    {\n      \"column\": \"fecha\",\n      \"properties\": {\n        \"dtype\": \"category\",\n        \"num_unique_values\": 68,\n        \"samples\": [\n          \"(Florencia, Caquet\\u00e1)\",\n          \"(Mo\\u00f1itos, C\\u00f3rdoba)\",\n          \"(Soacha)\"\n        ],\n        \"semantic_type\": \"\",\n        \"description\": \"\"\n      }\n    },\n    {\n      \"column\": \"lugar\",\n      \"properties\": {\n        \"dtype\": \"string\",\n        \"num_unique_values\": 157,\n        \"samples\": [\n          \"20  de abril de 2010\",\n          \"Diciembre 07 de 2008\",\n          \"24    de abril de 2010\"\n        ],\n        \"semantic_type\": \"\",\n        \"description\": \"\"\n      }\n    }\n  ]\n}"
            }
          },
          "metadata": {},
          "execution_count": 3
        }
      ],
      "source": [
        "df = pd.read_csv(\"uribe.csv\", on_bad_lines='skip')\n",
        "df.head()"
      ]
    },
    {
      "cell_type": "code",
      "source": [
        "df.shape"
      ],
      "metadata": {
        "colab": {
          "base_uri": "https://localhost:8080/"
        },
        "id": "5VqTzSk-2Vlx",
        "outputId": "cb0209a4-d2c1-47d2-c0ce-aa6e67f00510"
      },
      "execution_count": 4,
      "outputs": [
        {
          "output_type": "execute_result",
          "data": {
            "text/plain": [
              "(250, 5)"
            ]
          },
          "metadata": {},
          "execution_count": 4
        }
      ]
    },
    {
      "cell_type": "markdown",
      "metadata": {
        "id": "S8wguAYq1Saj"
      },
      "source": [
        "Corpus"
      ]
    },
    {
      "cell_type": "code",
      "execution_count": 5,
      "metadata": {
        "id": "FOsVckui1Sak"
      },
      "outputs": [],
      "source": [
        "text = df.discurso.str.cat(sep=\" \")"
      ]
    },
    {
      "cell_type": "code",
      "source": [
        "len(text)"
      ],
      "metadata": {
        "colab": {
          "base_uri": "https://localhost:8080/"
        },
        "id": "s0x44u8c2ZYI",
        "outputId": "2ee3aa9e-fb5e-417f-a7c4-95c940590c5a"
      },
      "execution_count": 6,
      "outputs": [
        {
          "output_type": "execute_result",
          "data": {
            "text/plain": [
              "5409214"
            ]
          },
          "metadata": {},
          "execution_count": 6
        }
      ]
    },
    {
      "cell_type": "markdown",
      "metadata": {
        "id": "OG5ST4ZH1Sak"
      },
      "source": [
        "# RNN\n",
        "\n",
        "Primero necesitamos vectorizar el texto. Es decir, convertir el corpus en representación numérica.\n",
        "\n",
        "Para esto creamos dos tablas de búsqueda: de caracteres a números (`char2idx`) y de números a caracteres (`idx2char`)"
      ]
    },
    {
      "cell_type": "code",
      "execution_count": 7,
      "metadata": {
        "colab": {
          "base_uri": "https://localhost:8080/"
        },
        "id": "fbi0WE161Sak",
        "outputId": "8aa695f3-9929-4e85-ca53-8d8c5f3da160"
      },
      "outputs": [
        {
          "output_type": "stream",
          "name": "stdout",
          "text": [
            "104 caracteres únicos\n"
          ]
        }
      ],
      "source": [
        "vocab = sorted(set(text))\n",
        "print(f'{len(vocab):,.0f} caracteres únicos')"
      ]
    },
    {
      "cell_type": "code",
      "execution_count": 8,
      "metadata": {
        "id": "GA9mS7QG1Sal"
      },
      "outputs": [],
      "source": [
        "char2idx = {u:i for i, u in enumerate(vocab)}\n",
        "idx2char = np.array(vocab)"
      ]
    },
    {
      "cell_type": "code",
      "execution_count": 9,
      "metadata": {
        "id": "SvV75psn1Sal"
      },
      "outputs": [],
      "source": [
        "# Traducir nuestro texto a números\n",
        "text_as_int = np.array([char2idx[c] for c in text])"
      ]
    },
    {
      "cell_type": "code",
      "execution_count": 10,
      "metadata": {
        "colab": {
          "base_uri": "https://localhost:8080/"
        },
        "id": "Tj2FfhKq1Sal",
        "outputId": "b39135f3-33d4-40a9-99cd-4ee607606859"
      },
      "outputs": [
        {
          "output_type": "execute_result",
          "data": {
            "text/plain": [
              "array([42, 65, 56, 49, 52,  5,  0, 63, 48, 65, 48, 50, 62,  5,  0, 31, 68,\n",
              "       63, 72, 67, 52, 65,  0, 52, 66, 67, 87,  0, 49, 52, 65, 65, 48, 50,\n",
              "       62])"
            ]
          },
          "metadata": {},
          "execution_count": 10
        }
      ],
      "source": [
        "# Ejemplo\n",
        "np.array([char2idx[c] for c in \"Uribe, paraco, Jupyter está berraco\"])"
      ]
    },
    {
      "cell_type": "markdown",
      "metadata": {
        "id": "Cs1v0lsT1Sal"
      },
      "source": [
        "#### La tarea de predicción\n",
        "Dado un caracter, o una secuencia de caracteres, ¿cuál es el siguiente caracter más probable?\n",
        "\n",
        "#### Ejemplo\n",
        "\n",
        "```python\n",
        "seq_length = 4\n",
        "\n",
        "Texto = \"Hello\"\n",
        "\n",
        "Input = \"Hell\"\n",
        "Output = \"ello\"\n",
        "```\n",
        "\n",
        "**Epoch**: Una epoca es la cantidad de pasos completos en el conjunto de datos de entrenamiento"
      ]
    },
    {
      "cell_type": "code",
      "execution_count": 11,
      "metadata": {
        "id": "a_e6qVPS1Sal"
      },
      "outputs": [],
      "source": [
        "seq_length = 100\n",
        "examples_per_epoch = len(text)//(seq_length+1) # división entera"
      ]
    },
    {
      "cell_type": "code",
      "execution_count": 12,
      "metadata": {
        "id": "EfyMB4uT1Sal"
      },
      "outputs": [],
      "source": [
        "# Crear el conjunto de datos de entrenamiento\n",
        "char_dataset = tf.data.Dataset.from_tensor_slices(text_as_int)\n",
        "sequences = char_dataset.batch(seq_length+1, drop_remainder=True)"
      ]
    },
    {
      "cell_type": "code",
      "execution_count": 13,
      "metadata": {
        "id": "19-Yo3Mr1Sam"
      },
      "outputs": [],
      "source": [
        "def split_input_target(chunk):\n",
        "    input_text = chunk[:-1]\n",
        "    target_text = chunk[1:]\n",
        "    return input_text, target_text"
      ]
    },
    {
      "cell_type": "code",
      "execution_count": 14,
      "metadata": {
        "colab": {
          "base_uri": "https://localhost:8080/"
        },
        "id": "GY-TcJOZ1Sam",
        "outputId": "7c4c40c2-3bce-4994-ec38-cf1203b9fa95"
      },
      "outputs": [
        {
          "output_type": "execute_result",
          "data": {
            "text/plain": [
              "('Estas redes neuronales están muy densa',\n",
              " 'stas redes neuronales están muy densas')"
            ]
          },
          "metadata": {},
          "execution_count": 14
        }
      ],
      "source": [
        "split_input_target(\"Estas redes neuronales están muy densas\")"
      ]
    },
    {
      "cell_type": "code",
      "execution_count": 15,
      "metadata": {
        "id": "pyznix0V1Sam"
      },
      "outputs": [],
      "source": [
        "dataset = sequences.map(split_input_target)"
      ]
    },
    {
      "cell_type": "code",
      "execution_count": 16,
      "metadata": {
        "colab": {
          "base_uri": "https://localhost:8080/"
        },
        "id": "iBsoywPB1Sam",
        "outputId": "17acb2e7-b502-466d-ddca-4be8c6a00b90"
      },
      "outputs": [
        {
          "output_type": "stream",
          "name": "stdout",
          "text": [
            "***>>> Example # 0\n",
            "Input data:  '                    \\xa0“Yo quiero felicitarlos de todo corazón por esta nueva  Vitrina Turística que t'\n",
            "Target data: '                   \\xa0“Yo quiero felicitarlos de todo corazón por esta nueva  Vitrina Turística que ta'\n",
            "\n",
            "***>>> Example # 1\n",
            "Input data:  'nto ayuda a Colombia. Quiero felicitar a Anato  (Asociación Colombiana de Agencias de Viajes y Turis'\n",
            "Target data: 'to ayuda a Colombia. Quiero felicitar a Anato  (Asociación Colombiana de Agencias de Viajes y Turism'\n",
            "\n"
          ]
        }
      ],
      "source": [
        "for i,(input_example, target_example) in  enumerate(dataset.take(2)):\n",
        "    print(\"***>>> Example #\",i)\n",
        "    print('Input data: ', repr(''.join(idx2char[input_example.numpy()])))\n",
        "    print('Target data:', repr(''.join(idx2char[target_example.numpy()])))\n",
        "    print()"
      ]
    },
    {
      "cell_type": "code",
      "execution_count": 17,
      "metadata": {
        "colab": {
          "base_uri": "https://localhost:8080/"
        },
        "id": "ykJiojGk1Sam",
        "outputId": "59149520-9a9b-49b9-dda9-a8f9528e6a61"
      },
      "outputs": [
        {
          "output_type": "stream",
          "name": "stdout",
          "text": [
            "Paso 0\n",
            "  input: 61 ('n')\n",
            "  expected output: 67 ('t')\n",
            "\n",
            "Paso 1\n",
            "  input: 67 ('t')\n",
            "  expected output: 62 ('o')\n",
            "\n",
            "Paso 2\n",
            "  input: 62 ('o')\n",
            "  expected output: 0 (' ')\n",
            "\n",
            "Paso 3\n",
            "  input: 0 (' ')\n",
            "  expected output: 48 ('a')\n",
            "\n",
            "Paso 4\n",
            "  input: 48 ('a')\n",
            "  expected output: 72 ('y')\n",
            "\n"
          ]
        }
      ],
      "source": [
        "for i, (input_idx, target_idx) in enumerate(zip(input_example[:5], target_example[:5])):\n",
        "    print(f\"Paso {i}\")\n",
        "    print(f\"  input: {input_idx} ({repr(idx2char[input_idx])})\")\n",
        "    print(f\"  expected output: {target_idx} ({repr(idx2char[target_idx])})\")\n",
        "    print()"
      ]
    },
    {
      "cell_type": "markdown",
      "metadata": {
        "id": "rlIpDP2-1Sam"
      },
      "source": [
        "#### Crear lotes de entrenamiento\n",
        "Usaste `tf.data` para dividir el texto en secuencias manejables. Pero antes de introducir estos datos en el modelo, tienes que mezclar los datos y empaquetarlos en lotes.\n",
        "\n",
        "**Batch size**: Tamaño del lote. El número de meustras antes de que el modelo sea actualizado.\n",
        "\n",
        "**Buffer size**: Tamaño del buffer. Evita que se baraje todo el conjunto de datos."
      ]
    },
    {
      "cell_type": "code",
      "execution_count": 18,
      "metadata": {
        "colab": {
          "base_uri": "https://localhost:8080/"
        },
        "id": "Gxr7WPTC1Sam",
        "outputId": "9f992807-4df7-441b-e8d3-bf80bb5c682b"
      },
      "outputs": [
        {
          "output_type": "execute_result",
          "data": {
            "text/plain": [
              "<BatchDataset element_spec=(TensorSpec(shape=(256, 100), dtype=tf.int64, name=None), TensorSpec(shape=(256, 100), dtype=tf.int64, name=None))>"
            ]
          },
          "metadata": {},
          "execution_count": 18
        }
      ],
      "source": [
        "BATCH_SIZE = 256\n",
        "\n",
        "BUFFER_SIZE = 10000\n",
        "\n",
        "dataset = dataset.shuffle(BUFFER_SIZE).batch(BATCH_SIZE, drop_remainder=True)\n",
        "\n",
        "dataset"
      ]
    },
    {
      "cell_type": "markdown",
      "metadata": {
        "id": "mdxRI1F11Sam"
      },
      "source": [
        "#### Crear el modelo\n",
        "Use `tf.keras.Sequential` para definir el modelo. Este modelo va a tener tres capas:\n",
        "\n",
        "- `tf.keras.layers.Embedding`: Capa de entrada\n",
        "- `tf.keras.layers.GRU`: RNN\n",
        "- `tf.keras.layers.Dense`: Capa de salida"
      ]
    },
    {
      "cell_type": "code",
      "execution_count": 19,
      "metadata": {
        "id": "gGwOQ4Ka1Sam"
      },
      "outputs": [],
      "source": [
        "# Length of the vocabulary in chars\n",
        "vocab_size = len(vocab)\n",
        "\n",
        "# The embedding dimension\n",
        "embedding_dim = 64\n",
        "\n",
        "# Number of RNN units\n",
        "rnn_units = 512"
      ]
    },
    {
      "cell_type": "code",
      "execution_count": 20,
      "metadata": {
        "id": "OY5hu4Fn1Sam"
      },
      "outputs": [],
      "source": [
        "def build_model(vocab_size, embedding_dim, rnn_units, batch_size):\n",
        "    model = tf.keras.Sequential([\n",
        "    tf.keras.layers.Embedding(vocab_size, embedding_dim,\n",
        "                              batch_input_shape=[batch_size, None]),\n",
        "    tf.keras.layers.GRU(rnn_units,\n",
        "                        return_sequences=True,\n",
        "                        stateful=True,\n",
        "                        recurrent_initializer='glorot_uniform'),\n",
        "    tf.keras.layers.GRU(rnn_units,\n",
        "                        return_sequences=True,\n",
        "                        stateful=True,\n",
        "                        recurrent_initializer='glorot_uniform'),\n",
        "    tf.keras.layers.Dense(vocab_size)\n",
        "  ])\n",
        "    return model"
      ]
    },
    {
      "cell_type": "code",
      "execution_count": 21,
      "metadata": {
        "colab": {
          "base_uri": "https://localhost:8080/"
        },
        "id": "b_LMiGtS1Sam",
        "outputId": "8546c232-f2a1-497b-e531-724b826eec0a"
      },
      "outputs": [
        {
          "output_type": "stream",
          "name": "stdout",
          "text": [
            "Model: \"sequential\"\n",
            "_________________________________________________________________\n",
            " Layer (type)                Output Shape              Param #   \n",
            "=================================================================\n",
            " embedding (Embedding)       (256, None, 64)           6656      \n",
            "                                                                 \n",
            " gru (GRU)                   (256, None, 512)          887808    \n",
            "                                                                 \n",
            " gru_1 (GRU)                 (256, None, 512)          1575936   \n",
            "                                                                 \n",
            " dense (Dense)               (256, None, 104)          53352     \n",
            "                                                                 \n",
            "=================================================================\n",
            "Total params: 2,523,752\n",
            "Trainable params: 2,523,752\n",
            "Non-trainable params: 0\n",
            "_________________________________________________________________\n"
          ]
        }
      ],
      "source": [
        "model = build_model(\n",
        "    vocab_size = len(vocab),\n",
        "    embedding_dim=embedding_dim,\n",
        "    rnn_units=rnn_units,\n",
        "    batch_size=BATCH_SIZE)\n",
        "\n",
        "model.summary()"
      ]
    },
    {
      "cell_type": "markdown",
      "metadata": {
        "id": "ySvPfHKf1Sam"
      },
      "source": [
        "#### Ensayar el modelo"
      ]
    },
    {
      "cell_type": "code",
      "execution_count": 22,
      "metadata": {
        "colab": {
          "base_uri": "https://localhost:8080/"
        },
        "id": "eLIIS1FB1Sam",
        "outputId": "357a0675-6499-413d-882f-ef37fd65d8ba"
      },
      "outputs": [
        {
          "output_type": "stream",
          "name": "stdout",
          "text": [
            "(256, 100, 104) # (batch_size, sequence_length, vocab_size)\n"
          ]
        }
      ],
      "source": [
        "for input_example_batch, target_example_batch in dataset.take(1):\n",
        "    example_batch_predictions = model(input_example_batch)\n",
        "    print(example_batch_predictions.shape, \"# (batch_size, sequence_length, vocab_size)\")"
      ]
    },
    {
      "cell_type": "code",
      "execution_count": 23,
      "metadata": {
        "colab": {
          "base_uri": "https://localhost:8080/"
        },
        "id": "P7zBxAts1Sam",
        "outputId": "13e86e25-c1e2-46dc-bee4-709ab16f1b5e"
      },
      "outputs": [
        {
          "output_type": "stream",
          "name": "stdout",
          "text": [
            "Model: \"sequential\"\n",
            "_________________________________________________________________\n",
            " Layer (type)                Output Shape              Param #   \n",
            "=================================================================\n",
            " embedding (Embedding)       (256, None, 64)           6656      \n",
            "                                                                 \n",
            " gru (GRU)                   (256, None, 512)          887808    \n",
            "                                                                 \n",
            " gru_1 (GRU)                 (256, None, 512)          1575936   \n",
            "                                                                 \n",
            " dense (Dense)               (256, None, 104)          53352     \n",
            "                                                                 \n",
            "=================================================================\n",
            "Total params: 2,523,752\n",
            "Trainable params: 2,523,752\n",
            "Non-trainable params: 0\n",
            "_________________________________________________________________\n"
          ]
        }
      ],
      "source": [
        "model.summary()"
      ]
    },
    {
      "cell_type": "code",
      "execution_count": 24,
      "metadata": {
        "id": "5MstSmOo1Sam"
      },
      "outputs": [],
      "source": [
        "sampled_indices = tf.random.categorical(example_batch_predictions[0], num_samples=1)\n",
        "sampled_indices = tf.squeeze(sampled_indices,axis=-1).numpy()"
      ]
    },
    {
      "cell_type": "code",
      "execution_count": 25,
      "metadata": {
        "colab": {
          "base_uri": "https://localhost:8080/"
        },
        "id": "2SItR-wP1San",
        "outputId": "6b89a995-0194-444e-a84e-f0a33fc257e7"
      },
      "outputs": [
        {
          "output_type": "execute_result",
          "data": {
            "text/plain": [
              "array([102,  93,  89, 102,  73,  58,  67,  66,  66,   5,  20,  24,  41,\n",
              "        35,  58,  83,  18,  48,  92,   9,  46,  17,  54,  39,  61,  54,\n",
              "        64,  88, 101,  41,  76,  88,   0,  22,  78,  36,  24,   1,   0,\n",
              "        62,  36,  54,  15,  63,  82,  68,   8,  40,  51,  36,  87,  54,\n",
              "        50,  59,  42,  14,  29,  38,  14,   5,  82,  82,  43,  96,  75,\n",
              "        78,  47,  83,  87,  35,  70,  25,  10,   6,  46,  13, 101,  12,\n",
              "        93,  34,  51,  27,  33,  72,  72,  22,  92,  52,  11,  95, 100,\n",
              "        28,  37,  43,  69,  46,  34,  77,  31,  34])"
            ]
          },
          "metadata": {},
          "execution_count": 25
        }
      ],
      "source": [
        "sampled_indices"
      ]
    },
    {
      "cell_type": "code",
      "execution_count": 26,
      "metadata": {
        "colab": {
          "base_uri": "https://localhost:8080/"
        },
        "id": "JW5CL6Gw1San",
        "outputId": "a599f5d9-ea7c-49f5-b0eb-1e061070bbca"
      },
      "outputs": [
        {
          "output_type": "stream",
          "name": "stdout",
          "text": [
            "Input: \n",
            " 'trabajadores, el   capítulo del respeto a las normas ambiéntales, el capítulo del respeto a los   de'\n",
            "\n",
            "Next Char Predictions: \n",
            " '•óç•zktss,;CTNkÉ9añ0Y8gRngqä”T¡ä A°OC! oOg6pÁu/SdOágclU5HQ5,ÁÁV–\\xa0°ZÉáNwD1-Y4”3óMdFLyyAñe2ü“GPVvYM¬JM'\n"
          ]
        }
      ],
      "source": [
        "print(\"Input: \\n\", repr(\"\".join(idx2char[input_example_batch[0]])))\n",
        "print()\n",
        "print(\"Next Char Predictions: \\n\", repr(\"\".join(idx2char[sampled_indices ])))"
      ]
    },
    {
      "cell_type": "markdown",
      "metadata": {
        "id": "_PdIvWGm1San"
      },
      "source": [
        "# Basura\n",
        "\n",
        "Como podemos observar, el modelo por ahora sólo produce basura. Por eso lo tenemos que entrenar."
      ]
    },
    {
      "cell_type": "code",
      "execution_count": 27,
      "metadata": {
        "id": "I_RKYGoz1San"
      },
      "outputs": [],
      "source": [
        "# Función de perdida para optimizar el modelo\n",
        "def loss(labels, logits):\n",
        "      return tf.keras.losses.sparse_categorical_crossentropy(labels, logits, from_logits=True)"
      ]
    },
    {
      "cell_type": "code",
      "execution_count": 28,
      "metadata": {
        "id": "ZDAtytqd1San"
      },
      "outputs": [],
      "source": [
        "model.compile(optimizer='adam', loss=loss)"
      ]
    },
    {
      "cell_type": "markdown",
      "metadata": {
        "id": "jY9wVVcy1San"
      },
      "source": [
        "Entrenar una red neuronal es demorado, por eso debemos ir guardando el progreso"
      ]
    },
    {
      "cell_type": "code",
      "execution_count": 29,
      "metadata": {
        "id": "Rn1bWH6S1San"
      },
      "outputs": [],
      "source": [
        "# Directory where the checkpoints will be saved\n",
        "checkpoint_dir = 'training_checkpoints2/'\n",
        "\n",
        "# Name of the checkpoint files\n",
        "checkpoint_prefix = os.path.join(checkpoint_dir, \"ckpt_{epoch}\")\n",
        "\n",
        "checkpoint_callback=tf.keras.callbacks.ModelCheckpoint(\n",
        "        filepath=checkpoint_prefix,\n",
        "        save_weights_only=True)"
      ]
    },
    {
      "cell_type": "markdown",
      "metadata": {
        "id": "KaTgNf2z1Sao"
      },
      "source": [
        "Entrenar el modelo\n",
        "<center><img src='https://github.com/vivianamarquez/unicomfacauca-ai-2024/blob/main/imagenes/waiting.jpg?raw=true'></center>"
      ]
    },
    {
      "cell_type": "code",
      "execution_count": 30,
      "metadata": {
        "colab": {
          "base_uri": "https://localhost:8080/",
          "height": 426
        },
        "id": "gyJjywmD1Sao",
        "outputId": "9e3fbd03-912e-4483-f712-55ae0ea0beaa"
      },
      "outputs": [
        {
          "output_type": "stream",
          "name": "stdout",
          "text": [
            "Epoch 1/10\n",
            "209/209 [==============================] - 1565s 7s/step - loss: 2.6069\n",
            "Epoch 2/10\n",
            "209/209 [==============================] - 1570s 8s/step - loss: 1.7125\n",
            "Epoch 3/10\n",
            "121/209 [================>.............] - ETA: 10:44 - loss: 1.3951"
          ]
        },
        {
          "output_type": "error",
          "ename": "KeyboardInterrupt",
          "evalue": "",
          "traceback": [
            "\u001b[0;31m---------------------------------------------------------------------------\u001b[0m",
            "\u001b[0;31mKeyboardInterrupt\u001b[0m                         Traceback (most recent call last)",
            "\u001b[0;32m<ipython-input-30-2bcf8c0c7d8c>\u001b[0m in \u001b[0;36m<cell line: 5>\u001b[0;34m()\u001b[0m\n\u001b[1;32m      3\u001b[0m \u001b[0;34m\u001b[0m\u001b[0m\n\u001b[1;32m      4\u001b[0m \u001b[0;31m#model.load_weights(tf.train.latest_checkpoint(checkpoint_dir)) # Comentar esta linea la primera vez\u001b[0m\u001b[0;34m\u001b[0m\u001b[0;34m\u001b[0m\u001b[0m\n\u001b[0;32m----> 5\u001b[0;31m \u001b[0mhistory\u001b[0m \u001b[0;34m=\u001b[0m \u001b[0mmodel\u001b[0m\u001b[0;34m.\u001b[0m\u001b[0mfit\u001b[0m\u001b[0;34m(\u001b[0m\u001b[0mdataset\u001b[0m\u001b[0;34m,\u001b[0m \u001b[0mepochs\u001b[0m\u001b[0;34m=\u001b[0m\u001b[0mEPOCHS\u001b[0m\u001b[0;34m,\u001b[0m \u001b[0mcallbacks\u001b[0m\u001b[0;34m=\u001b[0m\u001b[0;34m[\u001b[0m\u001b[0mcheckpoint_callback\u001b[0m\u001b[0;34m]\u001b[0m\u001b[0;34m)\u001b[0m\u001b[0;34m\u001b[0m\u001b[0;34m\u001b[0m\u001b[0m\n\u001b[0m",
            "\u001b[0;32m/usr/local/lib/python3.10/dist-packages/keras/utils/traceback_utils.py\u001b[0m in \u001b[0;36merror_handler\u001b[0;34m(*args, **kwargs)\u001b[0m\n\u001b[1;32m     62\u001b[0m     \u001b[0mfiltered_tb\u001b[0m \u001b[0;34m=\u001b[0m \u001b[0;32mNone\u001b[0m\u001b[0;34m\u001b[0m\u001b[0;34m\u001b[0m\u001b[0m\n\u001b[1;32m     63\u001b[0m     \u001b[0;32mtry\u001b[0m\u001b[0;34m:\u001b[0m\u001b[0;34m\u001b[0m\u001b[0;34m\u001b[0m\u001b[0m\n\u001b[0;32m---> 64\u001b[0;31m       \u001b[0;32mreturn\u001b[0m \u001b[0mfn\u001b[0m\u001b[0;34m(\u001b[0m\u001b[0;34m*\u001b[0m\u001b[0margs\u001b[0m\u001b[0;34m,\u001b[0m \u001b[0;34m**\u001b[0m\u001b[0mkwargs\u001b[0m\u001b[0;34m)\u001b[0m\u001b[0;34m\u001b[0m\u001b[0;34m\u001b[0m\u001b[0m\n\u001b[0m\u001b[1;32m     65\u001b[0m     \u001b[0;32mexcept\u001b[0m \u001b[0mException\u001b[0m \u001b[0;32mas\u001b[0m \u001b[0me\u001b[0m\u001b[0;34m:\u001b[0m  \u001b[0;31m# pylint: disable=broad-except\u001b[0m\u001b[0;34m\u001b[0m\u001b[0;34m\u001b[0m\u001b[0m\n\u001b[1;32m     66\u001b[0m       \u001b[0mfiltered_tb\u001b[0m \u001b[0;34m=\u001b[0m \u001b[0m_process_traceback_frames\u001b[0m\u001b[0;34m(\u001b[0m\u001b[0me\u001b[0m\u001b[0;34m.\u001b[0m\u001b[0m__traceback__\u001b[0m\u001b[0;34m)\u001b[0m\u001b[0;34m\u001b[0m\u001b[0;34m\u001b[0m\u001b[0m\n",
            "\u001b[0;32m/usr/local/lib/python3.10/dist-packages/keras/engine/training.py\u001b[0m in \u001b[0;36mfit\u001b[0;34m(self, x, y, batch_size, epochs, verbose, callbacks, validation_split, validation_data, shuffle, class_weight, sample_weight, initial_epoch, steps_per_epoch, validation_steps, validation_batch_size, validation_freq, max_queue_size, workers, use_multiprocessing)\u001b[0m\n\u001b[1;32m   1382\u001b[0m                 _r=1):\n\u001b[1;32m   1383\u001b[0m               \u001b[0mcallbacks\u001b[0m\u001b[0;34m.\u001b[0m\u001b[0mon_train_batch_begin\u001b[0m\u001b[0;34m(\u001b[0m\u001b[0mstep\u001b[0m\u001b[0;34m)\u001b[0m\u001b[0;34m\u001b[0m\u001b[0;34m\u001b[0m\u001b[0m\n\u001b[0;32m-> 1384\u001b[0;31m               \u001b[0mtmp_logs\u001b[0m \u001b[0;34m=\u001b[0m \u001b[0mself\u001b[0m\u001b[0;34m.\u001b[0m\u001b[0mtrain_function\u001b[0m\u001b[0;34m(\u001b[0m\u001b[0miterator\u001b[0m\u001b[0;34m)\u001b[0m\u001b[0;34m\u001b[0m\u001b[0;34m\u001b[0m\u001b[0m\n\u001b[0m\u001b[1;32m   1385\u001b[0m               \u001b[0;32mif\u001b[0m \u001b[0mdata_handler\u001b[0m\u001b[0;34m.\u001b[0m\u001b[0mshould_sync\u001b[0m\u001b[0;34m:\u001b[0m\u001b[0;34m\u001b[0m\u001b[0;34m\u001b[0m\u001b[0m\n\u001b[1;32m   1386\u001b[0m                 \u001b[0mcontext\u001b[0m\u001b[0;34m.\u001b[0m\u001b[0masync_wait\u001b[0m\u001b[0;34m(\u001b[0m\u001b[0;34m)\u001b[0m\u001b[0;34m\u001b[0m\u001b[0;34m\u001b[0m\u001b[0m\n",
            "\u001b[0;32m/usr/local/lib/python3.10/dist-packages/tensorflow/python/util/traceback_utils.py\u001b[0m in \u001b[0;36merror_handler\u001b[0;34m(*args, **kwargs)\u001b[0m\n\u001b[1;32m    148\u001b[0m     \u001b[0mfiltered_tb\u001b[0m \u001b[0;34m=\u001b[0m \u001b[0;32mNone\u001b[0m\u001b[0;34m\u001b[0m\u001b[0;34m\u001b[0m\u001b[0m\n\u001b[1;32m    149\u001b[0m     \u001b[0;32mtry\u001b[0m\u001b[0;34m:\u001b[0m\u001b[0;34m\u001b[0m\u001b[0;34m\u001b[0m\u001b[0m\n\u001b[0;32m--> 150\u001b[0;31m       \u001b[0;32mreturn\u001b[0m \u001b[0mfn\u001b[0m\u001b[0;34m(\u001b[0m\u001b[0;34m*\u001b[0m\u001b[0margs\u001b[0m\u001b[0;34m,\u001b[0m \u001b[0;34m**\u001b[0m\u001b[0mkwargs\u001b[0m\u001b[0;34m)\u001b[0m\u001b[0;34m\u001b[0m\u001b[0;34m\u001b[0m\u001b[0m\n\u001b[0m\u001b[1;32m    151\u001b[0m     \u001b[0;32mexcept\u001b[0m \u001b[0mException\u001b[0m \u001b[0;32mas\u001b[0m \u001b[0me\u001b[0m\u001b[0;34m:\u001b[0m\u001b[0;34m\u001b[0m\u001b[0;34m\u001b[0m\u001b[0m\n\u001b[1;32m    152\u001b[0m       \u001b[0mfiltered_tb\u001b[0m \u001b[0;34m=\u001b[0m \u001b[0m_process_traceback_frames\u001b[0m\u001b[0;34m(\u001b[0m\u001b[0me\u001b[0m\u001b[0;34m.\u001b[0m\u001b[0m__traceback__\u001b[0m\u001b[0;34m)\u001b[0m\u001b[0;34m\u001b[0m\u001b[0;34m\u001b[0m\u001b[0m\n",
            "\u001b[0;32m/usr/local/lib/python3.10/dist-packages/tensorflow/python/eager/def_function.py\u001b[0m in \u001b[0;36m__call__\u001b[0;34m(self, *args, **kwds)\u001b[0m\n\u001b[1;32m    913\u001b[0m \u001b[0;34m\u001b[0m\u001b[0m\n\u001b[1;32m    914\u001b[0m       \u001b[0;32mwith\u001b[0m \u001b[0mOptionalXlaContext\u001b[0m\u001b[0;34m(\u001b[0m\u001b[0mself\u001b[0m\u001b[0;34m.\u001b[0m\u001b[0m_jit_compile\u001b[0m\u001b[0;34m)\u001b[0m\u001b[0;34m:\u001b[0m\u001b[0;34m\u001b[0m\u001b[0;34m\u001b[0m\u001b[0m\n\u001b[0;32m--> 915\u001b[0;31m         \u001b[0mresult\u001b[0m \u001b[0;34m=\u001b[0m \u001b[0mself\u001b[0m\u001b[0;34m.\u001b[0m\u001b[0m_call\u001b[0m\u001b[0;34m(\u001b[0m\u001b[0;34m*\u001b[0m\u001b[0margs\u001b[0m\u001b[0;34m,\u001b[0m \u001b[0;34m**\u001b[0m\u001b[0mkwds\u001b[0m\u001b[0;34m)\u001b[0m\u001b[0;34m\u001b[0m\u001b[0;34m\u001b[0m\u001b[0m\n\u001b[0m\u001b[1;32m    916\u001b[0m \u001b[0;34m\u001b[0m\u001b[0m\n\u001b[1;32m    917\u001b[0m       \u001b[0mnew_tracing_count\u001b[0m \u001b[0;34m=\u001b[0m \u001b[0mself\u001b[0m\u001b[0;34m.\u001b[0m\u001b[0mexperimental_get_tracing_count\u001b[0m\u001b[0;34m(\u001b[0m\u001b[0;34m)\u001b[0m\u001b[0;34m\u001b[0m\u001b[0;34m\u001b[0m\u001b[0m\n",
            "\u001b[0;32m/usr/local/lib/python3.10/dist-packages/tensorflow/python/eager/def_function.py\u001b[0m in \u001b[0;36m_call\u001b[0;34m(self, *args, **kwds)\u001b[0m\n\u001b[1;32m    945\u001b[0m       \u001b[0;31m# In this case we have created variables on the first call, so we run the\u001b[0m\u001b[0;34m\u001b[0m\u001b[0;34m\u001b[0m\u001b[0m\n\u001b[1;32m    946\u001b[0m       \u001b[0;31m# defunned version which is guaranteed to never create variables.\u001b[0m\u001b[0;34m\u001b[0m\u001b[0;34m\u001b[0m\u001b[0m\n\u001b[0;32m--> 947\u001b[0;31m       \u001b[0;32mreturn\u001b[0m \u001b[0mself\u001b[0m\u001b[0;34m.\u001b[0m\u001b[0m_stateless_fn\u001b[0m\u001b[0;34m(\u001b[0m\u001b[0;34m*\u001b[0m\u001b[0margs\u001b[0m\u001b[0;34m,\u001b[0m \u001b[0;34m**\u001b[0m\u001b[0mkwds\u001b[0m\u001b[0;34m)\u001b[0m  \u001b[0;31m# pylint: disable=not-callable\u001b[0m\u001b[0;34m\u001b[0m\u001b[0;34m\u001b[0m\u001b[0m\n\u001b[0m\u001b[1;32m    948\u001b[0m     \u001b[0;32melif\u001b[0m \u001b[0mself\u001b[0m\u001b[0;34m.\u001b[0m\u001b[0m_stateful_fn\u001b[0m \u001b[0;32mis\u001b[0m \u001b[0;32mnot\u001b[0m \u001b[0;32mNone\u001b[0m\u001b[0;34m:\u001b[0m\u001b[0;34m\u001b[0m\u001b[0;34m\u001b[0m\u001b[0m\n\u001b[1;32m    949\u001b[0m       \u001b[0;31m# Release the lock early so that multiple threads can perform the call\u001b[0m\u001b[0;34m\u001b[0m\u001b[0;34m\u001b[0m\u001b[0m\n",
            "\u001b[0;32m/usr/local/lib/python3.10/dist-packages/tensorflow/python/eager/function.py\u001b[0m in \u001b[0;36m__call__\u001b[0;34m(self, *args, **kwargs)\u001b[0m\n\u001b[1;32m   2954\u001b[0m       (graph_function,\n\u001b[1;32m   2955\u001b[0m        filtered_flat_args) = self._maybe_define_function(args, kwargs)\n\u001b[0;32m-> 2956\u001b[0;31m     return graph_function._call_flat(\n\u001b[0m\u001b[1;32m   2957\u001b[0m         filtered_flat_args, captured_inputs=graph_function.captured_inputs)  # pylint: disable=protected-access\n\u001b[1;32m   2958\u001b[0m \u001b[0;34m\u001b[0m\u001b[0m\n",
            "\u001b[0;32m/usr/local/lib/python3.10/dist-packages/tensorflow/python/eager/function.py\u001b[0m in \u001b[0;36m_call_flat\u001b[0;34m(self, args, captured_inputs, cancellation_manager)\u001b[0m\n\u001b[1;32m   1851\u001b[0m         and executing_eagerly):\n\u001b[1;32m   1852\u001b[0m       \u001b[0;31m# No tape is watching; skip to running the function.\u001b[0m\u001b[0;34m\u001b[0m\u001b[0;34m\u001b[0m\u001b[0m\n\u001b[0;32m-> 1853\u001b[0;31m       return self._build_call_outputs(self._inference_function.call(\n\u001b[0m\u001b[1;32m   1854\u001b[0m           ctx, args, cancellation_manager=cancellation_manager))\n\u001b[1;32m   1855\u001b[0m     forward_backward = self._select_forward_and_backward_functions(\n",
            "\u001b[0;32m/usr/local/lib/python3.10/dist-packages/tensorflow/python/eager/function.py\u001b[0m in \u001b[0;36mcall\u001b[0;34m(self, ctx, args, cancellation_manager)\u001b[0m\n\u001b[1;32m    497\u001b[0m       \u001b[0;32mwith\u001b[0m \u001b[0m_InterpolateFunctionError\u001b[0m\u001b[0;34m(\u001b[0m\u001b[0mself\u001b[0m\u001b[0;34m)\u001b[0m\u001b[0;34m:\u001b[0m\u001b[0;34m\u001b[0m\u001b[0;34m\u001b[0m\u001b[0m\n\u001b[1;32m    498\u001b[0m         \u001b[0;32mif\u001b[0m \u001b[0mcancellation_manager\u001b[0m \u001b[0;32mis\u001b[0m \u001b[0;32mNone\u001b[0m\u001b[0;34m:\u001b[0m\u001b[0;34m\u001b[0m\u001b[0;34m\u001b[0m\u001b[0m\n\u001b[0;32m--> 499\u001b[0;31m           outputs = execute.execute(\n\u001b[0m\u001b[1;32m    500\u001b[0m               \u001b[0mstr\u001b[0m\u001b[0;34m(\u001b[0m\u001b[0mself\u001b[0m\u001b[0;34m.\u001b[0m\u001b[0msignature\u001b[0m\u001b[0;34m.\u001b[0m\u001b[0mname\u001b[0m\u001b[0;34m)\u001b[0m\u001b[0;34m,\u001b[0m\u001b[0;34m\u001b[0m\u001b[0;34m\u001b[0m\u001b[0m\n\u001b[1;32m    501\u001b[0m               \u001b[0mnum_outputs\u001b[0m\u001b[0;34m=\u001b[0m\u001b[0mself\u001b[0m\u001b[0;34m.\u001b[0m\u001b[0m_num_outputs\u001b[0m\u001b[0;34m,\u001b[0m\u001b[0;34m\u001b[0m\u001b[0;34m\u001b[0m\u001b[0m\n",
            "\u001b[0;32m/usr/local/lib/python3.10/dist-packages/tensorflow/python/eager/execute.py\u001b[0m in \u001b[0;36mquick_execute\u001b[0;34m(op_name, num_outputs, inputs, attrs, ctx, name)\u001b[0m\n\u001b[1;32m     52\u001b[0m   \u001b[0;32mtry\u001b[0m\u001b[0;34m:\u001b[0m\u001b[0;34m\u001b[0m\u001b[0;34m\u001b[0m\u001b[0m\n\u001b[1;32m     53\u001b[0m     \u001b[0mctx\u001b[0m\u001b[0;34m.\u001b[0m\u001b[0mensure_initialized\u001b[0m\u001b[0;34m(\u001b[0m\u001b[0;34m)\u001b[0m\u001b[0;34m\u001b[0m\u001b[0;34m\u001b[0m\u001b[0m\n\u001b[0;32m---> 54\u001b[0;31m     tensors = pywrap_tfe.TFE_Py_Execute(ctx._handle, device_name, op_name,\n\u001b[0m\u001b[1;32m     55\u001b[0m                                         inputs, attrs, num_outputs)\n\u001b[1;32m     56\u001b[0m   \u001b[0;32mexcept\u001b[0m \u001b[0mcore\u001b[0m\u001b[0;34m.\u001b[0m\u001b[0m_NotOkStatusException\u001b[0m \u001b[0;32mas\u001b[0m \u001b[0me\u001b[0m\u001b[0;34m:\u001b[0m\u001b[0;34m\u001b[0m\u001b[0;34m\u001b[0m\u001b[0m\n",
            "\u001b[0;31mKeyboardInterrupt\u001b[0m: "
          ]
        }
      ],
      "source": [
        "# Una epoca es la cantidad de pasos completos en el conjunto de datos de entrenamiento\n",
        "EPOCHS=10\n",
        "\n",
        "#model.load_weights(tf.train.latest_checkpoint(checkpoint_dir)) # Comentar esta linea la primera vez\n",
        "history = model.fit(dataset, epochs=EPOCHS, callbacks=[checkpoint_callback])"
      ]
    },
    {
      "cell_type": "markdown",
      "metadata": {
        "id": "YOFC5-nR1Sar"
      },
      "source": [
        "Cargar modelo"
      ]
    },
    {
      "cell_type": "code",
      "execution_count": 31,
      "metadata": {
        "id": "69zkWmCf1Sas"
      },
      "outputs": [],
      "source": [
        "p_model = build_model(vocab_size, embedding_dim, rnn_units, batch_size=1)\n",
        "p_model.load_weights(tf.train.latest_checkpoint(checkpoint_dir))\n",
        "p_model.build(tf.TensorShape([1, None]))"
      ]
    },
    {
      "cell_type": "markdown",
      "metadata": {
        "id": "38zdou7B1Sas"
      },
      "source": [
        "Hacer predicciones"
      ]
    },
    {
      "cell_type": "code",
      "execution_count": 32,
      "metadata": {
        "id": "hxDhoPH31Sas"
      },
      "outputs": [],
      "source": [
        "def generate_text(model, start_string):\n",
        "    # Evaluation step (generating text using the learned model)\n",
        "\n",
        "    # Number of characters to generate\n",
        "    num_generate = 1000\n",
        "\n",
        "    # Converting our start string to numbers (vectorizing)\n",
        "    input_eval = [char2idx[s] for s in start_string]\n",
        "    input_eval = tf.expand_dims(input_eval, 0)\n",
        "\n",
        "    # Empty string to store our results\n",
        "    text_generated = []\n",
        "\n",
        "    # Low temperatures results in more predictable text.\n",
        "    # Higher temperatures results in more surprising text.\n",
        "    # Experiment to find the best setting.\n",
        "    temperature = 1.0\n",
        "\n",
        "    # Here batch size == 1\n",
        "    model.reset_states()\n",
        "    for i in range(num_generate):\n",
        "        predictions = model(input_eval)\n",
        "        # remove the batch dimension\n",
        "        predictions = tf.squeeze(predictions, 0)\n",
        "\n",
        "        # using a categorical distribution to predict the word returned by the model\n",
        "        predictions = predictions / temperature\n",
        "        predicted_id = tf.random.categorical(predictions, num_samples=1)[-1,0].numpy()\n",
        "\n",
        "        # We pass the predicted word as the next input to the model\n",
        "        # along with the previous hidden state\n",
        "        input_eval = tf.expand_dims([predicted_id], 0)\n",
        "\n",
        "        text_generated.append(idx2char[predicted_id])\n",
        "\n",
        "    return(start_string + ''.join(text_generated))"
      ]
    },
    {
      "cell_type": "code",
      "execution_count": 33,
      "metadata": {
        "colab": {
          "base_uri": "https://localhost:8080/"
        },
        "id": "vQT4sZU91Sas",
        "outputId": "1c2ce4ad-e2ec-4ac6-bb7c-769cd6d293d8"
      },
      "outputs": [
        {
          "output_type": "stream",
          "name": "stdout",
          "text": [
            "Trabajar, trabajar y trabajar con la Universidad Jombengran demplonectos y por  cián antesicamina, que   para soluce Leto   hustraro afúncas que la hay má heces. El  quodos la sirticional másporía habías compañerés, padara   paísuro del tien importancemos Uribantes. Ahucio nuestria rues:   magin de las abregatado mezoras, compatativo plansa’.                     En merpacios.  brabajidan tisa secar que la va vacer acreciados: a Muya acerecural porido teneralís.                 infrasugratal de riferción, tampal   nos seño Lanido embresetal a manto ha apredica del inda securdo lan las calral buncos empimo está prospetlencia demeción, tipar a Cracisidad dar gemera, llegó   obra que estrurmo pasado que el países el amun riondo la 1299.                     Na   ferialejía ancueles.48 con ehardiente Maremo ha dijec Ambera de la infertay                          Yo de medos emplesancias   adentras 7,3 millones pregunta porsíanon surmamentar de compal.                       Los regosocrá en evucarde caloneción y una pajía\n"
          ]
        }
      ],
      "source": [
        "print(generate_text(p_model, start_string=u\"Trabajar, trabajar y trabajar \"))"
      ]
    },
    {
      "cell_type": "code",
      "source": [],
      "metadata": {
        "id": "h9B4z1anHpLG"
      },
      "execution_count": null,
      "outputs": []
    }
  ],
  "metadata": {
    "kernelspec": {
      "display_name": "Python 3",
      "name": "python3"
    },
    "language_info": {
      "codemirror_mode": {
        "name": "ipython",
        "version": 3
      },
      "file_extension": ".py",
      "mimetype": "text/x-python",
      "name": "python",
      "nbconvert_exporter": "python",
      "pygments_lexer": "ipython3",
      "version": "3.9.13"
    },
    "colab": {
      "provenance": [],
      "gpuType": "T4"
    },
    "accelerator": "GPU"
  },
  "nbformat": 4,
  "nbformat_minor": 0
}