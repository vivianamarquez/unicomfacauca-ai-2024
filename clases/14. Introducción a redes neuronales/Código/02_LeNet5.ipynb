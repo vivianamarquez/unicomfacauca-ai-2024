{
  "nbformat": 4,
  "nbformat_minor": 0,
  "metadata": {
    "colab": {
      "provenance": [],
      "gpuType": "T4"
    },
    "kernelspec": {
      "name": "python3",
      "display_name": "Python 3"
    },
    "language_info": {
      "name": "python"
    },
    "accelerator": "GPU"
  },
  "cells": [
    {
      "cell_type": "code",
      "execution_count": null,
      "metadata": {
        "id": "0sOjoc5Mayjr"
      },
      "outputs": [],
      "source": [
        "import torch\n",
        "import torch.nn as nn\n",
        "import torch.optim as optim\n",
        "import torchvision\n",
        "from torchvision import datasets, transforms\n",
        "from torch.utils.data import DataLoader\n",
        "import matplotlib.pyplot as plt\n",
        "import torch.nn.functional as F\n",
        "import numpy as np"
      ]
    },
    {
      "cell_type": "code",
      "source": [
        "# Set the device\n",
        "device = torch.device(\"cuda\" if torch.cuda.is_available() else \"cpu\")\n",
        "print(f\"Using {device} device\")"
      ],
      "metadata": {
        "colab": {
          "base_uri": "https://localhost:8080/"
        },
        "id": "e_mzLXCkbWa0",
        "outputId": "7b488d62-b7ad-4158-e99a-55981dc646f3"
      },
      "execution_count": null,
      "outputs": [
        {
          "output_type": "stream",
          "name": "stdout",
          "text": [
            "Using cuda device\n"
          ]
        }
      ]
    },
    {
      "cell_type": "code",
      "source": [
        "# Define the LeNet-5 architecture\n",
        "class LeNet5(nn.Module):\n",
        "    def __init__(self):\n",
        "        super(LeNet5, self).__init__()\n",
        "\n",
        "        # Convolutional layer 1: 1 input channel (for grayscale images), 6 output channels, 5x5 kernel\n",
        "        self.conv1 = nn.Conv2d(1, 6, kernel_size=5)\n",
        "        # Subsampling layer (MaxPooling) with 2x2 kernel and stride 2\n",
        "        self.pool1 = nn.MaxPool2d(kernel_size=2, stride=2)\n",
        "\n",
        "        # Convolutional layer 2: 6 input channels, 16 output channels, 5x5 kernel\n",
        "        self.conv2 = nn.Conv2d(6, 16, kernel_size=5)\n",
        "        # Subsampling layer (MaxPooling) with 2x2 kernel and stride 2\n",
        "        self.pool2 = nn.MaxPool2d(kernel_size=2, stride=2)\n",
        "\n",
        "        # Fully connected layer 1: 16*5*5 input features, 120 output features\n",
        "        self.fc1 = nn.Linear(16*5*5, 120)\n",
        "        # Fully connected layer 2: 120 input features, 84 output features\n",
        "        self.fc2 = nn.Linear(120, 84)\n",
        "        # Output layer: 84 input features, 10 output features for 10 classes\n",
        "        self.fc3 = nn.Linear(84, 10)\n",
        "\n",
        "        # Activation function: ReLU will be used\n",
        "        self.relu = nn.ReLU()\n",
        "\n",
        "    def forward(self, x):\n",
        "        # Input shape of the image is assumed to be [batch_size, 1, 32, 32]\n",
        "\n",
        "        # Pass the input through the first convolutional layer, then activation, then pool\n",
        "        x = self.pool1(self.relu(self.conv1(x)))\n",
        "        # Pass the output through the second convolutional layer, then activation, then pool\n",
        "        x = self.pool2(self.relu(self.conv2(x)))\n",
        "\n",
        "        # Flatten the output for the fully connected layer\n",
        "        x = x.view(x.size(0), -1)  # Flatten the tensor\n",
        "\n",
        "        # Pass the flattened output through the first fully connected layer, then activation\n",
        "        x = self.relu(self.fc1(x))\n",
        "        # Pass the output through the second fully connected layer, then activation\n",
        "        x = self.relu(self.fc2(x))\n",
        "        # Pass the output through the final output layer\n",
        "        x = self.fc3(x)\n",
        "\n",
        "        return x"
      ],
      "metadata": {
        "id": "7NKgPw-ta94r"
      },
      "execution_count": null,
      "outputs": []
    },
    {
      "cell_type": "code",
      "source": [
        "# Instantiate the network\n",
        "lenet5 = LeNet5().to(device)"
      ],
      "metadata": {
        "id": "CcvxertQbEri"
      },
      "execution_count": null,
      "outputs": []
    },
    {
      "cell_type": "code",
      "source": [
        "# Loss function\n",
        "criterion = nn.CrossEntropyLoss()"
      ],
      "metadata": {
        "id": "CxnzX32kbNRt"
      },
      "execution_count": null,
      "outputs": []
    },
    {
      "cell_type": "code",
      "source": [
        "# Optimizer (SGD is used in the original paper)\n",
        "optimizer = optim.SGD(lenet5.parameters(), lr=0.001, momentum=0.9)"
      ],
      "metadata": {
        "id": "rrmpHhOCbOn6"
      },
      "execution_count": null,
      "outputs": []
    },
    {
      "cell_type": "code",
      "source": [
        "# Dataset loading\n",
        "transform = transforms.Compose([\n",
        "    transforms.Resize((32, 32)),  # Resize images to 32x32\n",
        "    transforms.ToTensor(),\n",
        "    transforms.Normalize((0.5,), (0.5,))\n",
        "])\n",
        "\n",
        "train_dataset = datasets.MNIST(root='./data', train=True, download=True, transform=transform)\n",
        "test_dataset = datasets.MNIST(root='./data', train=False, download=True, transform=transform)\n",
        "\n",
        "train_loader = DataLoader(train_dataset, batch_size=64, shuffle=True)\n",
        "test_loader = DataLoader(test_dataset, batch_size=1000, shuffle=True)"
      ],
      "metadata": {
        "id": "DJiHSQvrbiJH"
      },
      "execution_count": null,
      "outputs": []
    },
    {
      "cell_type": "code",
      "source": [
        "# Training loop\n",
        "for epoch in range(10):  # loop over the dataset multiple times\n",
        "    running_loss = 0.0\n",
        "    for i, data in enumerate(train_loader, 0):\n",
        "        # get the inputs; data is a list of [inputs, labels]\n",
        "        inputs, labels = data[0].to(device), data[1].to(device)\n",
        "\n",
        "        # zero the parameter gradients\n",
        "        optimizer.zero_grad()\n",
        "\n",
        "        # forward + backward + optimize\n",
        "        outputs = lenet5(inputs)\n",
        "        loss = criterion(outputs, labels)\n",
        "        loss.backward()\n",
        "        optimizer.step()\n",
        "\n",
        "        # print statistics\n",
        "        running_loss += loss.item()\n",
        "        if i % 200 == 199:    # print every 200 mini-batches\n",
        "            print(f'[{epoch + 1}, {i + 1:5d}] loss: {running_loss / 200:.3f}')\n",
        "            running_loss = 0.0\n",
        "\n",
        "print('Finished Training')"
      ],
      "metadata": {
        "colab": {
          "base_uri": "https://localhost:8080/"
        },
        "id": "NCMGGpR8bmtr",
        "outputId": "c8538dae-c41e-415c-ee6c-23be188a12cb"
      },
      "execution_count": null,
      "outputs": [
        {
          "output_type": "stream",
          "name": "stdout",
          "text": [
            "[1,   200] loss: 2.297\n",
            "[1,   400] loss: 2.270\n",
            "[1,   600] loss: 2.110\n",
            "[1,   800] loss: 1.203\n",
            "[2,   200] loss: 0.550\n",
            "[2,   400] loss: 0.387\n",
            "[2,   600] loss: 0.308\n",
            "[2,   800] loss: 0.248\n",
            "[3,   200] loss: 0.190\n",
            "[3,   400] loss: 0.165\n",
            "[3,   600] loss: 0.152\n",
            "[3,   800] loss: 0.144\n",
            "[4,   200] loss: 0.123\n",
            "[4,   400] loss: 0.121\n",
            "[4,   600] loss: 0.114\n",
            "[4,   800] loss: 0.120\n",
            "[5,   200] loss: 0.103\n",
            "[5,   400] loss: 0.094\n",
            "[5,   600] loss: 0.097\n",
            "[5,   800] loss: 0.104\n",
            "[6,   200] loss: 0.091\n",
            "[6,   400] loss: 0.086\n",
            "[6,   600] loss: 0.083\n",
            "[6,   800] loss: 0.084\n",
            "[7,   200] loss: 0.075\n",
            "[7,   400] loss: 0.077\n",
            "[7,   600] loss: 0.070\n",
            "[7,   800] loss: 0.080\n",
            "[8,   200] loss: 0.074\n",
            "[8,   400] loss: 0.068\n",
            "[8,   600] loss: 0.062\n",
            "[8,   800] loss: 0.069\n",
            "[9,   200] loss: 0.065\n",
            "[9,   400] loss: 0.066\n",
            "[9,   600] loss: 0.058\n",
            "[9,   800] loss: 0.058\n",
            "[10,   200] loss: 0.055\n",
            "[10,   400] loss: 0.058\n",
            "[10,   600] loss: 0.058\n",
            "[10,   800] loss: 0.056\n",
            "Finished Training\n"
          ]
        }
      ]
    },
    {
      "cell_type": "code",
      "source": [
        "# Testing loop\n",
        "correct = 0\n",
        "total = 0\n",
        "with torch.no_grad():\n",
        "    for data in test_loader:\n",
        "        images, labels = data[0].to(device), data[1].to(device)\n",
        "        outputs = lenet5(images)\n",
        "        _, predicted = torch.max(outputs.data, 1)\n",
        "        total += labels.size(0)\n",
        "        correct += (predicted == labels).sum().item()\n",
        "\n",
        "print('Accuracy of the network on the 10000 test images: %d %%' % (\n",
        "    100 * correct / total))"
      ],
      "metadata": {
        "colab": {
          "base_uri": "https://localhost:8080/"
        },
        "id": "4HQpbhH0btQg",
        "outputId": "19a27b63-fef9-4f6b-f4f5-87853c3bfec3"
      },
      "execution_count": null,
      "outputs": [
        {
          "output_type": "stream",
          "name": "stdout",
          "text": [
            "Accuracy of the network on the 10000 test images: 98 %\n"
          ]
        }
      ]
    },
    {
      "cell_type": "code",
      "source": [
        "# Function to show images\n",
        "def imshow(img):\n",
        "    img = img / 2 + 0.5  # unnormalize\n",
        "    npimg = img.numpy()\n",
        "    plt.imshow(np.transpose(npimg, (1, 2, 0)))\n",
        "    plt.show()"
      ],
      "metadata": {
        "id": "ni9qJ3wVbv3G"
      },
      "execution_count": null,
      "outputs": []
    },
    {
      "cell_type": "code",
      "source": [
        "# Function to visualize model predictions\n",
        "def visualize_model_predictions(model, data_loader, num_images=5):\n",
        "    images, labels = next(iter(data_loader))\n",
        "    images, labels = images[:num_images].to(device), labels[:num_images].to(device)\n",
        "\n",
        "    # Get predictions\n",
        "    with torch.no_grad():\n",
        "        model.eval()  # Set model to evaluate mode\n",
        "        outputs = model(images)\n",
        "        _, predicted = torch.max(outputs, 1)\n",
        "\n",
        "    # Plot the results\n",
        "    imshow(torchvision.utils.make_grid(images.cpu()))\n",
        "    print('GroundTruth: ', ' '.join(f'{classes[labels[j]]:5s}' for j in range(num_images)))\n",
        "    print('Predicted: ', ' '.join(f'{classes[predicted[j]]:5s}' for j in range(num_images)))"
      ],
      "metadata": {
        "id": "takn9edfc-eZ"
      },
      "execution_count": null,
      "outputs": []
    },
    {
      "cell_type": "code",
      "source": [
        "classes = ('0', '1', '2', '3', '4', '5', '6', '7', '8', '9')"
      ],
      "metadata": {
        "id": "jNpyGad-dAXp"
      },
      "execution_count": null,
      "outputs": []
    },
    {
      "cell_type": "code",
      "source": [
        "visualize_model_predictions(lenet5, test_loader)"
      ],
      "metadata": {
        "colab": {
          "base_uri": "https://localhost:8080/",
          "height": 204
        },
        "id": "ezMGbhQTdEGq",
        "outputId": "171ac56a-5bbc-4e54-ae55-99e3ae7d4b5a"
      },
      "execution_count": null,
      "outputs": [
        {
          "output_type": "display_data",
          "data": {
            "text/plain": [
              "<Figure size 640x480 with 1 Axes>"
            ],
            "image/png": "[encoded data removed]"
          },
          "metadata": {}
        },
        {
          "output_type": "stream",
          "name": "stdout",
          "text": [
            "GroundTruth:  8     6     6     7     8    \n",
            "Predicted:  8     6     6     7     8    \n"
          ]
        }
      ]
    },
    {
      "cell_type": "markdown",
      "source": [
        "# Feature visualization"
      ],
      "metadata": {
        "id": "XGe2XUCTfMQQ"
      }
    },
    {
      "cell_type": "code",
      "source": [
        "# Define a function to visualize the feature maps\n",
        "def visualize_feature_maps(model, input_image, layer_number):\n",
        "    model.eval()  # Set the model to evaluation mode\n",
        "    activation = {}\n",
        "\n",
        "    # Define a function that will copy the output of a layer\n",
        "    def get_activation(name):\n",
        "        def hook(model, input, output):\n",
        "            activation[name] = output.detach()\n",
        "        return hook\n",
        "\n",
        "    # Attach the hook to the desired layer\n",
        "    layer_name = f'conv{layer_number}'\n",
        "    getattr(model, layer_name).register_forward_hook(get_activation(layer_name))\n",
        "\n",
        "    # Perform a forward pass through the model with the input image\n",
        "    output = model(input_image)\n",
        "\n",
        "    # Detach our hooks\n",
        "    for name, layer in model.named_children():\n",
        "        if name == layer_name:\n",
        "            layer._forward_hooks.clear()\n",
        "\n",
        "    # Plot the feature maps\n",
        "    act = activation[layer_name].squeeze()\n",
        "    # Move the activations to CPU and convert to numpy array\n",
        "    act = act.cpu().numpy()\n",
        "\n",
        "    # Depending on the number of feature maps, you may need to adjust the subplot dimensions\n",
        "    num_feature_maps = act.shape[0]\n",
        "    fig, axarr = plt.subplots(figsize=(15, int(num_feature_maps * 2.5)), nrows=num_feature_maps, ncols=1)\n",
        "    for idx in range(num_feature_maps):\n",
        "        ax = axarr if num_feature_maps == 1 else axarr[idx]\n",
        "        ax.imshow(act[idx], cmap='gray')\n",
        "        ax.axis('off')\n",
        "    plt.show()"
      ],
      "metadata": {
        "id": "xypOj6C1e2zl"
      },
      "execution_count": null,
      "outputs": []
    },
    {
      "cell_type": "code",
      "source": [
        "# Fetch one batch of data from the DataLoader\n",
        "dataiter = iter(train_loader)\n",
        "images, labels = next(dataiter)\n",
        "\n",
        "# Move the batch of images and labels to the GPU\n",
        "images, labels = images.cuda(), labels.cuda()\n",
        "\n",
        "# Select the first image from this batch and add an extra batch dimension\n",
        "# Since MNIST is grayscale, there's only one channel\n",
        "input_image = images[0].unsqueeze(0).cuda()  # The shape will now be [1, 1, 32, 32]\n",
        "\n",
        "# Assuming lenet5 is your model and input_image is a single image tensor\n",
        "# To visualize features from the first convolutional layer\n",
        "visualize_feature_maps(lenet5, input_image, 1)"
      ],
      "metadata": {
        "colab": {
          "base_uri": "https://localhost:8080/",
          "height": 1000
        },
        "id": "VNbz2Rr4fSdl",
        "outputId": "aebb0978-25ef-4c09-d865-86b94534c8f5"
      },
      "execution_count": null,
      "outputs": [
        {
          "output_type": "display_data",
          "data": {
            "text/plain": [
              "<Figure size 1500x1500 with 6 Axes>"
            ],
            "image/png": "[encoded data removed]"
          },
          "metadata": {}
        }
      ]
    }
  ]
}