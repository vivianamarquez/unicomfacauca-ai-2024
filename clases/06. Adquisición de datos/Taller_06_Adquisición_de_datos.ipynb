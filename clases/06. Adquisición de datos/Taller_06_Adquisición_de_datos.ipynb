{
  "nbformat": 4,
  "nbformat_minor": 0,
  "metadata": {
    "colab": {
      "provenance": []
    },
    "kernelspec": {
      "name": "python3",
      "display_name": "Python 3"
    },
    "language_info": {
      "name": "python"
    }
  },
  "cells": [
    {
      "cell_type": "markdown",
      "source": [
        "# Taller 06 - Adquisición de datos\n",
        "\n",
        "El objetivo de este taller es encontrar una página de Wikipedia con una tabla que queramos extraer.\n",
        "\n"
      ],
      "metadata": {
        "id": "Ib6UI3WinYpk"
      }
    },
    {
      "cell_type": "markdown",
      "source": [
        "## Pasos"
      ],
      "metadata": {
        "id": "NLY-wcRenpV5"
      }
    },
    {
      "cell_type": "markdown",
      "source": [
        "#### 1. Cargar librerias"
      ],
      "metadata": {
        "id": "s2o8IOh9nrDe"
      }
    },
    {
      "cell_type": "code",
      "source": [
        "import requests\n",
        "import pandas as pd\n",
        "from bs4 import BeautifulSoup"
      ],
      "metadata": {
        "id": "vRXgAgT1nXsn"
      },
      "execution_count": 1,
      "outputs": []
    },
    {
      "cell_type": "markdown",
      "source": [
        "#### 2. URL de la página de Wikipedia que vamos a extraer"
      ],
      "metadata": {
        "id": "5OXPd9dTntb1"
      }
    },
    {
      "cell_type": "code",
      "source": [
        "url = \"\""
      ],
      "metadata": {
        "id": "1gDGQ20gnlho"
      },
      "execution_count": null,
      "outputs": []
    },
    {
      "cell_type": "markdown",
      "source": [
        "#### 3. Hacemos una solicitud para obtener el contenido de la página"
      ],
      "metadata": {
        "id": "NEQ-0peun0jm"
      }
    },
    {
      "cell_type": "code",
      "source": [
        "response = requests.get(url)"
      ],
      "metadata": {
        "id": "XdxRjvcpn2xf"
      },
      "execution_count": null,
      "outputs": []
    },
    {
      "cell_type": "markdown",
      "source": [
        "#### 4. Cargamos el contenido HTML"
      ],
      "metadata": {
        "id": "QJMAzulan7d1"
      }
    },
    {
      "cell_type": "code",
      "source": [
        "soup = BeautifulSoup(response.content, 'html.parser')"
      ],
      "metadata": {
        "id": "HOhBk74an_m3"
      },
      "execution_count": null,
      "outputs": []
    },
    {
      "cell_type": "markdown",
      "source": [
        "#### 5. Imprime el título de la página"
      ],
      "metadata": {
        "id": "3J2xi31ioCzp"
      }
    },
    {
      "cell_type": "code",
      "source": [
        "# Encontramos el primer título de la página\n",
        "title = soup.find('title')\n",
        "\n",
        "# Mostramos el texto del título\n",
        "print(f\"Título de la página: {title.get_text()}\")"
      ],
      "metadata": {
        "id": "CilqiomcoE-D"
      },
      "execution_count": null,
      "outputs": []
    },
    {
      "cell_type": "markdown",
      "source": [
        "#### 6. Encontramos todas las tablas de la página de Wikipedia e inspeccionamos para encontrar la tabla que queremos"
      ],
      "metadata": {
        "id": "6g6GKjZHoKoO"
      }
    },
    {
      "cell_type": "code",
      "source": [
        "tables = soup.find_all('table')"
      ],
      "metadata": {
        "id": "6DBXs-TooN1z"
      },
      "execution_count": null,
      "outputs": []
    },
    {
      "cell_type": "code",
      "source": [
        "tabla_elegida = tables[] # Qué número de tabla es"
      ],
      "metadata": {
        "id": "L04_RqtwoTYs"
      },
      "execution_count": null,
      "outputs": []
    },
    {
      "cell_type": "markdown",
      "source": [
        "#### 7. Extraemos las filas, los encabezados, y los datos de la tabla"
      ],
      "metadata": {
        "id": "zhJA6ixioYBE"
      }
    },
    {
      "cell_type": "code",
      "source": [
        "# Bucle"
      ],
      "metadata": {
        "id": "EO7qkdj1okYS"
      },
      "execution_count": null,
      "outputs": []
    },
    {
      "cell_type": "markdown",
      "source": [
        "#### 8. Cargamos la tabla en Pandas"
      ],
      "metadata": {
        "id": "Gv5w4KQLolc9"
      }
    },
    {
      "cell_type": "code",
      "source": [
        "df = pd.DataFrame() # Qué debemos poner en el parentesis para cargar los datos?"
      ],
      "metadata": {
        "id": "JMxLyO2Aopz-"
      },
      "execution_count": 2,
      "outputs": []
    },
    {
      "cell_type": "markdown",
      "source": [
        "#### 9. Visualizamos nuestra tabla"
      ],
      "metadata": {
        "id": "FAXEdluyoxkA"
      }
    },
    {
      "cell_type": "code",
      "source": [
        "df"
      ],
      "metadata": {
        "id": "UkBIY-VXo0Lu"
      },
      "execution_count": null,
      "outputs": []
    }
  ]
}