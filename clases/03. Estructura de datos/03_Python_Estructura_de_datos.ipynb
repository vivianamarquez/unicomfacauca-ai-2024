{
  "nbformat": 4,
  "nbformat_minor": 0,
  "metadata": {
    "colab": {
      "provenance": []
    },
    "kernelspec": {
      "name": "python3",
      "display_name": "Python 3"
    },
    "language_info": {
      "name": "python"
    }
  },
  "cells": [
    {
      "cell_type": "markdown",
      "source": [
        "# Respuesta taller de la clase pasada"
      ],
      "metadata": {
        "id": "xvADwjoKhxic"
      }
    },
    {
      "cell_type": "markdown",
      "source": [
        "## Ejercicio # 1\n",
        "\n",
        "El día escolar es de siete horas y media, lo que incluye una hora para el almuerzo. Estás tomando 5 clases. Escribe una ecuación para averiguar cuántas horas pasas en cada clase.\n",
        "\n",
        "• Piénsalo: ¿qué tipo de división querrás usar? ¿Por qué?"
      ],
      "metadata": {
        "id": "2qGUi7D6h1HL"
      }
    },
    {
      "cell_type": "code",
      "execution_count": null,
      "metadata": {
        "id": "0sZbg9FJhjen"
      },
      "outputs": [],
      "source": [
        "horas_dia_escolar = 7.5\n",
        "hora_almuerzo = 1\n",
        "numero_de_clases = 5"
      ]
    },
    {
      "cell_type": "code",
      "source": [
        "hora_de_cada_clase = (horas_dia_escolar-hora_almuerzo)/numero_de_clases"
      ],
      "metadata": {
        "id": "sTvGMJV6h8jh"
      },
      "execution_count": null,
      "outputs": []
    },
    {
      "cell_type": "code",
      "source": [
        "print(f\"Paso {hora_de_cada_clase} horas en cada clase\")"
      ],
      "metadata": {
        "colab": {
          "base_uri": "https://localhost:8080/"
        },
        "id": "FVPGLDj5iFmD",
        "outputId": "cb6c66c4-f0b1-4e89-9a74-0ad251a7c421"
      },
      "execution_count": null,
      "outputs": [
        {
          "output_type": "stream",
          "name": "stdout",
          "text": [
            "Paso 1.3 horas en cada clase\n"
          ]
        }
      ]
    },
    {
      "cell_type": "markdown",
      "source": [
        "## Ejercicio # 2\n",
        "\n",
        "Encuentras 26 monedas mientras caminas hacia la universidad y decides dividirlas en partes iguales entre tú y tus 3 amigos más cercanos. Escribe una expresión que te diga cuántas monedas sobran después de la división."
      ],
      "metadata": {
        "id": "HWW6B4xaiJS1"
      }
    },
    {
      "cell_type": "code",
      "source": [
        "total_monedas = 26\n",
        "numero_personas = 4"
      ],
      "metadata": {
        "id": "CbrLfgVsiGzE"
      },
      "execution_count": null,
      "outputs": []
    },
    {
      "cell_type": "code",
      "source": [
        "sobrantes = 26%4"
      ],
      "metadata": {
        "id": "WFTxy5aciLnv"
      },
      "execution_count": null,
      "outputs": []
    },
    {
      "cell_type": "code",
      "source": [
        "print(f\"Quedan {sobrantes} monedas sobrantes.\")"
      ],
      "metadata": {
        "colab": {
          "base_uri": "https://localhost:8080/"
        },
        "id": "qlCt5k4-iO54",
        "outputId": "d00192de-e2f6-4260-c070-a7772dc83db0"
      },
      "execution_count": null,
      "outputs": [
        {
          "output_type": "stream",
          "name": "stdout",
          "text": [
            "Quedan 2 monedas sobrantes.\n"
          ]
        }
      ]
    },
    {
      "cell_type": "markdown",
      "source": [
        "\n",
        "\n",
        "---\n",
        "\n"
      ],
      "metadata": {
        "id": "a406tEkRiQhl"
      }
    },
    {
      "cell_type": "markdown",
      "source": [
        "# Cádenas de texto"
      ],
      "metadata": {
        "id": "uiRJZT4fiTq4"
      }
    },
    {
      "cell_type": "markdown",
      "source": [
        "### Pregunta 🤔\n",
        "¿Son `variable1` y `variable2` iguales?"
      ],
      "metadata": {
        "id": "3w0cc6fdimQz"
      }
    },
    {
      "cell_type": "code",
      "source": [
        "variable1 = 142\n",
        "variable2 = \"142\""
      ],
      "metadata": {
        "id": "yBYcSFXXiPwY"
      },
      "execution_count": null,
      "outputs": []
    },
    {
      "cell_type": "code",
      "source": [
        "variable1 == variable2"
      ],
      "metadata": {
        "colab": {
          "base_uri": "https://localhost:8080/"
        },
        "id": "qkeMsqopivHO",
        "outputId": "c5a3498e-9ee4-418f-e18f-9aa443d53e51"
      },
      "execution_count": null,
      "outputs": [
        {
          "output_type": "execute_result",
          "data": {
            "text/plain": [
              "False"
            ]
          },
          "metadata": {},
          "execution_count": 10
        }
      ]
    },
    {
      "cell_type": "markdown",
      "source": [
        "Generalmente, las cádenas de texto son cualquier cosa entre comillas (pueden ser comillas sencillas o comillas dobles)."
      ],
      "metadata": {
        "id": "xwjfYFGRi0ed"
      }
    },
    {
      "cell_type": "markdown",
      "source": [
        "Si deseas escribir un texto con varias lineas, puedes usar triple comillas."
      ],
      "metadata": {
        "id": "wiekuNWWj6ae"
      }
    },
    {
      "cell_type": "code",
      "source": [
        "pokemon = \"\"\"Tengo que ser siempre el mejor\n",
        "Mejor que nadie más\n",
        "Atraparlos mi prueba es\n",
        "Entrenarlos, mi ideal\"\"\""
      ],
      "metadata": {
        "id": "UixcwymriwO2"
      },
      "execution_count": 1,
      "outputs": []
    },
    {
      "cell_type": "markdown",
      "source": [
        "### ¿Qué podemos hacer con las cádenas de texto?\n"
      ],
      "metadata": {
        "id": "mocpgY8vjIGm"
      }
    },
    {
      "cell_type": "markdown",
      "source": [
        "**Indexación**"
      ],
      "metadata": {
        "id": "hD3z2QaejfnI"
      }
    },
    {
      "cell_type": "code",
      "source": [
        "ejemplo = \"abc 123 xyz\""
      ],
      "metadata": {
        "id": "51CFPdNcjGza"
      },
      "execution_count": 2,
      "outputs": []
    },
    {
      "cell_type": "code",
      "source": [
        "ejemplo[0]"
      ],
      "metadata": {
        "colab": {
          "base_uri": "https://localhost:8080/",
          "height": 35
        },
        "id": "rA9jbCnrjPqf",
        "outputId": "b350b044-d700-4b10-c602-3cc46e3aeeec"
      },
      "execution_count": 3,
      "outputs": [
        {
          "output_type": "execute_result",
          "data": {
            "text/plain": [
              "'a'"
            ],
            "application/vnd.google.colaboratory.intrinsic+json": {
              "type": "string"
            }
          },
          "metadata": {},
          "execution_count": 3
        }
      ]
    },
    {
      "cell_type": "code",
      "source": [
        "ejemplo[1]"
      ],
      "metadata": {
        "colab": {
          "base_uri": "https://localhost:8080/",
          "height": 35
        },
        "id": "dtyVzWE0jTLg",
        "outputId": "414299cd-d1da-4059-aa37-9f40b6223db4"
      },
      "execution_count": 4,
      "outputs": [
        {
          "output_type": "execute_result",
          "data": {
            "text/plain": [
              "'b'"
            ],
            "application/vnd.google.colaboratory.intrinsic+json": {
              "type": "string"
            }
          },
          "metadata": {},
          "execution_count": 4
        }
      ]
    },
    {
      "cell_type": "code",
      "source": [
        "ejemplo[2]"
      ],
      "metadata": {
        "colab": {
          "base_uri": "https://localhost:8080/",
          "height": 35
        },
        "id": "X9AZ2MfqjT7T",
        "outputId": "641def16-cf46-4d79-c6ac-d81fcd900e63"
      },
      "execution_count": 5,
      "outputs": [
        {
          "output_type": "execute_result",
          "data": {
            "text/plain": [
              "'c'"
            ],
            "application/vnd.google.colaboratory.intrinsic+json": {
              "type": "string"
            }
          },
          "metadata": {},
          "execution_count": 5
        }
      ]
    },
    {
      "cell_type": "code",
      "source": [
        "ejemplo[3]"
      ],
      "metadata": {
        "colab": {
          "base_uri": "https://localhost:8080/",
          "height": 35
        },
        "id": "UvLz7oGpjUlH",
        "outputId": "1f178b80-6a1d-4474-f5b2-572783d4ddb4"
      },
      "execution_count": 6,
      "outputs": [
        {
          "output_type": "execute_result",
          "data": {
            "text/plain": [
              "' '"
            ],
            "application/vnd.google.colaboratory.intrinsic+json": {
              "type": "string"
            }
          },
          "metadata": {},
          "execution_count": 6
        }
      ]
    },
    {
      "cell_type": "code",
      "source": [
        "ejemplo[4]"
      ],
      "metadata": {
        "colab": {
          "base_uri": "https://localhost:8080/",
          "height": 35
        },
        "id": "en6LzK5rjVhO",
        "outputId": "40c4fbf1-1e7a-403f-bdce-760741cc24be"
      },
      "execution_count": 7,
      "outputs": [
        {
          "output_type": "execute_result",
          "data": {
            "text/plain": [
              "'1'"
            ],
            "application/vnd.google.colaboratory.intrinsic+json": {
              "type": "string"
            }
          },
          "metadata": {},
          "execution_count": 7
        }
      ]
    },
    {
      "cell_type": "code",
      "source": [
        "ejemplo[-1]"
      ],
      "metadata": {
        "colab": {
          "base_uri": "https://localhost:8080/",
          "height": 35
        },
        "id": "i4axaaVejXH6",
        "outputId": "878188bc-5826-4691-9325-85c0ff85324a"
      },
      "execution_count": 8,
      "outputs": [
        {
          "output_type": "execute_result",
          "data": {
            "text/plain": [
              "'z'"
            ],
            "application/vnd.google.colaboratory.intrinsic+json": {
              "type": "string"
            }
          },
          "metadata": {},
          "execution_count": 8
        }
      ]
    },
    {
      "cell_type": "code",
      "source": [
        "ejemplo[-2]"
      ],
      "metadata": {
        "colab": {
          "base_uri": "https://localhost:8080/",
          "height": 35
        },
        "id": "iEAPOXhujYPp",
        "outputId": "8b073c52-f824-4c0d-d3fd-5d8739bbab80"
      },
      "execution_count": 9,
      "outputs": [
        {
          "output_type": "execute_result",
          "data": {
            "text/plain": [
              "'y'"
            ],
            "application/vnd.google.colaboratory.intrinsic+json": {
              "type": "string"
            }
          },
          "metadata": {},
          "execution_count": 9
        }
      ]
    },
    {
      "cell_type": "code",
      "source": [
        "ejemplo[-3]"
      ],
      "metadata": {
        "colab": {
          "base_uri": "https://localhost:8080/",
          "height": 35
        },
        "id": "8xPJVo0zjZkB",
        "outputId": "dcc6e302-1bc9-4477-b749-56cee31513b6"
      },
      "execution_count": 10,
      "outputs": [
        {
          "output_type": "execute_result",
          "data": {
            "text/plain": [
              "'x'"
            ],
            "application/vnd.google.colaboratory.intrinsic+json": {
              "type": "string"
            }
          },
          "metadata": {},
          "execution_count": 10
        }
      ]
    },
    {
      "cell_type": "markdown",
      "source": [
        "**Empalmes**\n",
        "\n",
        "Notese que el primer número es inclusivo pero el último no."
      ],
      "metadata": {
        "id": "N2gDBGcbji1H"
      }
    },
    {
      "cell_type": "code",
      "source": [
        "ejemplo"
      ],
      "metadata": {
        "colab": {
          "base_uri": "https://localhost:8080/",
          "height": 35
        },
        "id": "IKZ2yEvBjaly",
        "outputId": "13551aac-41ac-4842-8adb-d0932918ade7"
      },
      "execution_count": 11,
      "outputs": [
        {
          "output_type": "execute_result",
          "data": {
            "text/plain": [
              "'abc 123 xyz'"
            ],
            "application/vnd.google.colaboratory.intrinsic+json": {
              "type": "string"
            }
          },
          "metadata": {},
          "execution_count": 11
        }
      ]
    },
    {
      "cell_type": "code",
      "source": [
        "ejemplo[4:7]"
      ],
      "metadata": {
        "colab": {
          "base_uri": "https://localhost:8080/",
          "height": 35
        },
        "id": "JrlPs7O9jrlh",
        "outputId": "13eb31ce-ade5-4897-b430-a2b84c422736"
      },
      "execution_count": 12,
      "outputs": [
        {
          "output_type": "execute_result",
          "data": {
            "text/plain": [
              "'123'"
            ],
            "application/vnd.google.colaboratory.intrinsic+json": {
              "type": "string"
            }
          },
          "metadata": {},
          "execution_count": 12
        }
      ]
    },
    {
      "cell_type": "code",
      "source": [
        "ejemplo[:7]"
      ],
      "metadata": {
        "colab": {
          "base_uri": "https://localhost:8080/",
          "height": 35
        },
        "id": "p_3izPCkjs-0",
        "outputId": "996bf7e3-d507-4dd7-d4f1-6113f7eb8441"
      },
      "execution_count": 13,
      "outputs": [
        {
          "output_type": "execute_result",
          "data": {
            "text/plain": [
              "'abc 123'"
            ],
            "application/vnd.google.colaboratory.intrinsic+json": {
              "type": "string"
            }
          },
          "metadata": {},
          "execution_count": 13
        }
      ]
    },
    {
      "cell_type": "code",
      "source": [
        "ejemplo[4:]"
      ],
      "metadata": {
        "colab": {
          "base_uri": "https://localhost:8080/",
          "height": 35
        },
        "id": "xN30hT7oju5W",
        "outputId": "b3d35a97-14b3-44d5-924f-6456883557d7"
      },
      "execution_count": 14,
      "outputs": [
        {
          "output_type": "execute_result",
          "data": {
            "text/plain": [
              "'123 xyz'"
            ],
            "application/vnd.google.colaboratory.intrinsic+json": {
              "type": "string"
            }
          },
          "metadata": {},
          "execution_count": 14
        }
      ]
    },
    {
      "cell_type": "code",
      "source": [
        "ejemplo[4:-1]"
      ],
      "metadata": {
        "colab": {
          "base_uri": "https://localhost:8080/",
          "height": 35
        },
        "id": "Lk-_qfpJjwLz",
        "outputId": "1cfad75f-6844-4ba3-b76b-e0f2f44c0ebe"
      },
      "execution_count": 15,
      "outputs": [
        {
          "output_type": "execute_result",
          "data": {
            "text/plain": [
              "'123 xy'"
            ],
            "application/vnd.google.colaboratory.intrinsic+json": {
              "type": "string"
            }
          },
          "metadata": {},
          "execution_count": 15
        }
      ]
    },
    {
      "cell_type": "code",
      "source": [
        "ejemplo[:]"
      ],
      "metadata": {
        "colab": {
          "base_uri": "https://localhost:8080/",
          "height": 35
        },
        "id": "WEMHg3xxjx_G",
        "outputId": "cf32a5fe-3667-4c80-91d8-22a9e62a2524"
      },
      "execution_count": 16,
      "outputs": [
        {
          "output_type": "execute_result",
          "data": {
            "text/plain": [
              "'abc 123 xyz'"
            ],
            "application/vnd.google.colaboratory.intrinsic+json": {
              "type": "string"
            }
          },
          "metadata": {},
          "execution_count": 16
        }
      ]
    },
    {
      "cell_type": "markdown",
      "source": [
        "**Sumar cádenas de texto**"
      ],
      "metadata": {
        "id": "nT1JRXr8j3ln"
      }
    },
    {
      "cell_type": "code",
      "source": [
        "nombre = \"Viviana\""
      ],
      "metadata": {
        "id": "erLXAkOwjzJ9"
      },
      "execution_count": 17,
      "outputs": []
    },
    {
      "cell_type": "code",
      "source": [
        "\"Mi nombre es\" + nombre"
      ],
      "metadata": {
        "colab": {
          "base_uri": "https://localhost:8080/",
          "height": 35
        },
        "id": "dTaNJKZ1j-qi",
        "outputId": "6f13ba6c-022c-4aae-f1a2-ba81dd07147e"
      },
      "execution_count": 18,
      "outputs": [
        {
          "output_type": "execute_result",
          "data": {
            "text/plain": [
              "'Mi nombre esViviana'"
            ],
            "application/vnd.google.colaboratory.intrinsic+json": {
              "type": "string"
            }
          },
          "metadata": {},
          "execution_count": 18
        }
      ]
    },
    {
      "cell_type": "code",
      "source": [
        "print(\"Mi nombre es\" + nombre)"
      ],
      "metadata": {
        "colab": {
          "base_uri": "https://localhost:8080/"
        },
        "id": "k3RzTVvLkA-L",
        "outputId": "40b29a31-2397-4099-8c38-b08c1cf0540d"
      },
      "execution_count": 20,
      "outputs": [
        {
          "output_type": "stream",
          "name": "stdout",
          "text": [
            "Mi nombre esViviana\n"
          ]
        }
      ]
    },
    {
      "cell_type": "code",
      "source": [
        "print(f\"Mi nombre es {nombre}\")"
      ],
      "metadata": {
        "colab": {
          "base_uri": "https://localhost:8080/"
        },
        "id": "ljXwX5UAkE8Y",
        "outputId": "19d672d2-5651-4189-b0f8-36bb55ef62af"
      },
      "execution_count": 21,
      "outputs": [
        {
          "output_type": "stream",
          "name": "stdout",
          "text": [
            "Mi nombre es Viviana\n"
          ]
        }
      ]
    },
    {
      "cell_type": "markdown",
      "source": [
        "**Multiplicar cádenas de texto**"
      ],
      "metadata": {
        "id": "3-70F9tukM0y"
      }
    },
    {
      "cell_type": "code",
      "source": [
        "\"Hola\" * 23"
      ],
      "metadata": {
        "colab": {
          "base_uri": "https://localhost:8080/",
          "height": 53
        },
        "id": "mqoopar5kKkv",
        "outputId": "ffa58722-706d-4e7e-95a4-854a06e663de"
      },
      "execution_count": 22,
      "outputs": [
        {
          "output_type": "execute_result",
          "data": {
            "text/plain": [
              "'HolaHolaHolaHolaHolaHolaHolaHolaHolaHolaHolaHolaHolaHolaHolaHolaHolaHolaHolaHolaHolaHolaHola'"
            ],
            "application/vnd.google.colaboratory.intrinsic+json": {
              "type": "string"
            }
          },
          "metadata": {},
          "execution_count": 22
        }
      ]
    },
    {
      "cell_type": "markdown",
      "source": [
        "**Reemplazar**"
      ],
      "metadata": {
        "id": "zwyP0cArkSaa"
      }
    },
    {
      "cell_type": "code",
      "source": [
        "himno = \"¡En surcos de colores!\""
      ],
      "metadata": {
        "id": "YaSVvAwWkRAx"
      },
      "execution_count": 23,
      "outputs": []
    },
    {
      "cell_type": "code",
      "source": [
        "himno.replace(\"colores\", \"dolores\")"
      ],
      "metadata": {
        "colab": {
          "base_uri": "https://localhost:8080/",
          "height": 35
        },
        "id": "t9BHEO7Fk6YC",
        "outputId": "6bfed27f-8529-45c7-ae8c-2324c9224778"
      },
      "execution_count": 24,
      "outputs": [
        {
          "output_type": "execute_result",
          "data": {
            "text/plain": [
              "'¡En surcos de dolores!'"
            ],
            "application/vnd.google.colaboratory.intrinsic+json": {
              "type": "string"
            }
          },
          "metadata": {},
          "execution_count": 24
        }
      ]
    },
    {
      "cell_type": "markdown",
      "source": [
        "**Otras funciones relacionadas con las cádenas de texto**\n",
        "\n",
        "- `str()` - Convierte un entero/flotante en una cadena de texto.\n",
        "- `int()` - Convierte una cadena de texto en un entero.\n",
        "- `float()` - Convierte una cadena de texto en un número flotante.\n",
        "- `len()` - Te dice cuántos caracteres hay en una cadena de texto.\n",
        "- `.upper()` - Convierte todas las letras de una cadena de texto a MAYÚSCULAS.\n",
        "- `.lower()` - Convierte todas las letras de una cadena de texto a minúsculas.\n",
        "- `.swapcase()` - Convierte todas las letras MAYÚSCULAS a minúsculas y viceversa.\n",
        "- `.capitalize()` - Convierte la primera letra de la cadena de texto en MAYÚSCULA.\n",
        "- `.strip()` - Elimina cualquier espacio en blanco del principio o del final de la cadena de texto.\n",
        "- `.split(\",\")` - Divide la cadena de texto en subcadenas.\n",
        "- `.startswith()` - Devuelve verdadero si la cadena de texto comienza con el valor especificado.\n",
        "- `.endswith()` - Devuelve verdadero si la cadena de texto termina con el valor especificado.\n",
        "- `.index()` - Encuentra la primera aparición del valor especificado.\n",
        "- `.isnumeric()` - Verifica si la cadena de texto contiene caracteres numéricos.\n",
        "- `==` - Verifica si 2 cadenas de texto son iguales.\n",
        "- `!=` - Verifica si 2 cadenas de texto NO son iguales.\n",
        "- `in` / `not in` - Verifica si una subcadena está o no en la cadena de texto.\n",
        "\n"
      ],
      "metadata": {
        "id": "5NsB12WqlMu7"
      }
    },
    {
      "cell_type": "markdown",
      "source": [
        "# Estructura de datos\n",
        "\n",
        "<center><img src='https://github.com/vivianamarquez/unicomfacauca-ai-2024/blob/main/imagenes/organizar.png?raw=true' height='300'></center>\n",
        "\n",
        "Forma de **organizar** y **almacenar** datos para poder **acceder** a ellos y **modificarlos** con eficacia."
      ],
      "metadata": {
        "id": "RuK1RBHll7WF"
      }
    },
    {
      "cell_type": "markdown",
      "source": [
        "Las estructuras de datos básicas en Python son:\n",
        "- Listas\n",
        "- Tuplas\n",
        "- Conjuntos\n",
        "- Diccionarios"
      ],
      "metadata": {
        "id": "jLOfkjaFoYQ2"
      }
    },
    {
      "cell_type": "markdown",
      "source": [
        "## Listas\n",
        "\n",
        "<center><img src='https://github.com/vivianamarquez/unicomfacauca-ai-2024/blob/main/imagenes/lista.png?raw=true' ></center>\n",
        "\n",
        "- Mutable - ¡Puede cambiar!\n",
        "- Declárala entre corchetes `[` `]`\n",
        "- Cada valor de una lista se llama elemento"
      ],
      "metadata": {
        "id": "eHyaGzKQp_rO"
      }
    },
    {
      "cell_type": "code",
      "source": [
        "carros = [\"Toyota\", \"Tesla\", \"Renault\", \"Chevrolet\"]"
      ],
      "metadata": {
        "id": "4aZevYfNk9PU"
      },
      "execution_count": 32,
      "outputs": []
    },
    {
      "cell_type": "markdown",
      "source": [
        "Para saber su tamaño"
      ],
      "metadata": {
        "id": "6popz-NVrJXX"
      }
    },
    {
      "cell_type": "code",
      "source": [
        "len(carros)"
      ],
      "metadata": {
        "colab": {
          "base_uri": "https://localhost:8080/"
        },
        "id": "9O1uIoP4rDGC",
        "outputId": "bd5e77a0-0b2d-4fa3-8b04-d55aed5eb044"
      },
      "execution_count": 26,
      "outputs": [
        {
          "output_type": "execute_result",
          "data": {
            "text/plain": [
              "3"
            ]
          },
          "metadata": {},
          "execution_count": 26
        }
      ]
    },
    {
      "cell_type": "markdown",
      "source": [
        "Para extraer sus elementos"
      ],
      "metadata": {
        "id": "iYxM2rATrNes"
      }
    },
    {
      "cell_type": "code",
      "source": [
        "carros[0]"
      ],
      "metadata": {
        "colab": {
          "base_uri": "https://localhost:8080/",
          "height": 35
        },
        "id": "mxHR7SEhrMD7",
        "outputId": "52c6a47b-8287-4110-e710-ffb9a6c9b760"
      },
      "execution_count": 34,
      "outputs": [
        {
          "output_type": "execute_result",
          "data": {
            "text/plain": [
              "'Toyota'"
            ],
            "application/vnd.google.colaboratory.intrinsic+json": {
              "type": "string"
            }
          },
          "metadata": {},
          "execution_count": 34
        }
      ]
    },
    {
      "cell_type": "code",
      "source": [
        "carros[1]"
      ],
      "metadata": {
        "colab": {
          "base_uri": "https://localhost:8080/",
          "height": 35
        },
        "id": "7jAGxYlqrPyT",
        "outputId": "64b2a311-92f0-43ae-85aa-9437a13dbaa7"
      },
      "execution_count": 35,
      "outputs": [
        {
          "output_type": "execute_result",
          "data": {
            "text/plain": [
              "'Tesla'"
            ],
            "application/vnd.google.colaboratory.intrinsic+json": {
              "type": "string"
            }
          },
          "metadata": {},
          "execution_count": 35
        }
      ]
    },
    {
      "cell_type": "code",
      "source": [
        "carros[2]"
      ],
      "metadata": {
        "colab": {
          "base_uri": "https://localhost:8080/",
          "height": 35
        },
        "id": "FuDyWCderQaA",
        "outputId": "ff120c68-20ce-491b-f4ca-5551b19477ba"
      },
      "execution_count": 36,
      "outputs": [
        {
          "output_type": "execute_result",
          "data": {
            "text/plain": [
              "'Renault'"
            ],
            "application/vnd.google.colaboratory.intrinsic+json": {
              "type": "string"
            }
          },
          "metadata": {},
          "execution_count": 36
        }
      ]
    },
    {
      "cell_type": "code",
      "source": [
        "carros[-1]"
      ],
      "metadata": {
        "colab": {
          "base_uri": "https://localhost:8080/",
          "height": 35
        },
        "id": "xCZj_XefrQ8l",
        "outputId": "ddc68f47-ebbf-469f-8df7-c407afcf661f"
      },
      "execution_count": 37,
      "outputs": [
        {
          "output_type": "execute_result",
          "data": {
            "text/plain": [
              "'Chevrolet'"
            ],
            "application/vnd.google.colaboratory.intrinsic+json": {
              "type": "string"
            }
          },
          "metadata": {},
          "execution_count": 37
        }
      ]
    },
    {
      "cell_type": "code",
      "source": [
        "carros[1:3]"
      ],
      "metadata": {
        "colab": {
          "base_uri": "https://localhost:8080/"
        },
        "id": "kVlftNFdrRuZ",
        "outputId": "2ce931dc-adfa-467d-858b-f66faab409a1"
      },
      "execution_count": 38,
      "outputs": [
        {
          "output_type": "execute_result",
          "data": {
            "text/plain": [
              "['Tesla', 'Renault']"
            ]
          },
          "metadata": {},
          "execution_count": 38
        }
      ]
    },
    {
      "cell_type": "code",
      "source": [
        "carros[0] = \"otro carro\"\n",
        "carros"
      ],
      "metadata": {
        "colab": {
          "base_uri": "https://localhost:8080/"
        },
        "id": "s8YJB0HftpmM",
        "outputId": "84ac9e1b-906f-410f-e9dd-e3377ed9cb48"
      },
      "execution_count": 43,
      "outputs": [
        {
          "output_type": "execute_result",
          "data": {
            "text/plain": [
              "['otro carro', 'Tesla', 'Renault', 'Chevrolet']"
            ]
          },
          "metadata": {},
          "execution_count": 43
        }
      ]
    },
    {
      "cell_type": "markdown",
      "source": [
        "**¿Qué puede ir dentro de una lista?**\n",
        "\n",
        "¡Todo!\n",
        "- Enteros\n",
        "- Decimales\n",
        "- Cádenas de texto\n",
        "- Booleanos\n",
        "- Otras listas\n",
        "- Una mezcla de todo"
      ],
      "metadata": {
        "id": "H-cl4kUUrZlN"
      }
    },
    {
      "cell_type": "code",
      "source": [
        "ejemplo = [23, 3.14, \"Popayán\", True, [1,2,3]]"
      ],
      "metadata": {
        "id": "rFxOykcyrTX7"
      },
      "execution_count": 39,
      "outputs": []
    },
    {
      "cell_type": "code",
      "source": [
        "ejemplo[-1]"
      ],
      "metadata": {
        "colab": {
          "base_uri": "https://localhost:8080/"
        },
        "id": "dDzc2ykwro1h",
        "outputId": "24c0ed28-4b05-4a77-b8c1-51477f36b9b7"
      },
      "execution_count": 40,
      "outputs": [
        {
          "output_type": "execute_result",
          "data": {
            "text/plain": [
              "[1, 2, 3]"
            ]
          },
          "metadata": {},
          "execution_count": 40
        }
      ]
    },
    {
      "cell_type": "markdown",
      "source": [
        "## Tuplas\n",
        "\n",
        "Es como una lista, pero con dos diferencias:\n",
        "\n",
        "- No es mutable (no se puede cambiar)\n",
        "  - No se puede añadir nuevos elementos\n",
        "  - No se pueden borrar elementos\n",
        "  - No puede modificar elementos\n",
        "- Se declara con paréntesis `(` `)`"
      ],
      "metadata": {
        "id": "mqXE1M4vs8qO"
      }
    },
    {
      "cell_type": "code",
      "source": [
        "coordenadas = ('2.44 N', '76,61 W')"
      ],
      "metadata": {
        "id": "ew39CNNsrplr"
      },
      "execution_count": 41,
      "outputs": []
    },
    {
      "cell_type": "code",
      "source": [
        "coordenadas[0]"
      ],
      "metadata": {
        "colab": {
          "base_uri": "https://localhost:8080/",
          "height": 35
        },
        "id": "teM_cfBvtgu5",
        "outputId": "d58fffd7-6450-4b3c-c8df-7c8caa793d2c"
      },
      "execution_count": 42,
      "outputs": [
        {
          "output_type": "execute_result",
          "data": {
            "text/plain": [
              "'2.44 N'"
            ],
            "application/vnd.google.colaboratory.intrinsic+json": {
              "type": "string"
            }
          },
          "metadata": {},
          "execution_count": 42
        }
      ]
    },
    {
      "cell_type": "code",
      "source": [
        "coordenadas[0] = '3.44 N'"
      ],
      "metadata": {
        "colab": {
          "base_uri": "https://localhost:8080/",
          "height": 141
        },
        "id": "EpwIiiiitmGC",
        "outputId": "66e3e0d5-3038-4ec0-ee40-fd61c5ed7995"
      },
      "execution_count": 44,
      "outputs": [
        {
          "output_type": "error",
          "ename": "TypeError",
          "evalue": "'tuple' object does not support item assignment",
          "traceback": [
            "\u001b[0;31m---------------------------------------------------------------------------\u001b[0m",
            "\u001b[0;31mTypeError\u001b[0m                                 Traceback (most recent call last)",
            "\u001b[0;32m<ipython-input-44-8c64f086e250>\u001b[0m in \u001b[0;36m<cell line: 1>\u001b[0;34m()\u001b[0m\n\u001b[0;32m----> 1\u001b[0;31m \u001b[0mcoordenadas\u001b[0m\u001b[0;34m[\u001b[0m\u001b[0;36m0\u001b[0m\u001b[0;34m]\u001b[0m \u001b[0;34m=\u001b[0m \u001b[0;34m'3.44 N'\u001b[0m\u001b[0;34m\u001b[0m\u001b[0;34m\u001b[0m\u001b[0m\n\u001b[0m",
            "\u001b[0;31mTypeError\u001b[0m: 'tuple' object does not support item assignment"
          ]
        }
      ]
    },
    {
      "cell_type": "markdown",
      "source": [
        "**Ventajas**\n",
        "- Las tuplas son más rápidas que las listas porque no son dinámicas\n",
        "- Hace que tu código sea más seguro para los datos que no necesitan ser modificados."
      ],
      "metadata": {
        "id": "ju_FVRk_twTs"
      }
    },
    {
      "cell_type": "markdown",
      "source": [
        "## Conjuntos\n",
        "\n",
        "- Todos los elementos son únicos\n",
        "- El orden no importa\n",
        "- Se declara con una llave `{` `}`"
      ],
      "metadata": {
        "id": "_q7z-6G-vgW-"
      }
    },
    {
      "cell_type": "code",
      "source": [
        "cedulas = {1053795396, 1053796646, 1053797430}\n",
        "\n",
        "cedulas"
      ],
      "metadata": {
        "colab": {
          "base_uri": "https://localhost:8080/"
        },
        "id": "EQiVs8Sotu5H",
        "outputId": "69f22e10-aca2-4806-bfa3-179de217a343"
      },
      "execution_count": 46,
      "outputs": [
        {
          "output_type": "execute_result",
          "data": {
            "text/plain": [
              "{1053795396, 1053796646, 1053797430}"
            ]
          },
          "metadata": {},
          "execution_count": 46
        }
      ]
    },
    {
      "cell_type": "code",
      "source": [
        "cedulas = {1053795396, 1053796646, 1053797430, 1053797430}\n",
        "\n",
        "cedulas"
      ],
      "metadata": {
        "colab": {
          "base_uri": "https://localhost:8080/"
        },
        "id": "FnYayn-vx7d1",
        "outputId": "85490e3a-f01c-4873-926e-8c29574980ab"
      },
      "execution_count": 47,
      "outputs": [
        {
          "output_type": "execute_result",
          "data": {
            "text/plain": [
              "{1053795396, 1053796646, 1053797430}"
            ]
          },
          "metadata": {},
          "execution_count": 47
        }
      ]
    },
    {
      "cell_type": "markdown",
      "source": [
        "## Diccionarios\n",
        "\n",
        "<center><img src='https://github.com/vivianamarquez/unicomfacauca-ai-2024/blob/main/imagenes/dic.png?raw=true' ></center>\n",
        "\n",
        "Las llaves són únicas"
      ],
      "metadata": {
        "id": "q30AAV1ex1s6"
      }
    },
    {
      "cell_type": "code",
      "source": [
        "info = {\"nombre\":\"Viviana\",\n",
        "        \"apellido\": \"Marquez\"}"
      ],
      "metadata": {
        "id": "-_Nsb7y1xzqZ"
      },
      "execution_count": 49,
      "outputs": []
    },
    {
      "cell_type": "code",
      "source": [
        "info.keys()"
      ],
      "metadata": {
        "colab": {
          "base_uri": "https://localhost:8080/"
        },
        "id": "mlWnxzYZztg4",
        "outputId": "88d7d264-8508-45bc-a798-d6a865837f5c"
      },
      "execution_count": 51,
      "outputs": [
        {
          "output_type": "execute_result",
          "data": {
            "text/plain": [
              "dict_keys(['nombre', 'apellido'])"
            ]
          },
          "metadata": {},
          "execution_count": 51
        }
      ]
    },
    {
      "cell_type": "code",
      "source": [
        "info.values()"
      ],
      "metadata": {
        "colab": {
          "base_uri": "https://localhost:8080/"
        },
        "id": "sSJQ2fLCzzo5",
        "outputId": "fb97fb0a-86d2-4371-d480-eb51d748484b"
      },
      "execution_count": 52,
      "outputs": [
        {
          "output_type": "execute_result",
          "data": {
            "text/plain": [
              "dict_values(['Viviana', 'Marquez'])"
            ]
          },
          "metadata": {},
          "execution_count": 52
        }
      ]
    },
    {
      "cell_type": "markdown",
      "source": [
        "# 👮 Hora de pop quiz"
      ],
      "metadata": {
        "id": "jPP-V-1O03U4"
      }
    },
    {
      "cell_type": "markdown",
      "source": [
        "<center><img src='https://github.com/vivianamarquez/unicomfacauca-ai-2024/blob/main/imagenes/quiz_estructura_datos.JPEG?raw=true' ></center>"
      ],
      "metadata": {
        "id": "K8TbEKn808rG"
      }
    },
    {
      "cell_type": "code",
      "source": [
        "tareas = [\"practicar python\", \"estudiar para las otras clases\", \"ser feliz\"]"
      ],
      "metadata": {
        "id": "lU5h681hz1N2"
      },
      "execution_count": 53,
      "outputs": []
    },
    {
      "cell_type": "markdown",
      "source": [
        "**Respuesta:** Lista"
      ],
      "metadata": {
        "id": "lKe3WJyN1ML7"
      }
    },
    {
      "cell_type": "markdown",
      "source": [
        "<center><img src='https://github.com/vivianamarquez/unicomfacauca-ai-2024/blob/main/imagenes/quiz_estructura_datos.JPEG?raw=true' ></center>"
      ],
      "metadata": {
        "id": "doyp5axE1SdU"
      }
    },
    {
      "cell_type": "code",
      "source": [
        "usuarios = {101, 102, 103, 104, 105}"
      ],
      "metadata": {
        "id": "VAYywGlN1Kly"
      },
      "execution_count": 54,
      "outputs": []
    },
    {
      "cell_type": "markdown",
      "source": [
        "**Respuesta:** Conjunto"
      ],
      "metadata": {
        "id": "BHkn0Km01XvN"
      }
    },
    {
      "cell_type": "markdown",
      "source": [
        "<center><img src='https://github.com/vivianamarquez/unicomfacauca-ai-2024/blob/main/imagenes/quiz_estructura_datos.JPEG?raw=true' ></center>"
      ],
      "metadata": {
        "id": "PsIiWyci1fEr"
      }
    },
    {
      "cell_type": "code",
      "source": [
        "mercado = [\"huevos\", \"papas\", \"yuca\", \"mantequilla\"]"
      ],
      "metadata": {
        "id": "1WCl4B8F1WgU"
      },
      "execution_count": 56,
      "outputs": []
    },
    {
      "cell_type": "markdown",
      "source": [
        "**Respuesta:** Lista"
      ],
      "metadata": {
        "id": "TrFNDeMb1kU7"
      }
    },
    {
      "cell_type": "markdown",
      "source": [
        "<center><img src='https://github.com/vivianamarquez/unicomfacauca-ai-2024/blob/main/imagenes/quiz_estructura_datos.JPEG?raw=true' ></center>"
      ],
      "metadata": {
        "id": "leJid9Rx1ojo"
      }
    },
    {
      "cell_type": "code",
      "source": [
        "inventario = {\"manzanas\": 50, \"bananas\": 10, \"naranjas\": 20}"
      ],
      "metadata": {
        "id": "APoV1Jgp1hrM"
      },
      "execution_count": 57,
      "outputs": []
    },
    {
      "cell_type": "markdown",
      "source": [
        "**Respuesta:** Diccionario"
      ],
      "metadata": {
        "id": "Gu4fwBam1vms"
      }
    },
    {
      "cell_type": "markdown",
      "source": [
        "### 👮 ¿Cuál es el diccionario?"
      ],
      "metadata": {
        "id": "80uClHDz1ztV"
      }
    },
    {
      "cell_type": "code",
      "source": [
        "# Ejemplo 1\n",
        "numeros_primos = {2, 3, 5, 7, 11, 13, 17, 19}\n",
        "\n",
        "# Ejemplo 2\n",
        "coordenadas_planetas = {\"Tierra\": (0, 0), \"Marte\": (1.524, 0), \"Venus\": (0.723, 0)}\n",
        "\n",
        "# Ejemplo 3\n",
        "peliculas_favoritas = [\"Inception\", \"The Matrix\", \"Interstellar\"]\n",
        "\n",
        "# Ejemplo 4\n",
        "perfil_usuario = (\"Jane Doe\", 28, \"janedoe@example.com\")\n",
        "\n",
        "# Ejemplo 5\n",
        "datos_climaticos = [{\"Lunes\", 70}, {\"Martes\", 68}, {\"Miércoles\", 75}]"
      ],
      "metadata": {
        "id": "vagb6iXH1txl"
      },
      "execution_count": 58,
      "outputs": []
    },
    {
      "cell_type": "markdown",
      "source": [
        "**Respuesta:** Ejemplo 2"
      ],
      "metadata": {
        "id": "TBzrgIJ523Kq"
      }
    },
    {
      "cell_type": "markdown",
      "source": [
        "# Recursos adicionales\n",
        "\n",
        "*   Cádenas de texto: https://www.w3schools.com/python/python_strings_methods.asp\n",
        "*   Listas: https://www.w3schools.com/python/python_lists_methods.asp\n",
        "*   Tuplas: https://www.w3schools.com/python/python_tuples_methods.asp\n",
        "*   Conjuntos: https://www.w3schools.com/python/python_sets_methods.asp\n",
        "*   Diccionarios: https://www.w3schools.com/python/python_dictionaries_methods.asp\n",
        "\n",
        "\n",
        "\n"
      ],
      "metadata": {
        "id": "MTwyJ4eY2678"
      }
    }
  ]
}