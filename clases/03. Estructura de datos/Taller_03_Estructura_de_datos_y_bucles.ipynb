{
  "nbformat": 4,
  "nbformat_minor": 0,
  "metadata": {
    "colab": {
      "provenance": []
    },
    "kernelspec": {
      "name": "python3",
      "display_name": "Python 3"
    },
    "language_info": {
      "name": "python"
    }
  },
  "cells": [
    {
      "cell_type": "markdown",
      "source": [
        "# Ejercicio 1"
      ],
      "metadata": {
        "id": "ergVeSd_mW0O"
      }
    },
    {
      "cell_type": "code",
      "execution_count": null,
      "metadata": {
        "id": "9X4wWDzFmQs1"
      },
      "outputs": [],
      "source": [
        "nombre = \"Gabriel García Márquez\""
      ]
    },
    {
      "cell_type": "markdown",
      "source": [
        "1. Usando indexación, imprimir la primera letra del último apellido.\n",
        "\n",
        "2. Usando empalmes, imprimir el último apellido."
      ],
      "metadata": {
        "id": "aeUFgGUGmu0y"
      }
    },
    {
      "cell_type": "code",
      "source": [
        "print()\n",
        "print()"
      ],
      "metadata": {
        "id": "StFvDjbvmtLG"
      },
      "execution_count": null,
      "outputs": []
    },
    {
      "cell_type": "markdown",
      "source": [
        "# Ejercicio 2\n",
        "\n",
        "Piensa en alguna situación de tu vida diaria donde puedas aplicar las estructuras de datos que hemos aprendido: listas, tuplas, conjuntos y diccionarios. Puede ser cualquier ámbito como la escuela, deportes, un pasatiempo, una tarea doméstica, etc."
      ],
      "metadata": {
        "id": "j023guiG3dKb"
      }
    },
    {
      "cell_type": "markdown",
      "source": [
        "Implementa tu estructura en un código, explicando brevemente por qué elegiste esas estructuras y cómo te ayudan a organizar la información de manera eficiente."
      ],
      "metadata": {
        "id": "4u3s_5Rh39IZ"
      }
    },
    {
      "cell_type": "markdown",
      "source": [
        "# Ejercicio 3"
      ],
      "metadata": {
        "id": "cZ7QNcWwLzIW"
      }
    },
    {
      "cell_type": "code",
      "source": [
        "cereal = 1\n",
        "manzanas = 0\n",
        "leche = 2\n",
        "fresas = 0\n",
        "\n",
        "# Ejemplo\n",
        "if leche > 0:\n",
        "    print(\"Tu carrito tiene leche\")"
      ],
      "metadata": {
        "id": "_6CHRMTs3eKz",
        "colab": {
          "base_uri": "https://localhost:8080/"
        },
        "outputId": "2112ef9e-2c1c-4d2c-e373-359914656002"
      },
      "execution_count": 2,
      "outputs": [
        {
          "output_type": "stream",
          "name": "stdout",
          "text": [
            "Tu carrito tiene leche\n"
          ]
        }
      ]
    },
    {
      "cell_type": "markdown",
      "source": [
        "Llena el código de abajo"
      ],
      "metadata": {
        "id": "mSgC-dUKL-lK"
      }
    },
    {
      "cell_type": "code",
      "source": [
        "if        :\n",
        "    print(\"Tu carrito no tiene frutas\")"
      ],
      "metadata": {
        "id": "te2r9C6DL8nF"
      },
      "execution_count": null,
      "outputs": []
    },
    {
      "cell_type": "markdown",
      "source": [
        "# Ejercicio 4\n",
        "\n",
        "Completa el código a continuación para escribir un bucle for que sume todos los números en una lista.\n",
        "\n",
        "Por ejemplo, si `numeros = [1, 2, 3]`, entonces la suma total será `6`."
      ],
      "metadata": {
        "id": "fSB4liCMPW73"
      }
    },
    {
      "cell_type": "code",
      "source": [
        "numeros = [3, 6, 8, 7, 1, 2]\n",
        "total = 0"
      ],
      "metadata": {
        "id": "fqrPPUiuPX4K"
      },
      "execution_count": 3,
      "outputs": []
    },
    {
      "cell_type": "code",
      "source": [],
      "metadata": {
        "id": "VSCqwLbpPooE"
      },
      "execution_count": null,
      "outputs": []
    },
    {
      "cell_type": "code",
      "source": [
        "print('Suma de los números:', total)"
      ],
      "metadata": {
        "id": "CwrrFVmdPqMA"
      },
      "execution_count": null,
      "outputs": []
    }
  ]
}