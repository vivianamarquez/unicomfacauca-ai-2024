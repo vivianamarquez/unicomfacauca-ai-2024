{
  "nbformat": 4,
  "nbformat_minor": 0,
  "metadata": {
    "colab": {
      "provenance": []
    },
    "kernelspec": {
      "name": "python3",
      "display_name": "Python 3"
    },
    "language_info": {
      "name": "python"
    }
  },
  "cells": [
    {
      "cell_type": "markdown",
      "source": [
        "# Ejercicio 1"
      ],
      "metadata": {
        "id": "ergVeSd_mW0O"
      }
    },
    {
      "cell_type": "code",
      "execution_count": null,
      "metadata": {
        "id": "9X4wWDzFmQs1"
      },
      "outputs": [],
      "source": [
        "nombre = \"Gabriel García Márquez\""
      ]
    },
    {
      "cell_type": "markdown",
      "source": [
        "1. Usando indexación, imprimir la primera letra del último apellido.\n",
        "\n",
        "2. Usando empalmes, imprimir el último apellido."
      ],
      "metadata": {
        "id": "aeUFgGUGmu0y"
      }
    },
    {
      "cell_type": "code",
      "source": [
        "print()\n",
        "print()"
      ],
      "metadata": {
        "id": "StFvDjbvmtLG"
      },
      "execution_count": null,
      "outputs": []
    },
    {
      "cell_type": "markdown",
      "source": [
        "# Ejercicio 2\n",
        "\n",
        "Piensa en alguna situación de tu vida diaria donde puedas aplicar las estructuras de datos que hemos aprendido: listas, tuplas, conjuntos y diccionarios. Puede ser cualquier ámbito como la escuela, deportes, un pasatiempo, una tarea doméstica, etc."
      ],
      "metadata": {
        "id": "j023guiG3dKb"
      }
    },
    {
      "cell_type": "markdown",
      "source": [
        "Implementa tu estructura en un código, explicando brevemente por qué elegiste esas estructuras y cómo te ayudan a organizar la información de manera eficiente."
      ],
      "metadata": {
        "id": "4u3s_5Rh39IZ"
      }
    },
    {
      "cell_type": "code",
      "source": [],
      "metadata": {
        "id": "_6CHRMTs3eKz"
      },
      "execution_count": null,
      "outputs": []
    }
  ]
}