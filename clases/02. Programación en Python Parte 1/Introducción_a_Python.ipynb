{
  "nbformat": 4,
  "nbformat_minor": 0,
  "metadata": {
    "colab": {
      "provenance": []
    },
    "kernelspec": {
      "name": "python3",
      "display_name": "Python 3"
    },
    "language_info": {
      "name": "python"
    }
  },
  "cells": [
    {
      "cell_type": "markdown",
      "source": [
        "# ¿Cómo decimos hola en Python? 🐍"
      ],
      "metadata": {
        "id": "48-hByjFwBcG"
      }
    },
    {
      "cell_type": "code",
      "source": [
        "print(\"¡Hola!\")"
      ],
      "metadata": {
        "colab": {
          "base_uri": "https://localhost:8080/"
        },
        "id": "ii6_Jy9nwBDW",
        "outputId": "b6fbbe18-46d2-4c13-cc3d-34f0a068ce59"
      },
      "execution_count": 2,
      "outputs": [
        {
          "output_type": "stream",
          "name": "stdout",
          "text": [
            "¡Hola!\n"
          ]
        }
      ]
    },
    {
      "cell_type": "code",
      "execution_count": 3,
      "metadata": {
        "colab": {
          "base_uri": "https://localhost:8080/"
        },
        "id": "rVioqgqMvJTD",
        "outputId": "ce0848b7-2e68-4196-ec06-3e59dbb82b2b"
      },
      "outputs": [
        {
          "output_type": "stream",
          "name": "stdout",
          "text": [
            "Hello World!\n"
          ]
        }
      ],
      "source": [
        "print(\"Hello World!\")"
      ]
    },
    {
      "cell_type": "markdown",
      "source": [
        "# Variables y tipos de datos en Python\n",
        "\n",
        "- Las variables son el lugar de almacenamiento y el nombre de un dato.\n",
        "- Puedes cambiar el valor de una variable en cualquier momento."
      ],
      "metadata": {
        "id": "PlmI6I7PwiAn"
      }
    },
    {
      "cell_type": "markdown",
      "source": [
        "### Tipos de datos básicos de Python:\n",
        "\n",
        "- `int`: Números enteros\n",
        "Ejemplo: `23`\n",
        "\n",
        "- `float`: Números decimales\n",
        "Ejemplo: `3.14`\n",
        "\n",
        "- `boolean`: Valor verdadero o falso (`True` | `False`)\n",
        "Ejemplo: `True`\n",
        "\n",
        "- `string`: Una cádena de caracteres entre comillas simples o dobles\n",
        "Ejemplo: `'python'` or `\"Hello World\"`"
      ],
      "metadata": {
        "id": "eM4pV9HYxS3I"
      }
    },
    {
      "cell_type": "code",
      "source": [
        "numero_favorito = 23"
      ],
      "metadata": {
        "id": "EOAU7D0YvRtQ"
      },
      "execution_count": 6,
      "outputs": []
    },
    {
      "cell_type": "markdown",
      "source": [
        "### 🤔 ¿Cuándo es mejor usar `int` (enteros)? ¿Cuándo es mejor usar `float` (decimales)?\n",
        "\n",
        "- Los enteros (`int`) son mejores para contar: -1, 1, 10, 8\n",
        "- Los decimales (`float`) son buenos para cálculos: 1.124, 10., -5.5"
      ],
      "metadata": {
        "id": "Tiq4tB-XyJYU"
      }
    },
    {
      "cell_type": "code",
      "source": [],
      "metadata": {
        "id": "UI4aCTxFyc2B"
      },
      "execution_count": null,
      "outputs": []
    },
    {
      "cell_type": "markdown",
      "source": [
        "### Booleanos\n",
        "\n",
        "- Los booleanos pueden tener solo dos valores: `True` (verdadero) o `False` (falso)\n",
        "- `True` no es lo mismo que true. La primera letra en mayúscula es importante."
      ],
      "metadata": {
        "id": "HudwFhK6yxmJ"
      }
    },
    {
      "cell_type": "code",
      "source": [
        "5 == 5"
      ],
      "metadata": {
        "colab": {
          "base_uri": "https://localhost:8080/"
        },
        "id": "Dc34Y0Dgysqk",
        "outputId": "4d9ff244-82e4-4cc8-9092-bf8ec7d84ea5"
      },
      "execution_count": 4,
      "outputs": [
        {
          "output_type": "execute_result",
          "data": {
            "text/plain": [
              "True"
            ]
          },
          "metadata": {},
          "execution_count": 4
        }
      ]
    },
    {
      "cell_type": "markdown",
      "source": [
        "### 🤔 ¿Qué tipo de datos tenemos?\n",
        "\n",
        "Puedes revisar que tipo de datos tenemos con la función incorporada `type()`"
      ],
      "metadata": {
        "id": "4660Fe_1zb_a"
      }
    },
    {
      "cell_type": "code",
      "source": [
        "type(True)"
      ],
      "metadata": {
        "colab": {
          "base_uri": "https://localhost:8080/"
        },
        "id": "l1PzHFGizPO2",
        "outputId": "108dd2c9-bc01-4471-fb25-b09ba407ef1f"
      },
      "execution_count": 5,
      "outputs": [
        {
          "output_type": "execute_result",
          "data": {
            "text/plain": [
              "bool"
            ]
          },
          "metadata": {},
          "execution_count": 5
        }
      ]
    },
    {
      "cell_type": "markdown",
      "source": [
        "# Repaso: ¿Qué es una variable?\n",
        "\n",
        "- Puedes pensar en las variables como un nombre unido a un valor\n",
        "- Para crear una variable en Python, no necesitamos asignar el tipo de antemano\n",
        "- Las variables nos ayudan a organizar todos los datos que nos rodean\n",
        "- Puedes llamar a la variable como quieras, pero es buena idea darles un nombre corto y descriptivo\n",
        "- El nombre de la variable no puede contener espacios ni comenzar con números, por lo general es en minúscula y con rayas al piso"
      ],
      "metadata": {
        "id": "yREcCdzIzvXU"
      }
    },
    {
      "cell_type": "markdown",
      "source": [
        "# Sintaxis aritmética\n",
        "\n",
        "En Python, hay algunas formas específicas de escribir fórmulas aritméticas. Para empezar, suma, resta y multiplicación son lo que podrías pensar."
      ],
      "metadata": {
        "id": "yhXdXxWG0eqE"
      }
    },
    {
      "cell_type": "code",
      "source": [
        "a = 20\n",
        "b = 10\n",
        "\n",
        "a1 = b + a\n",
        "a2 = a - b\n",
        "a3 = a * b\n",
        "\n",
        "print(a1)\n",
        "print(a2)\n",
        "print(a3)"
      ],
      "metadata": {
        "colab": {
          "base_uri": "https://localhost:8080/"
        },
        "id": "8ffVRvOnzura",
        "outputId": "09b7a8ab-0803-47f5-f9df-bc79ebab4865"
      },
      "execution_count": 7,
      "outputs": [
        {
          "output_type": "stream",
          "name": "stdout",
          "text": [
            "30\n",
            "10\n",
            "200\n"
          ]
        }
      ]
    },
    {
      "cell_type": "markdown",
      "source": [
        "Hay dos tipos de división."
      ],
      "metadata": {
        "id": "q4qFGSqg0tnZ"
      }
    },
    {
      "cell_type": "markdown",
      "source": [
        "División verdadera: utiliza un slash `/` y regresa como resultado un decimal"
      ],
      "metadata": {
        "id": "Zj5KuXx20vUh"
      }
    },
    {
      "cell_type": "code",
      "source": [
        "10 / 3"
      ],
      "metadata": {
        "colab": {
          "base_uri": "https://localhost:8080/"
        },
        "id": "n9WsVrnc0rjn",
        "outputId": "3f31eea5-d163-4baa-d91b-a1297d4ea975"
      },
      "execution_count": 8,
      "outputs": [
        {
          "output_type": "execute_result",
          "data": {
            "text/plain": [
              "3.3333333333333335"
            ]
          },
          "metadata": {},
          "execution_count": 8
        }
      ]
    },
    {
      "cell_type": "markdown",
      "source": [
        "División piso: usa dos slashes `//` y regresa un entero (el cociente de a y b eliminando las partes fraccionarias)"
      ],
      "metadata": {
        "id": "q2OCDWmd03EI"
      }
    },
    {
      "cell_type": "code",
      "source": [
        "10 // 3"
      ],
      "metadata": {
        "colab": {
          "base_uri": "https://localhost:8080/"
        },
        "id": "2PD1YwzD015W",
        "outputId": "1ab64fd4-addc-4a42-e54d-5c16becea221"
      },
      "execution_count": 9,
      "outputs": [
        {
          "output_type": "execute_result",
          "data": {
            "text/plain": [
              "3"
            ]
          },
          "metadata": {},
          "execution_count": 9
        }
      ]
    },
    {
      "cell_type": "markdown",
      "source": [
        "El signo de porcentaje `%` se llama **módulo**. Devuelve el resto tras la división de dos números"
      ],
      "metadata": {
        "id": "bTzw4VR51D2J"
      }
    },
    {
      "cell_type": "code",
      "source": [
        "10%3"
      ],
      "metadata": {
        "colab": {
          "base_uri": "https://localhost:8080/"
        },
        "id": "ceLg7kZp1AWA",
        "outputId": "c34e084f-154f-40d0-b9af-6867a31f3200"
      },
      "execution_count": 10,
      "outputs": [
        {
          "output_type": "execute_result",
          "data": {
            "text/plain": [
              "1"
            ]
          },
          "metadata": {},
          "execution_count": 10
        }
      ]
    },
    {
      "cell_type": "markdown",
      "source": [
        "Para utilizar exponentes, o elevar algo a una potencia, se utiliza un doble asterisco `**`.\n"
      ],
      "metadata": {
        "id": "QjdcILIo1ODT"
      }
    },
    {
      "cell_type": "code",
      "source": [
        "2**3"
      ],
      "metadata": {
        "colab": {
          "base_uri": "https://localhost:8080/"
        },
        "id": "xcFGg7Ex1Hog",
        "outputId": "c3e56f84-b808-4094-bb42-f9c62785f55a"
      },
      "execution_count": 11,
      "outputs": [
        {
          "output_type": "execute_result",
          "data": {
            "text/plain": [
              "8"
            ]
          },
          "metadata": {},
          "execution_count": 11
        }
      ]
    },
    {
      "cell_type": "markdown",
      "source": [
        "🤔 Intenta predecir cuál será la respuesta. A continuación, ejecuta el programa para comprobar tu respuesta."
      ],
      "metadata": {
        "id": "xoXCLyXN1TDo"
      }
    },
    {
      "cell_type": "code",
      "source": [
        "j = 1 + 2 * 3\n",
        "k = (1 + 2) * 3"
      ],
      "metadata": {
        "id": "C1tHUBho1Rmz"
      },
      "execution_count": 12,
      "outputs": []
    },
    {
      "cell_type": "code",
      "source": [
        "print(j)\n",
        "print(k)"
      ],
      "metadata": {
        "colab": {
          "base_uri": "https://localhost:8080/"
        },
        "id": "9AcDG4HZ1WUm",
        "outputId": "75b2d3f2-177e-4eb6-9f72-05e8755e76db"
      },
      "execution_count": 14,
      "outputs": [
        {
          "output_type": "stream",
          "name": "stdout",
          "text": [
            "7\n",
            "9\n"
          ]
        }
      ]
    },
    {
      "cell_type": "markdown",
      "source": [
        "# Comparaciones"
      ],
      "metadata": {
        "id": "Ddy3AJcT2K5z"
      }
    },
    {
      "cell_type": "markdown",
      "source": [
        "Dos signos iguales `==` comparan valores situados a ambos lados del mismo y deciden la relación entre ellos. Estos operadores se denominan operadores de comparación o relacionales.\n",
        "\n",
        "Los operadores de comparación devuelven booleanos. Los booleanos son valores `True` (verdadero) o `False` (falso)."
      ],
      "metadata": {
        "id": "_kmZnUk11uUB"
      }
    },
    {
      "cell_type": "code",
      "source": [
        "a = 10\n",
        "b = 20\n",
        "\n",
        "a==b"
      ],
      "metadata": {
        "colab": {
          "base_uri": "https://localhost:8080/"
        },
        "id": "3lBOFIoQ1Ywh",
        "outputId": "5c2fe13a-b8ad-45dc-8dac-7d04a6f17914"
      },
      "execution_count": 15,
      "outputs": [
        {
          "output_type": "execute_result",
          "data": {
            "text/plain": [
              "False"
            ]
          },
          "metadata": {},
          "execution_count": 15
        }
      ]
    },
    {
      "cell_type": "markdown",
      "source": [
        "No igual se representa con `!=`"
      ],
      "metadata": {
        "id": "06MtjJe92OEs"
      }
    },
    {
      "cell_type": "code",
      "source": [
        "10 != 20"
      ],
      "metadata": {
        "colab": {
          "base_uri": "https://localhost:8080/"
        },
        "id": "D8wTnfop2HL3",
        "outputId": "3089521a-58e3-4782-96c2-1d731d5234b3"
      },
      "execution_count": 16,
      "outputs": [
        {
          "output_type": "execute_result",
          "data": {
            "text/plain": [
              "True"
            ]
          },
          "metadata": {},
          "execution_count": 16
        }
      ]
    },
    {
      "cell_type": "markdown",
      "source": [
        "Signos menor que `<` y mayor que `>`"
      ],
      "metadata": {
        "id": "fOmKvhb92W6L"
      }
    },
    {
      "cell_type": "code",
      "source": [],
      "metadata": {
        "id": "wJfdUbUx2T8l"
      },
      "execution_count": null,
      "outputs": []
    },
    {
      "cell_type": "markdown",
      "source": [
        "Signos menor o igual que `<=` y mayor o igual que `>=`"
      ],
      "metadata": {
        "id": "yOb8CPJd2Y5u"
      }
    },
    {
      "cell_type": "code",
      "source": [],
      "metadata": {
        "id": "TFyZosHf2cFV"
      },
      "execution_count": null,
      "outputs": []
    },
    {
      "cell_type": "markdown",
      "source": [
        "# Operadores lógicos\n",
        "\n",
        "De mayor precedencia a menor es: `NOT` (no), `AND` (y), `OR` (ó)"
      ],
      "metadata": {
        "id": "eFmt7_mA2et2"
      }
    },
    {
      "cell_type": "markdown",
      "source": [
        "El operador `AND` (y) sólo es verdadero si ambos argumentos son verdaderos"
      ],
      "metadata": {
        "id": "uml2x9aZ2qlC"
      }
    },
    {
      "cell_type": "code",
      "source": [
        "print(True and True)\n",
        "print(True and False)\n",
        "print(False and True)\n",
        "print(False and False)"
      ],
      "metadata": {
        "colab": {
          "base_uri": "https://localhost:8080/"
        },
        "id": "t-qedAH42n17",
        "outputId": "66966366-45cd-4c3a-bf04-2319c0b239d5"
      },
      "execution_count": 17,
      "outputs": [
        {
          "output_type": "stream",
          "name": "stdout",
          "text": [
            "True\n",
            "False\n",
            "False\n",
            "False\n"
          ]
        }
      ]
    },
    {
      "cell_type": "markdown",
      "source": [
        "El operador `OR` (ó) es verdadero si cualquiera de los argumentos es verdadero"
      ],
      "metadata": {
        "id": "hBjeCt7K2ual"
      }
    },
    {
      "cell_type": "code",
      "source": [
        "print(True or True)\n",
        "print(True or False)\n",
        "print(False or True)\n",
        "print(False or False)"
      ],
      "metadata": {
        "colab": {
          "base_uri": "https://localhost:8080/"
        },
        "id": "HlQDgWWw2tud",
        "outputId": "0c7ab7bf-e0cc-4f86-8689-693cdf354d98"
      },
      "execution_count": 18,
      "outputs": [
        {
          "output_type": "stream",
          "name": "stdout",
          "text": [
            "True\n",
            "True\n",
            "True\n",
            "False\n"
          ]
        }
      ]
    },
    {
      "cell_type": "markdown",
      "source": [
        "El operador `NOT` (no) se utiliza para invertir el estado lógico de a y b"
      ],
      "metadata": {
        "id": "h0sMFgh9213N"
      }
    },
    {
      "cell_type": "code",
      "source": [
        "print(not(True))\n",
        "print(not(False))"
      ],
      "metadata": {
        "colab": {
          "base_uri": "https://localhost:8080/"
        },
        "id": "0NkIBgSv2zj0",
        "outputId": "3bf9c426-27ad-4cbc-e692-ba6025d8842f"
      },
      "execution_count": 19,
      "outputs": [
        {
          "output_type": "stream",
          "name": "stdout",
          "text": [
            "False\n",
            "True\n"
          ]
        }
      ]
    },
    {
      "cell_type": "markdown",
      "source": [
        "# ⚠️ Errores comunes"
      ],
      "metadata": {
        "id": "d_-6ZPx625Fv"
      }
    },
    {
      "cell_type": "code",
      "source": [
        "'Hola' + 5"
      ],
      "metadata": {
        "colab": {
          "base_uri": "https://localhost:8080/",
          "height": 141
        },
        "id": "Pqan-sgv24bW",
        "outputId": "a02d047d-6288-4e7a-955a-ca0b28ec07ec"
      },
      "execution_count": 20,
      "outputs": [
        {
          "output_type": "error",
          "ename": "TypeError",
          "evalue": "can only concatenate str (not \"int\") to str",
          "traceback": [
            "\u001b[0;31m---------------------------------------------------------------------------\u001b[0m",
            "\u001b[0;31mTypeError\u001b[0m                                 Traceback (most recent call last)",
            "\u001b[0;32m<ipython-input-20-5581df9b7060>\u001b[0m in \u001b[0;36m<cell line: 1>\u001b[0;34m()\u001b[0m\n\u001b[0;32m----> 1\u001b[0;31m \u001b[0;34m'Hi'\u001b[0m \u001b[0;34m+\u001b[0m \u001b[0;36m5\u001b[0m\u001b[0;34m\u001b[0m\u001b[0;34m\u001b[0m\u001b[0m\n\u001b[0m",
            "\u001b[0;31mTypeError\u001b[0m: can only concatenate str (not \"int\") to str"
          ]
        }
      ]
    },
    {
      "cell_type": "code",
      "source": [
        "\"5.5\" + 5.5"
      ],
      "metadata": {
        "colab": {
          "base_uri": "https://localhost:8080/",
          "height": 141
        },
        "id": "WVYpEmW5282o",
        "outputId": "9da8658b-4f4f-43fd-8fa1-34270aa75cc7"
      },
      "execution_count": 21,
      "outputs": [
        {
          "output_type": "error",
          "ename": "TypeError",
          "evalue": "can only concatenate str (not \"float\") to str",
          "traceback": [
            "\u001b[0;31m---------------------------------------------------------------------------\u001b[0m",
            "\u001b[0;31mTypeError\u001b[0m                                 Traceback (most recent call last)",
            "\u001b[0;32m<ipython-input-21-2fade83fceb8>\u001b[0m in \u001b[0;36m<cell line: 1>\u001b[0;34m()\u001b[0m\n\u001b[0;32m----> 1\u001b[0;31m \u001b[0;34m\"5.5\"\u001b[0m \u001b[0;34m+\u001b[0m \u001b[0;36m5.5\u001b[0m\u001b[0;34m\u001b[0m\u001b[0;34m\u001b[0m\u001b[0m\n\u001b[0m",
            "\u001b[0;31mTypeError\u001b[0m: can only concatenate str (not \"float\") to str"
          ]
        }
      ]
    },
    {
      "cell_type": "code",
      "source": [
        "5.5 + 3"
      ],
      "metadata": {
        "colab": {
          "base_uri": "https://localhost:8080/"
        },
        "id": "CfpK3KHz2_EY",
        "outputId": "1e8860ff-9850-49e8-dc29-bc5957aae842"
      },
      "execution_count": 22,
      "outputs": [
        {
          "output_type": "execute_result",
          "data": {
            "text/plain": [
              "8.5"
            ]
          },
          "metadata": {},
          "execution_count": 22
        }
      ]
    },
    {
      "cell_type": "code",
      "source": [
        "\"3\"+\"4\""
      ],
      "metadata": {
        "colab": {
          "base_uri": "https://localhost:8080/",
          "height": 35
        },
        "id": "A_x-D7DJ3Agp",
        "outputId": "a91bfbfb-aa56-40be-da9f-7b3ba9dfce9f"
      },
      "execution_count": 23,
      "outputs": [
        {
          "output_type": "execute_result",
          "data": {
            "text/plain": [
              "'34'"
            ],
            "application/vnd.google.colaboratory.intrinsic+json": {
              "type": "string"
            }
          },
          "metadata": {},
          "execution_count": 23
        }
      ]
    },
    {
      "cell_type": "markdown",
      "source": [
        "\n",
        "\n",
        "---\n",
        "\n",
        "\n",
        "# TALLER\n",
        "Entrega: Agosto 19\n",
        "\n",
        "\n",
        "---\n",
        "\n"
      ],
      "metadata": {
        "id": "gRE7fPXY4Pty"
      }
    },
    {
      "cell_type": "markdown",
      "source": [
        "## Ejercicio # 1\n",
        "\n",
        "El día escolar es de siete horas y media, lo que incluye una hora para el almuerzo. Estás tomando 5 clases. Escribe una ecuación para averiguar cuántas horas pasas en cada clase.\n",
        "\n",
        "• Piénsalo: ¿qué tipo de división querrás usar? ¿Por qué?"
      ],
      "metadata": {
        "id": "VhU04Sgw_N0b"
      }
    },
    {
      "cell_type": "code",
      "source": [
        "horas_dia_escolar =\n",
        "hora_almuerzo =\n",
        "numero_de_clases ="
      ],
      "metadata": {
        "id": "BRfHgOL54Sri"
      },
      "execution_count": null,
      "outputs": []
    },
    {
      "cell_type": "code",
      "source": [
        "hora_de_cada_clase ="
      ],
      "metadata": {
        "id": "pkBehUbk_aUv"
      },
      "execution_count": null,
      "outputs": []
    },
    {
      "cell_type": "code",
      "source": [
        "print(f\"Paso {hora_de_cada_clase} horas en cada clase\")"
      ],
      "metadata": {
        "id": "cFuNhk33_Vxv"
      },
      "execution_count": null,
      "outputs": []
    },
    {
      "cell_type": "markdown",
      "source": [
        "# Ejercicio # 2\n",
        "\n",
        "Encuentras 26 monedas mientras caminas hacia la universidad y decides dividirlas en partes iguales entre tú y tus 3 amigos más cercanos. Escribe una expresión que te diga cuántas monedas sobran después de la división."
      ],
      "metadata": {
        "id": "5AegiOD3_8d_"
      }
    },
    {
      "cell_type": "code",
      "source": [
        "total_monedas =\n",
        "numero_personas ="
      ],
      "metadata": {
        "id": "B1v8ZaOu_-EV"
      },
      "execution_count": null,
      "outputs": []
    },
    {
      "cell_type": "code",
      "source": [
        "sobrantes ="
      ],
      "metadata": {
        "id": "R7oEALcrAGtb"
      },
      "execution_count": null,
      "outputs": []
    },
    {
      "cell_type": "code",
      "source": [
        "print(f\"Quedan {sobrantes} monedas sobrantes.\")"
      ],
      "metadata": {
        "id": "JWv5ym-PAIwA"
      },
      "execution_count": null,
      "outputs": []
    }
  ]
}