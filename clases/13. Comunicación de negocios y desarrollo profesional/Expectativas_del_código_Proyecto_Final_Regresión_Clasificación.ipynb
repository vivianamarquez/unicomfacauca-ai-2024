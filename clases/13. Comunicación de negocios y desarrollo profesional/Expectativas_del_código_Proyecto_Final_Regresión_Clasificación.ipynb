{
  "nbformat": 4,
  "nbformat_minor": 0,
  "metadata": {
    "colab": {
      "provenance": []
    },
    "kernelspec": {
      "name": "python3",
      "display_name": "Python 3"
    },
    "language_info": {
      "name": "python"
    }
  },
  "cells": [
    {
      "cell_type": "markdown",
      "source": [
        "\n",
        "# 1. Definir claramente el objetivo del proyecto y la naturaleza de los datos\n",
        "\n",
        "- Esto incluye definir claramente cuál es la variable objetivo y el tipo de tarea de machine learning (regresión o clasificación)"
      ],
      "metadata": {
        "id": "7MKfxNc53ULa"
      }
    },
    {
      "cell_type": "markdown",
      "source": [
        "# 2. Cargar los datos"
      ],
      "metadata": {
        "id": "03TAdPpo4VeA"
      }
    },
    {
      "cell_type": "markdown",
      "source": [
        "# 3. Análisis Exploratorio de Datos\n"
      ],
      "metadata": {
        "id": "Y8gslXxe4_A2"
      }
    },
    {
      "cell_type": "markdown",
      "source": [
        "# 4. ⚠️ Dividir datos en entrenamiento (train) y prueba (test) ⚠️\n"
      ],
      "metadata": {
        "id": "cSngP1Wc_5hN"
      }
    },
    {
      "cell_type": "markdown",
      "source": [
        "# 5. Ingeniería de características (sí es aplicable)\n"
      ],
      "metadata": {
        "id": "jChS0r3nBOTW"
      }
    },
    {
      "cell_type": "markdown",
      "source": [
        "# 6. Entrenar diferentes modelos\n",
        "\n",
        "Si es una tarea de regresión, espero mínimo los siguientes modelos:\n",
        "- Regresión Lineal\n",
        "- Árbol de Decisión\n",
        "- Random Forest (Ensamble)\n",
        "- Gradient Boosting (Ensamble)\n",
        "\n",
        "Si es una tarea de clasificación, espero mínimo los siguientes modelos:\n",
        "- Regresión logística\n",
        "- Máquina de vectores de soporte (SVM)\n",
        "- Random Forest (Ensamble)\n",
        "- Gradient Boosting (Ensamble)"
      ],
      "metadata": {
        "id": "B9DUGODTFa8t"
      }
    },
    {
      "cell_type": "markdown",
      "source": [
        "# 7. Evaluación del modelo - métricas de rendimiento\n",
        "\n",
        "Si es una tarea de regresión:\n",
        "- RMSE y R2\n",
        "\n",
        "Si es una tarea de clasificación:\n",
        "- Exactitud, Precisión, Sensibilidad, F1"
      ],
      "metadata": {
        "id": "k4esLHDaGdqF"
      }
    },
    {
      "cell_type": "markdown",
      "source": [
        "# 8. Escoger el mejor modelo usando las métricas de rendimiento\n",
        "\n",
        "Escoger el modelo que tenga las mejores métricas de rendimiento y **explicar** qué significan esas métricas de rendimiento"
      ],
      "metadata": {
        "id": "FghMF9I-lpKy"
      }
    },
    {
      "cell_type": "markdown",
      "source": [
        "# 9. Interpretando el modelo\n",
        "\n",
        "- Si el mejor modelo fue la regresión lineal, explicar sus coeficientes.\n",
        "\n",
        "- Si el mejor modelo fue Random Forest o Gradient Boosting, obtener la importancia de las características y darles su respectiva interpretación."
      ],
      "metadata": {
        "id": "rCcAEzwum6_k"
      }
    },
    {
      "cell_type": "markdown",
      "source": [
        "# 10. Incluir recomendaciones de negocio"
      ],
      "metadata": {
        "id": "nJ2To1LGoLAu"
      }
    }
  ]
}