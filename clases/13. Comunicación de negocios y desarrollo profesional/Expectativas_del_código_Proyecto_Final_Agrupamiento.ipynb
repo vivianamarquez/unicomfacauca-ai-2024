{
  "nbformat": 4,
  "nbformat_minor": 0,
  "metadata": {
    "colab": {
      "provenance": []
    },
    "kernelspec": {
      "name": "python3",
      "display_name": "Python 3"
    },
    "language_info": {
      "name": "python"
    }
  },
  "cells": [
    {
      "cell_type": "markdown",
      "source": [
        "\n",
        "# 1. Definir claramente el objetivo del proyecto y la naturaleza de los datos\n"
      ],
      "metadata": {
        "id": "7MKfxNc53ULa"
      }
    },
    {
      "cell_type": "markdown",
      "source": [
        "# 2. Cargar los datos"
      ],
      "metadata": {
        "id": "03TAdPpo4VeA"
      }
    },
    {
      "cell_type": "markdown",
      "source": [
        "# 3. Análisis Exploratorio de Datos\n"
      ],
      "metadata": {
        "id": "Y8gslXxe4_A2"
      }
    },
    {
      "cell_type": "markdown",
      "source": [
        "# 5. Ingeniería de características (sí es aplicable)\n"
      ],
      "metadata": {
        "id": "jChS0r3nBOTW"
      }
    },
    {
      "cell_type": "markdown",
      "source": [
        "# 6. Encoger $K$ usando el método del codo\n"
      ],
      "metadata": {
        "id": "B9DUGODTFa8t"
      }
    },
    {
      "cell_type": "markdown",
      "source": [
        "# 7. Entrenar el modelo $K$-Medias con el mejor valor de $k$ según el paso anterior"
      ],
      "metadata": {
        "id": "HOivE0qtqwDM"
      }
    },
    {
      "cell_type": "markdown",
      "source": [
        "# 8. Visualizar los resultados y darle una explicación a cada uno de los grupos creados por el modelo"
      ],
      "metadata": {
        "id": "FghMF9I-lpKy"
      }
    },
    {
      "cell_type": "markdown",
      "source": [
        "# 9. Incluir recomendaciones de negocio"
      ],
      "metadata": {
        "id": "nJ2To1LGoLAu"
      }
    }
  ]
}